{
 "cells": [
  {
   "cell_type": "markdown",
   "metadata": {
    "id": "qqTi5Fml2-yA"
   },
   "source": [
    "# **Case Study: Yelp Restaurant Recommendation System Part 2**\n",
    "\n",
    "---------------\n",
    "## **Context**\n",
    "---------------\n",
    "\n",
    "**Yelp** was founded in **2004** to help people find **great local businesses**. Today, the website and their mobile application publish crowd-sourced reviews about local businesses as well as certain metadata about them that can help in customer's **decision-making process**. Yelp uses automated software to recommend the **most helpful** and **reliable reviews** for the Yelp community from such a large and diverse dataset.\n",
    "\n",
    "The Yelp dataset is a large collection of user reviews, business metadata, business check-ins, users' social network data, user tips for businesses across 10 cities spread across **4 countries**. The original dataset is very huge with ~ 11GB of data. In this case study, we will only use a subset of data due to hardware limitations.\n",
    "\n",
    "-----------------\n",
    "## **Objective**\n",
    "-----------------\n",
    "\n",
    "In this case study, we will build three types of recommendation systems: \n",
    "- **Clustering-based recommendation system**\n",
    "- **Content-based collaborative filtering**\n",
    "\n",
    "-----------------\n",
    "## **Dataset**\n",
    "-----------------\n",
    "\n",
    "We will only use the following four attributes from the **yelp_reviews dataset**: \n",
    "- business_id\n",
    "- business_name\n",
    "- stars\n",
    "- user_id\n",
    "- text: The text review by the user"
   ]
  },
  {
   "cell_type": "markdown",
   "metadata": {
    "id": "G40aqxR2mRoj"
   },
   "source": [
    "## **Importing the necessary libraries and overview of the dataset**"
   ]
  },
  {
   "cell_type": "code",
   "execution_count": 1,
   "metadata": {
    "ExecuteTime": {
     "end_time": "2023-05-15T13:52:04.265304Z",
     "start_time": "2023-05-15T13:52:03.674539Z"
    },
    "id": "SQmnGOA6EhK7"
   },
   "outputs": [],
   "source": [
    "# Importing necessary libraries\n",
    "\n",
    "import warnings                                               # Used to ignore the warnings in the error message\n",
    "warnings.filterwarnings('ignore')\n",
    "\n",
    "import numpy as np                                            # A basic python package for numerical operations\n",
    "import pandas as pd                                           # A python library to process and do computations on the data frames\n",
    "\n",
    "import matplotlib.pyplot as plt                               # A basic library to do data visualizations\n",
    "import seaborn as sns                                         # A slightly advanced one for data visualization\n",
    "from collections import defaultdict                           # A dictionary output that does not raise a key error\n",
    "from sklearn.metrics.pairwise import cosine_similarity        # To compute the cosine similarity between vectors\n",
    "from sklearn.preprocessing import LabelEncoder                # To do label encoding"
   ]
  },
  {
   "cell_type": "markdown",
   "metadata": {
    "id": "DjXGnY4G2-yG"
   },
   "source": [
    "### **Loading the data**"
   ]
  },
  {
   "cell_type": "code",
   "execution_count": 2,
   "metadata": {
    "ExecuteTime": {
     "end_time": "2023-05-15T13:52:05.789755Z",
     "start_time": "2023-05-15T13:52:04.266213Z"
    },
    "colab": {
     "base_uri": "https://localhost:8080/",
     "height": 206
    },
    "id": "aSWJzW1dmRok",
    "outputId": "46923c77-f8ff-416b-be51-94bfa73a032c"
   },
   "outputs": [
    {
     "data": {
      "text/html": [
       "<div><div id=59151c9f-e6e6-493d-90f8-2be4e7c671b3 style=\"display:none; background-color:#9D6CFF; color:white; width:200px; height:30px; padding-left:5px; border-radius:4px; flex-direction:row; justify-content:space-around; align-items:center;\" onmouseover=\"this.style.backgroundColor='#BA9BF8'\" onmouseout=\"this.style.backgroundColor='#9D6CFF'\" onclick=\"window.commands?.execute('create-mitosheet-from-dataframe-output');\">See Full Dataframe in Mito</div> <script> if (window.commands?.hasCommand('create-mitosheet-from-dataframe-output')) document.getElementById('59151c9f-e6e6-493d-90f8-2be4e7c671b3').style.display = 'flex' </script> <table border=\"1\" class=\"dataframe\">\n",
       "  <thead>\n",
       "    <tr style=\"text-align: right;\">\n",
       "      <th></th>\n",
       "      <th>business_id</th>\n",
       "      <th>business_name</th>\n",
       "      <th>stars</th>\n",
       "      <th>text</th>\n",
       "      <th>user_id</th>\n",
       "    </tr>\n",
       "  </thead>\n",
       "  <tbody>\n",
       "    <tr>\n",
       "      <th>0</th>\n",
       "      <td>9yKzy9PApeiPPOUJEtnvkg</td>\n",
       "      <td>Morning Glory Cafe</td>\n",
       "      <td>5</td>\n",
       "      <td>My wife took me here on my birthday for breakfast and it was excellent.  The weather was perfect which made sitting outside overlooking their grounds an absolute pleasure.  Our waitress was excellent and our food arrived quickly on the semi-busy Saturday morning.  It looked like the place fills up pretty quickly so the earlier you get here the better.\\n\\nDo yourself a favor and get their Bloody Mary.  It was phenomenal and simply the best I've ever had.  I'm pretty sure they only use ingredients from their garden and blend them fresh when you order it.  It was amazing.\\n\\nWhile EVERYTHING on the menu looks excellent, I had the white truffle scrambled eggs vegetable skillet and it was tasty and delicious.  It came with 2 pieces of their griddled bread with was amazing and it absolutely made the meal complete.  It was the best \"toast\" I've ever had.\\n\\nAnyway, I can't wait to go back!</td>\n",
       "      <td>rLtl8ZkDX5vH5nAx9C3q5Q</td>\n",
       "    </tr>\n",
       "    <tr>\n",
       "      <th>1</th>\n",
       "      <td>ZRJwVLyzEJq1VAihDhYiow</td>\n",
       "      <td>Spinato's Pizzeria</td>\n",
       "      <td>5</td>\n",
       "      <td>I have no idea why some people give bad reviews about this place. It goes to show you, you can please everyone. They are probably griping about something that their own fault...there are many people like that.\\n\\nIn any case, my friend and I arrived at about 5:50 PM this past Sunday. It was pretty crowded, more than I thought for a Sunday evening and thought we would have to wait forever to get a seat but they said we'll be seated when the girl comes back from seating someone else. We were seated at 5:52 and the waiter came and got our drink orders. Everyone was very pleasant from the host that seated us to the waiter to the server. The prices were very good as well. We placed our orders once we decided what we wanted at 6:02. We shared the baked spaghetti calzone and the small \"Here's The Beef\" pizza so we can both try them. The calzone was huge and we got the smallest one (personal) and got the small 11\" pizza. Both were awesome! My friend liked the pizza better and I liked the calzone better. The calzone does have a sweetish sauce but that's how I like my sauce!\\n\\nWe had to box part of the pizza to take it home and we were out the door by 6:42. So, everything was great and not like these bad reviewers. That goes to show you that  you have to try these things yourself because all these bad reviewers have some serious issues.</td>\n",
       "      <td>0a2KyEL0d3Yb1V6aivbIuQ</td>\n",
       "    </tr>\n",
       "    <tr>\n",
       "      <th>2</th>\n",
       "      <td>6oRAC4uyJCsJl1X0WZpVSA</td>\n",
       "      <td>Haji-Baba</td>\n",
       "      <td>4</td>\n",
       "      <td>love the gyro plate. Rice is so good and I also dig their candy selection :)</td>\n",
       "      <td>0hT2KtfLiobPvh6cDC8JQg</td>\n",
       "    </tr>\n",
       "    <tr>\n",
       "      <th>3</th>\n",
       "      <td>_1QQZuf4zZOyFCvXc0o6Vg</td>\n",
       "      <td>Chaparral Dog Park</td>\n",
       "      <td>5</td>\n",
       "      <td>Rosie, Dakota, and I LOVE Chaparral Dog Park!!! It's very convenient and surrounded by a lot of paths, a desert xeriscape, baseball fields, ballparks, and a lake with ducks.\\n\\nThe Scottsdale Park and Rec Dept. does a wonderful job of keeping the park clean and shaded.  You can find trash cans and poopy-pick up mitts located all over the park and paths.\\n\\nThe fenced in area is huge to let the dogs run, play, and sniff!</td>\n",
       "      <td>uZetl9T0NcROGOyFfughhg</td>\n",
       "    </tr>\n",
       "    <tr>\n",
       "      <th>4</th>\n",
       "      <td>6ozycU1RpktNG2-1BroVtw</td>\n",
       "      <td>Discount Tire</td>\n",
       "      <td>5</td>\n",
       "      <td>General Manager Scott Petello is a good egg!!! Not to go into detail, but let me assure you if you have any issues (albeit rare) speak with Scott and treat the guy with some respect as you state your case and I'd be surprised if you don't walk out totally satisfied as I just did. Like I always say..... \"Mistakes are inevitable, it's how we recover from them that is important\"!!!\\n\\nThanks to Scott and his awesome staff. You've got a customer for life!! .......... :^)</td>\n",
       "      <td>vYmM4KTsC8ZfQBg-j5MWkw</td>\n",
       "    </tr>\n",
       "  </tbody>\n",
       "</table></div>"
      ],
      "text/plain": [
       "              business_id       business_name  stars  \\\n",
       "0  9yKzy9PApeiPPOUJEtnvkg  Morning Glory Cafe      5   \n",
       "1  ZRJwVLyzEJq1VAihDhYiow  Spinato's Pizzeria      5   \n",
       "2  6oRAC4uyJCsJl1X0WZpVSA           Haji-Baba      4   \n",
       "3  _1QQZuf4zZOyFCvXc0o6Vg  Chaparral Dog Park      5   \n",
       "4  6ozycU1RpktNG2-1BroVtw       Discount Tire      5   \n",
       "\n",
       "                                                text                 user_id  \n",
       "0  My wife took me here on my birthday for breakf...  rLtl8ZkDX5vH5nAx9C3q5Q  \n",
       "1  I have no idea why some people give bad review...  0a2KyEL0d3Yb1V6aivbIuQ  \n",
       "2  love the gyro plate. Rice is so good and I als...  0hT2KtfLiobPvh6cDC8JQg  \n",
       "3  Rosie, Dakota, and I LOVE Chaparral Dog Park!!...  uZetl9T0NcROGOyFfughhg  \n",
       "4  General Manager Scott Petello is a good egg!!!...  vYmM4KTsC8ZfQBg-j5MWkw  "
      ]
     },
     "execution_count": 2,
     "metadata": {},
     "output_type": "execute_result"
    }
   ],
   "source": [
    "# Import the dataset\n",
    "reviews = pd.read_csv('yelp_reviews.csv', usecols = ['user_id', 'business_id', 'business_name', 'stars', 'text'])\n",
    "\n",
    "# See the first 5 records of the dataset\n",
    "reviews.head()"
   ]
  },
  {
   "cell_type": "code",
   "execution_count": 3,
   "metadata": {
    "ExecuteTime": {
     "end_time": "2023-05-15T13:52:05.866517Z",
     "start_time": "2023-05-15T13:52:05.791175Z"
    },
    "colab": {
     "base_uri": "https://localhost:8080/"
    },
    "id": "62AzehV-jjEt",
    "outputId": "86dc8fa8-8d8e-49f3-a4c9-f49075b16900"
   },
   "outputs": [
    {
     "name": "stdout",
     "output_type": "stream",
     "text": [
      "<class 'pandas.core.frame.DataFrame'>\n",
      "RangeIndex: 229907 entries, 0 to 229906\n",
      "Data columns (total 5 columns):\n",
      " #   Column         Non-Null Count   Dtype \n",
      "---  ------         --------------   ----- \n",
      " 0   business_id    229907 non-null  object\n",
      " 1   business_name  229907 non-null  object\n",
      " 2   stars          229907 non-null  int64 \n",
      " 3   text           229901 non-null  object\n",
      " 4   user_id        229907 non-null  object\n",
      "dtypes: int64(1), object(4)\n",
      "memory usage: 8.8+ MB\n"
     ]
    }
   ],
   "source": [
    "# Check the info of the data\n",
    "reviews.info()"
   ]
  },
  {
   "cell_type": "markdown",
   "metadata": {
    "id": "-C0UQ3UiAHgR"
   },
   "source": [
    "- There are **2,29,907 observations and 5 columns** in the data.\n",
    "- There are **no missing values** in the data.\n",
    "- All the **columns are of object data type except the stars column** which is of numeric data type."
   ]
  },
  {
   "cell_type": "markdown",
   "metadata": {
    "id": "FFbQ0m-b2LRH"
   },
   "source": [
    "## **Data Exploration**\n",
    "\n",
    "Let's start with the data exploration.\n",
    "\n",
    "**Print the top 5 rows of the dataset and describe the dataset.**  "
   ]
  },
  {
   "cell_type": "code",
   "execution_count": 4,
   "metadata": {
    "ExecuteTime": {
     "end_time": "2023-05-15T13:52:05.871334Z",
     "start_time": "2023-05-15T13:52:05.867528Z"
    },
    "colab": {
     "base_uri": "https://localhost:8080/",
     "height": 206
    },
    "id": "9ufxAfJA2LRI",
    "outputId": "020ccc78-451f-40e1-a4d8-cb6d9f011b56"
   },
   "outputs": [
    {
     "data": {
      "text/html": [
       "<div><div id=7f8ba895-ebea-4341-a8c9-19cbc4f7f01c style=\"display:none; background-color:#9D6CFF; color:white; width:200px; height:30px; padding-left:5px; border-radius:4px; flex-direction:row; justify-content:space-around; align-items:center;\" onmouseover=\"this.style.backgroundColor='#BA9BF8'\" onmouseout=\"this.style.backgroundColor='#9D6CFF'\" onclick=\"window.commands?.execute('create-mitosheet-from-dataframe-output');\">See Full Dataframe in Mito</div> <script> if (window.commands?.hasCommand('create-mitosheet-from-dataframe-output')) document.getElementById('7f8ba895-ebea-4341-a8c9-19cbc4f7f01c').style.display = 'flex' </script> <table border=\"1\" class=\"dataframe\">\n",
       "  <thead>\n",
       "    <tr style=\"text-align: right;\">\n",
       "      <th></th>\n",
       "      <th>business_id</th>\n",
       "      <th>business_name</th>\n",
       "      <th>stars</th>\n",
       "      <th>text</th>\n",
       "      <th>user_id</th>\n",
       "    </tr>\n",
       "  </thead>\n",
       "  <tbody>\n",
       "    <tr>\n",
       "      <th>0</th>\n",
       "      <td>9yKzy9PApeiPPOUJEtnvkg</td>\n",
       "      <td>Morning Glory Cafe</td>\n",
       "      <td>5</td>\n",
       "      <td>My wife took me here on my birthday for breakfast and it was excellent.  The weather was perfect which made sitting outside overlooking their grounds an absolute pleasure.  Our waitress was excellent and our food arrived quickly on the semi-busy Saturday morning.  It looked like the place fills up pretty quickly so the earlier you get here the better.\\n\\nDo yourself a favor and get their Bloody Mary.  It was phenomenal and simply the best I've ever had.  I'm pretty sure they only use ingredients from their garden and blend them fresh when you order it.  It was amazing.\\n\\nWhile EVERYTHING on the menu looks excellent, I had the white truffle scrambled eggs vegetable skillet and it was tasty and delicious.  It came with 2 pieces of their griddled bread with was amazing and it absolutely made the meal complete.  It was the best \"toast\" I've ever had.\\n\\nAnyway, I can't wait to go back!</td>\n",
       "      <td>rLtl8ZkDX5vH5nAx9C3q5Q</td>\n",
       "    </tr>\n",
       "    <tr>\n",
       "      <th>1</th>\n",
       "      <td>ZRJwVLyzEJq1VAihDhYiow</td>\n",
       "      <td>Spinato's Pizzeria</td>\n",
       "      <td>5</td>\n",
       "      <td>I have no idea why some people give bad reviews about this place. It goes to show you, you can please everyone. They are probably griping about something that their own fault...there are many people like that.\\n\\nIn any case, my friend and I arrived at about 5:50 PM this past Sunday. It was pretty crowded, more than I thought for a Sunday evening and thought we would have to wait forever to get a seat but they said we'll be seated when the girl comes back from seating someone else. We were seated at 5:52 and the waiter came and got our drink orders. Everyone was very pleasant from the host that seated us to the waiter to the server. The prices were very good as well. We placed our orders once we decided what we wanted at 6:02. We shared the baked spaghetti calzone and the small \"Here's The Beef\" pizza so we can both try them. The calzone was huge and we got the smallest one (personal) and got the small 11\" pizza. Both were awesome! My friend liked the pizza better and I liked the calzone better. The calzone does have a sweetish sauce but that's how I like my sauce!\\n\\nWe had to box part of the pizza to take it home and we were out the door by 6:42. So, everything was great and not like these bad reviewers. That goes to show you that  you have to try these things yourself because all these bad reviewers have some serious issues.</td>\n",
       "      <td>0a2KyEL0d3Yb1V6aivbIuQ</td>\n",
       "    </tr>\n",
       "    <tr>\n",
       "      <th>2</th>\n",
       "      <td>6oRAC4uyJCsJl1X0WZpVSA</td>\n",
       "      <td>Haji-Baba</td>\n",
       "      <td>4</td>\n",
       "      <td>love the gyro plate. Rice is so good and I also dig their candy selection :)</td>\n",
       "      <td>0hT2KtfLiobPvh6cDC8JQg</td>\n",
       "    </tr>\n",
       "    <tr>\n",
       "      <th>3</th>\n",
       "      <td>_1QQZuf4zZOyFCvXc0o6Vg</td>\n",
       "      <td>Chaparral Dog Park</td>\n",
       "      <td>5</td>\n",
       "      <td>Rosie, Dakota, and I LOVE Chaparral Dog Park!!! It's very convenient and surrounded by a lot of paths, a desert xeriscape, baseball fields, ballparks, and a lake with ducks.\\n\\nThe Scottsdale Park and Rec Dept. does a wonderful job of keeping the park clean and shaded.  You can find trash cans and poopy-pick up mitts located all over the park and paths.\\n\\nThe fenced in area is huge to let the dogs run, play, and sniff!</td>\n",
       "      <td>uZetl9T0NcROGOyFfughhg</td>\n",
       "    </tr>\n",
       "    <tr>\n",
       "      <th>4</th>\n",
       "      <td>6ozycU1RpktNG2-1BroVtw</td>\n",
       "      <td>Discount Tire</td>\n",
       "      <td>5</td>\n",
       "      <td>General Manager Scott Petello is a good egg!!! Not to go into detail, but let me assure you if you have any issues (albeit rare) speak with Scott and treat the guy with some respect as you state your case and I'd be surprised if you don't walk out totally satisfied as I just did. Like I always say..... \"Mistakes are inevitable, it's how we recover from them that is important\"!!!\\n\\nThanks to Scott and his awesome staff. You've got a customer for life!! .......... :^)</td>\n",
       "      <td>vYmM4KTsC8ZfQBg-j5MWkw</td>\n",
       "    </tr>\n",
       "  </tbody>\n",
       "</table></div>"
      ],
      "text/plain": [
       "              business_id       business_name  stars  \\\n",
       "0  9yKzy9PApeiPPOUJEtnvkg  Morning Glory Cafe      5   \n",
       "1  ZRJwVLyzEJq1VAihDhYiow  Spinato's Pizzeria      5   \n",
       "2  6oRAC4uyJCsJl1X0WZpVSA           Haji-Baba      4   \n",
       "3  _1QQZuf4zZOyFCvXc0o6Vg  Chaparral Dog Park      5   \n",
       "4  6ozycU1RpktNG2-1BroVtw       Discount Tire      5   \n",
       "\n",
       "                                                text                 user_id  \n",
       "0  My wife took me here on my birthday for breakf...  rLtl8ZkDX5vH5nAx9C3q5Q  \n",
       "1  I have no idea why some people give bad review...  0a2KyEL0d3Yb1V6aivbIuQ  \n",
       "2  love the gyro plate. Rice is so good and I als...  0hT2KtfLiobPvh6cDC8JQg  \n",
       "3  Rosie, Dakota, and I LOVE Chaparral Dog Park!!...  uZetl9T0NcROGOyFfughhg  \n",
       "4  General Manager Scott Petello is a good egg!!!...  vYmM4KTsC8ZfQBg-j5MWkw  "
      ]
     },
     "execution_count": 4,
     "metadata": {},
     "output_type": "execute_result"
    }
   ],
   "source": [
    "# Printing the first 5 rows of the dataset\n",
    "reviews.head()"
   ]
  },
  {
   "cell_type": "markdown",
   "metadata": {
    "id": "JYtlN9YUjjEv"
   },
   "source": [
    "#### **Describe the distribution of ratings**"
   ]
  },
  {
   "cell_type": "code",
   "execution_count": 5,
   "metadata": {
    "ExecuteTime": {
     "end_time": "2023-05-15T13:52:05.977679Z",
     "start_time": "2023-05-15T13:52:05.872342Z"
    },
    "colab": {
     "base_uri": "https://localhost:8080/",
     "height": 348
    },
    "id": "CUrLRQ_ROcPF",
    "outputId": "a15a1832-f1ea-476b-bc37-aa1e58df5a85"
   },
   "outputs": [
    {
     "data": {
      "image/png": "[encoded data removed]",
      "text/plain": [
       "<Figure size 1200x500 with 1 Axes>"
      ]
     },
     "metadata": {},
     "output_type": "display_data"
    }
   ],
   "source": [
    "# Fix the figure size of the plot\n",
    "plt.figure(figsize = (12, 5))\n",
    "\n",
    "# Code to create the countplot\n",
    "ax = sns.countplot(x=\"stars\", data = reviews)\n",
    "\n",
    "plt.tick_params(labelsize = 10)\n",
    "\n",
    "plt.title(\"Distribution of Ratings \", fontsize = 10)\n",
    "\n",
    "plt.xlabel(\"Ratings\", fontsize = 10)\n",
    "\n",
    "plt.ylabel(\"Number of Ratings\", fontsize = 10)\n",
    "\n",
    "# Show the plot\n",
    "plt.show()"
   ]
  },
  {
   "cell_type": "markdown",
   "metadata": {
    "id": "CSVbvZIKjjEw"
   },
   "source": [
    "**Observations:**\n",
    "\n",
    "* Data seems to be **highly skewed** towards Rating **'4' and '5'**. Rating **'5'** is the second-highest in the count and nearly the same as the number of 4 rating count. \n",
    "\n",
    "* We can see very few people are giving ratings **between 1 to 3**. It shows people tend to **not give a rating** for a restaurant that they **dislike**."
   ]
  },
  {
   "cell_type": "code",
   "execution_count": 6,
   "metadata": {
    "ExecuteTime": {
     "end_time": "2023-05-15T13:52:05.994641Z",
     "start_time": "2023-05-15T13:52:05.978827Z"
    },
    "colab": {
     "base_uri": "https://localhost:8080/"
    },
    "id": "YOZ6XVLFO0Gp",
    "outputId": "e56a8c6f-81da-465c-b28d-8fc3b87ae73e"
   },
   "outputs": [
    {
     "data": {
      "text/plain": [
       "45981"
      ]
     },
     "execution_count": 6,
     "metadata": {},
     "output_type": "execute_result"
    }
   ],
   "source": [
    "# Number of unique users\n",
    "reviews['user_id'].nunique()"
   ]
  },
  {
   "cell_type": "code",
   "execution_count": 7,
   "metadata": {
    "ExecuteTime": {
     "end_time": "2023-05-15T13:52:06.007928Z",
     "start_time": "2023-05-15T13:52:05.995544Z"
    },
    "colab": {
     "base_uri": "https://localhost:8080/"
    },
    "id": "TIWPpCYQPO3r",
    "outputId": "7f119ba7-fb51-40d4-8597-b789b21b6127"
   },
   "outputs": [
    {
     "data": {
      "text/plain": [
       "11537"
      ]
     },
     "execution_count": 7,
     "metadata": {},
     "output_type": "execute_result"
    }
   ],
   "source": [
    "# Number of unique Restaurant \n",
    "reviews['business_id'].nunique()"
   ]
  },
  {
   "cell_type": "markdown",
   "metadata": {
    "id": "rGEyKaQGPZ1G"
   },
   "source": [
    "**Observations:**\n",
    "- There are **45981 users** in the dataset\n",
    "- There are **11537 Restaurants** in the dataset\n",
    "- As per the number of unique users and Restaurant, there is a **possibility of 45981 * 11537 = ~ 53 x 10^7 ratings** in the dataset. But **we have 229907 ratings**, i.e., not every user has rated every Restaurant in the dataset. And we can build a recommendation system to recommend a restaurant to users which they have not interacted with."
   ]
  },
  {
   "cell_type": "code",
   "execution_count": 8,
   "metadata": {
    "ExecuteTime": {
     "end_time": "2023-05-15T13:52:06.135938Z",
     "start_time": "2023-05-15T13:52:06.009042Z"
    },
    "colab": {
     "base_uri": "https://localhost:8080/",
     "height": 455
    },
    "id": "ufdE4XStRKHY",
    "outputId": "86397ce5-feb9-4a04-b6c7-457a46dbb342"
   },
   "outputs": [
    {
     "data": {
      "text/html": [
       "<div><div id=bc42de5d-a1b7-4992-8a80-5ec8851c8b4c style=\"display:none; background-color:#9D6CFF; color:white; width:200px; height:30px; padding-left:5px; border-radius:4px; flex-direction:row; justify-content:space-around; align-items:center;\" onmouseover=\"this.style.backgroundColor='#BA9BF8'\" onmouseout=\"this.style.backgroundColor='#9D6CFF'\" onclick=\"window.commands?.execute('create-mitosheet-from-dataframe-output');\">See Full Dataframe in Mito</div> <script> if (window.commands?.hasCommand('create-mitosheet-from-dataframe-output')) document.getElementById('bc42de5d-a1b7-4992-8a80-5ec8851c8b4c').style.display = 'flex' </script> <table border=\"1\" class=\"dataframe\">\n",
       "  <thead>\n",
       "    <tr style=\"text-align: right;\">\n",
       "      <th></th>\n",
       "      <th></th>\n",
       "      <th>business_name</th>\n",
       "      <th>stars</th>\n",
       "      <th>text</th>\n",
       "    </tr>\n",
       "    <tr>\n",
       "      <th>user_id</th>\n",
       "      <th>business_id</th>\n",
       "      <th></th>\n",
       "      <th></th>\n",
       "      <th></th>\n",
       "    </tr>\n",
       "  </thead>\n",
       "  <tbody>\n",
       "    <tr>\n",
       "      <th>--5hzxWLz5ozIg6OMo6tpQ</th>\n",
       "      <th>Z3n01OZqARDv06QgBneOZw</th>\n",
       "      <td>1</td>\n",
       "      <td>1</td>\n",
       "      <td>1</td>\n",
       "    </tr>\n",
       "    <tr>\n",
       "      <th rowspan=\"4\" valign=\"top\">--65q1FpAL_UQtVZ2PTGew</th>\n",
       "      <th>-q_VodbABJygOSuv86LOtw</th>\n",
       "      <td>1</td>\n",
       "      <td>1</td>\n",
       "      <td>1</td>\n",
       "    </tr>\n",
       "    <tr>\n",
       "      <th>-sC66z4SO3tR7nFCjfQwuQ</th>\n",
       "      <td>1</td>\n",
       "      <td>1</td>\n",
       "      <td>1</td>\n",
       "    </tr>\n",
       "    <tr>\n",
       "      <th>0vzZ_Bcb02rJljeMU9XkBw</th>\n",
       "      <td>1</td>\n",
       "      <td>1</td>\n",
       "      <td>1</td>\n",
       "    </tr>\n",
       "    <tr>\n",
       "      <th>18TUn9oiW0k0yB6lheiOvw</th>\n",
       "      <td>1</td>\n",
       "      <td>1</td>\n",
       "      <td>1</td>\n",
       "    </tr>\n",
       "    <tr>\n",
       "      <th>...</th>\n",
       "      <th>...</th>\n",
       "      <td>...</td>\n",
       "      <td>...</td>\n",
       "      <td>...</td>\n",
       "    </tr>\n",
       "    <tr>\n",
       "      <th rowspan=\"4\" valign=\"top\">zztT9KKp0rmJRMeMl4CqzQ</th>\n",
       "      <th>A8Khz3eeqIFFGaXurg3hxw</th>\n",
       "      <td>1</td>\n",
       "      <td>1</td>\n",
       "      <td>1</td>\n",
       "    </tr>\n",
       "    <tr>\n",
       "      <th>ilJiRYZgxjrEu2iexKu-pQ</th>\n",
       "      <td>1</td>\n",
       "      <td>1</td>\n",
       "      <td>1</td>\n",
       "    </tr>\n",
       "    <tr>\n",
       "      <th>sbsFamEj5wDxNAjUKrMcSw</th>\n",
       "      <td>1</td>\n",
       "      <td>1</td>\n",
       "      <td>1</td>\n",
       "    </tr>\n",
       "    <tr>\n",
       "      <th>wP5849J1DKB2KS3M6UwOAg</th>\n",
       "      <td>1</td>\n",
       "      <td>1</td>\n",
       "      <td>1</td>\n",
       "    </tr>\n",
       "    <tr>\n",
       "      <th>zzunUJtZqhcxDB3plnSFxg</th>\n",
       "      <th>kuGQG_8i9P-4p9_Mym-G8Q</th>\n",
       "      <td>1</td>\n",
       "      <td>1</td>\n",
       "      <td>1</td>\n",
       "    </tr>\n",
       "  </tbody>\n",
       "</table></div>"
      ],
      "text/plain": [
       "                                               business_name  stars  text\n",
       "user_id                business_id                                       \n",
       "--5hzxWLz5ozIg6OMo6tpQ Z3n01OZqARDv06QgBneOZw              1      1     1\n",
       "--65q1FpAL_UQtVZ2PTGew -q_VodbABJygOSuv86LOtw              1      1     1\n",
       "                       -sC66z4SO3tR7nFCjfQwuQ              1      1     1\n",
       "                       0vzZ_Bcb02rJljeMU9XkBw              1      1     1\n",
       "                       18TUn9oiW0k0yB6lheiOvw              1      1     1\n",
       "...                                                      ...    ...   ...\n",
       "zztT9KKp0rmJRMeMl4CqzQ A8Khz3eeqIFFGaXurg3hxw              1      1     1\n",
       "                       ilJiRYZgxjrEu2iexKu-pQ              1      1     1\n",
       "                       sbsFamEj5wDxNAjUKrMcSw              1      1     1\n",
       "                       wP5849J1DKB2KS3M6UwOAg              1      1     1\n",
       "zzunUJtZqhcxDB3plnSFxg kuGQG_8i9P-4p9_Mym-G8Q              1      1     1\n",
       "\n",
       "[229906 rows x 3 columns]"
      ]
     },
     "execution_count": 8,
     "metadata": {},
     "output_type": "execute_result"
    }
   ],
   "source": [
    "reviews.groupby(['user_id', 'business_id']).count()"
   ]
  },
  {
   "cell_type": "code",
   "execution_count": 9,
   "metadata": {
    "ExecuteTime": {
     "end_time": "2023-05-15T13:52:06.257773Z",
     "start_time": "2023-05-15T13:52:06.138681Z"
    },
    "colab": {
     "base_uri": "https://localhost:8080/"
    },
    "id": "JkARqCs5ThYp",
    "outputId": "abea424b-c7a4-4ecd-d020-e941d4a41e92"
   },
   "outputs": [
    {
     "data": {
      "text/plain": [
       "229907"
      ]
     },
     "execution_count": 9,
     "metadata": {},
     "output_type": "execute_result"
    }
   ],
   "source": [
    "reviews.groupby(['user_id', 'business_id']).count()['stars'].sum()"
   ]
  },
  {
   "cell_type": "markdown",
   "metadata": {
    "id": "rCphg_XYTdhw"
   },
   "source": [
    "- The **sum is equal to the total number of observations** which implies that **there is only interaction between a pair of user and a restaurant**."
   ]
  },
  {
   "cell_type": "code",
   "execution_count": 10,
   "metadata": {
    "ExecuteTime": {
     "end_time": "2023-05-15T13:52:06.274471Z",
     "start_time": "2023-05-15T13:52:06.258592Z"
    },
    "colab": {
     "base_uri": "https://localhost:8080/"
    },
    "id": "c9alX6NvUWM9",
    "outputId": "06f6130b-9ccb-4a4a-fe8c-1759a5ed8213"
   },
   "outputs": [
    {
     "data": {
      "text/plain": [
       "hW0Ne_HTHEAgGF1rAdmR-g    844\n",
       "VVeogjZya58oiTxK7qUjAQ    794\n",
       "JokKtdXU7zXHcr20Lrk29A    731\n",
       "ntN85eu27C04nwyPa8IHtw    679\n",
       "EWMwV5V9BxNs_U6nNVMeqw    645\n",
       "                         ... \n",
       "-NbEHP2GHFNb5PnmJnd4qQ      3\n",
       "QICgwHWhXIbihfcMKtws8g      3\n",
       "sAwxt4I4gTiL-08nyarJbg      3\n",
       "huzUWI5YqkJEEIudo0YiDg      3\n",
       "SeCVec3f91bEdosAILE4JA      3\n",
       "Name: business_id, Length: 11537, dtype: int64"
      ]
     },
     "execution_count": 10,
     "metadata": {},
     "output_type": "execute_result"
    }
   ],
   "source": [
    "reviews['business_id'].value_counts()"
   ]
  },
  {
   "cell_type": "markdown",
   "metadata": {
    "id": "-prdXG21UcPa"
   },
   "source": [
    "**Observations:**\n",
    "- The **Restaurant with business_id: hW0Ne_HTHEAgGF1rAdmR-g  has been interacted by most users** which is **844** times.\n",
    "- But still, there is a possibility of **45981 - 844 = 45137** more interactions as we have **45981** unique users in our datasets. For those  **remaining users**, we can build a **recommendation system** to predict who is most likely to visit the Restaurant.\n",
    "\n",
    "Also, out of these **844 interactions**, we need to consider the distribution of ratings as well to check whether this Restaurant is the **most liked or most disliked Restaurant**."
   ]
  },
  {
   "cell_type": "code",
   "execution_count": 11,
   "metadata": {
    "ExecuteTime": {
     "end_time": "2023-05-15T13:52:06.301689Z",
     "start_time": "2023-05-15T13:52:06.275356Z"
    },
    "colab": {
     "base_uri": "https://localhost:8080/"
    },
    "id": "Jdu_uCtWXx3v",
    "outputId": "eb884abd-7e7c-4c13-bf0b-762584aedba2"
   },
   "outputs": [
    {
     "data": {
      "text/plain": [
       "fczQCSmaWF78toLEmb0Zsw    588\n",
       "90a6z--_CUrl84aCzZyPsg    506\n",
       "0CMz8YaO3f8xu4KqQgKb9Q    473\n",
       "4ozupHULqGyO42s3zNUzOQ    442\n",
       "joIzw_aUiNvBTuGoytrH7g    392\n",
       "                         ... \n",
       "Oh9OOyDSGf4eNWGiNazh8g      1\n",
       "Np9IEqnLmhRB2T5jumPTGw      1\n",
       "g0-ejhzvo0ELNp04cUKWDg      1\n",
       "M0lyA1jF0zrXZr5TXlioTQ      1\n",
       "dDNfSFT0VApxPmURclX6_g      1\n",
       "Name: user_id, Length: 45981, dtype: int64"
      ]
     },
     "execution_count": 11,
     "metadata": {},
     "output_type": "execute_result"
    }
   ],
   "source": [
    "reviews['user_id'].value_counts()"
   ]
  },
  {
   "cell_type": "markdown",
   "metadata": {
    "id": "l1H6aArqX4-R"
   },
   "source": [
    "**Observations:**\n",
    "- The user with **user_id: fczQCSmaWF78toLEmb0Zsw** have interacted with the most number of restaurants, i.e., **588** times. \n",
    "- But still, there is a possibility of **11537 - 588 =  10949** more interactions as we have **11537 unique Restaurants** in our dataset. For those **10949** remaining Restaurants, we can build a recommendation system to predict which restaurants are most likely to be reviewed by this user."
   ]
  },
  {
   "cell_type": "markdown",
   "metadata": {},
   "source": [
    "## **Data Preparation**"
   ]
  },
  {
   "cell_type": "markdown",
   "metadata": {
    "id": "ASHgxEy7jjE0"
   },
   "source": [
    "**As this dataset is still quite large and has 229907 observations, it is not computationally efficient to build a model using this. Moreover, there are many users who have only rated a few restaurants and also there are restaurants which are rated by very less users. Hence we can reduce the dataset by considering certain Logical assumption.**\n",
    "\n",
    "Here, We will be taking users who have given at least 100 rating, as we prefer to have some number of rating of a restaurant."
   ]
  },
  {
   "cell_type": "code",
   "execution_count": 12,
   "metadata": {
    "ExecuteTime": {
     "end_time": "2023-05-15T13:52:06.341216Z",
     "start_time": "2023-05-15T13:52:06.302509Z"
    },
    "id": "bFPuhsFTjjE0"
   },
   "outputs": [],
   "source": [
    "# Get the column containing the users\n",
    "users = reviews.user_id\n",
    "\n",
    "# Create a dictionary from users to their number of ratings\n",
    "ratings_count = dict()\n",
    "\n",
    "for user in users:\n",
    "    # If we already have the user, just add 1 to their rating count\n",
    "    if user in ratings_count:\n",
    "        ratings_count[user] += 1\n",
    "    # Otherwise, set their rating count to 1\n",
    "    else:\n",
    "        ratings_count[user] = 1   "
   ]
  },
  {
   "cell_type": "code",
   "execution_count": 13,
   "metadata": {
    "ExecuteTime": {
     "end_time": "2023-05-15T13:52:06.362634Z",
     "start_time": "2023-05-15T13:52:06.342197Z"
    },
    "id": "KXq1ERpmjjE0"
   },
   "outputs": [],
   "source": [
    "# We want our users to have at least 100 ratings to be considred\n",
    "RATINGS_CUTOFF = 100\n",
    "\n",
    "remove_users = []\n",
    "\n",
    "for user, num_ratings in ratings_count.items():\n",
    "    if num_ratings < RATINGS_CUTOFF:\n",
    "        remove_users.append(user)\n",
    "reviews = reviews.loc[ ~ reviews.user_id.isin(remove_users)]"
   ]
  },
  {
   "cell_type": "markdown",
   "metadata": {
    "id": "key8OGgumRol"
   },
   "source": [
    "The columns **business_id** and **user_id** are encrypted to provide anonymity. To ease our processing of the dataset we will use **label encodings** to process these two variables."
   ]
  },
  {
   "cell_type": "code",
   "execution_count": 14,
   "metadata": {
    "ExecuteTime": {
     "end_time": "2023-05-15T13:52:06.382627Z",
     "start_time": "2023-05-15T13:52:06.363573Z"
    },
    "id": "JwlA9o7bmRol"
   },
   "outputs": [],
   "source": [
    "# Label Encoding\n",
    "le = LabelEncoder()\n",
    "\n",
    "# Fit transform the user_id column\n",
    "reviews['user_id'] = le.fit_transform(reviews['user_id'])\n",
    "\n",
    "# Fit transform the business_id column\n",
    "reviews['business_id'] = le.fit_transform(reviews['business_id'])"
   ]
  },
  {
   "cell_type": "code",
   "execution_count": 15,
   "metadata": {
    "ExecuteTime": {
     "end_time": "2023-05-15T13:52:06.387551Z",
     "start_time": "2023-05-15T13:52:06.383593Z"
    },
    "colab": {
     "base_uri": "https://localhost:8080/",
     "height": 206
    },
    "id": "ZnuN76E3mRom",
    "outputId": "1f463446-3f62-47fa-d64b-ab1ba01aab0f"
   },
   "outputs": [
    {
     "data": {
      "text/html": [
       "<div><div id=020a56d0-e02a-48a5-b04c-155cf772b277 style=\"display:none; background-color:#9D6CFF; color:white; width:200px; height:30px; padding-left:5px; border-radius:4px; flex-direction:row; justify-content:space-around; align-items:center;\" onmouseover=\"this.style.backgroundColor='#BA9BF8'\" onmouseout=\"this.style.backgroundColor='#9D6CFF'\" onclick=\"window.commands?.execute('create-mitosheet-from-dataframe-output');\">See Full Dataframe in Mito</div> <script> if (window.commands?.hasCommand('create-mitosheet-from-dataframe-output')) document.getElementById('020a56d0-e02a-48a5-b04c-155cf772b277').style.display = 'flex' </script> <table border=\"1\" class=\"dataframe\">\n",
       "  <thead>\n",
       "    <tr style=\"text-align: right;\">\n",
       "      <th></th>\n",
       "      <th>business_id</th>\n",
       "      <th>business_name</th>\n",
       "      <th>stars</th>\n",
       "      <th>text</th>\n",
       "      <th>user_id</th>\n",
       "    </tr>\n",
       "  </thead>\n",
       "  <tbody>\n",
       "    <tr>\n",
       "      <th>0</th>\n",
       "      <td>1348</td>\n",
       "      <td>Morning Glory Cafe</td>\n",
       "      <td>5</td>\n",
       "      <td>My wife took me here on my birthday for breakfast and it was excellent.  The weather was perfect which made sitting outside overlooking their grounds an absolute pleasure.  Our waitress was excellent and our food arrived quickly on the semi-busy Saturday morning.  It looked like the place fills up pretty quickly so the earlier you get here the better.\\n\\nDo yourself a favor and get their Bloody Mary.  It was phenomenal and simply the best I've ever had.  I'm pretty sure they only use ingredients from their garden and blend them fresh when you order it.  It was amazing.\\n\\nWhile EVERYTHING on the menu looks excellent, I had the white truffle scrambled eggs vegetable skillet and it was tasty and delicious.  It came with 2 pieces of their griddled bread with was amazing and it absolutely made the meal complete.  It was the best \"toast\" I've ever had.\\n\\nAnyway, I can't wait to go back!</td>\n",
       "      <td>188</td>\n",
       "    </tr>\n",
       "    <tr>\n",
       "      <th>6</th>\n",
       "      <td>7479</td>\n",
       "      <td>La Condesa Gourmet Taco Shop</td>\n",
       "      <td>5</td>\n",
       "      <td>Drop what you're doing and drive here. After I ate here I had to go back the next day for more.  The food is that good.\\n\\nThis cute little green building may have gone competely unoticed if I hadn't been driving down Palm Rd to avoid construction.  While waiting to turn onto 16th Street the \"Grand Opening\" sign caught my eye and my little yelping soul leaped for joy!  A new place to try!\\n\\nIt looked desolate from the outside but when I opened the door I was put at easy by the decor, smell and cleanliness inside.  I ordered dinner for two, to go.  The menu was awesome.  I loved seeing all the variety: poblano peppers, mole, mahi mahi, mushrooms...something wrapped in banana leaves.  It made it difficult to choose something.  Here's what I've had so far: La Condesa Shrimp Burro and Baja Sur Dogfish Shark Taco.  They are both were very delicious meals but the shrimp burro stole the show.  So much flavor.  I snagged some bites from my hubbys mole and mahi mahi burros- mmmm such a delight.  The salsa bar is endless.  I really stocked up.  I was excited to try the strawberry salsa but it was too hot, in fact it all was, but I'm a big wimp when it comes to hot peppers. The horchata is handmade and delicious.  They throw pecans and some fruit in there too which is a yummy bonus!\\n\\nAs if the good food wasn't enough to win me over the art in this restaurant sho did!  I'm a sucker for Mexican folk art and Frida Kahlo is my Oprah.  There's a painting of her and Diego hanging over the salsa bar, it's amazing.  All the paintings are great, love the artist.</td>\n",
       "      <td>203</td>\n",
       "    </tr>\n",
       "    <tr>\n",
       "      <th>13</th>\n",
       "      <td>3975</td>\n",
       "      <td>The Lady Luck Tattoo Gallery</td>\n",
       "      <td>4</td>\n",
       "      <td>Good tattoo shop. Clean space, multiple artists to choose from and books of their work are available for you to look though and decide who's style most mirrors what you're looking for. I chose Jet to do a cover-up for me and he worked with me on the design and our ideas and communication flowed very well. He's a very personable guy, is friendly and keeps the conversation going while he's working on you, and he doesn't dick around (read: He starts to work and continues until the job is done). He's very professional and informative. Good customer service combines with talent at the craft.</td>\n",
       "      <td>112</td>\n",
       "    </tr>\n",
       "    <tr>\n",
       "      <th>18</th>\n",
       "      <td>4620</td>\n",
       "      <td>Carlsbad Tavern</td>\n",
       "      <td>3</td>\n",
       "      <td>I met a friend for lunch yesterday. \\n\\nLoved the water feature and patio walking in, if it had been warmer I would have definitely sat outside. \\n\\nInside was a little dark and I guess it was all the bats around but it reminded me of \"Dusk Till Dawn\". \\n\\nWe were seated, I hope was hoping for chips and salsa, I guess they don't serve them here? \\nWe weren't even offered the ones on the menu, which I probably would have declined anyway because chips and salsa should be complimentary. \\n\\nAnyhow I ordered the Fresh Snapper Tacos (see pics) \\nThere is a lot of fish there being smothered by all those peppers, but as for everything else what you see is what you get.\\n\\nFor $15 I would have liked more than a TBSP of each, rice and beans, and a DEFINITELY more than a teaspoon of cheese and sour cream and maybe a lime or lemon. \\nThere was more garnish on the plate than anything. Other than that it was good. \\n\\nMy Friend ordered the Green Chile Stew and The Green Chile Mac and Cheese (see pics) She has been here before so knew what she liked. I tasted the macaroni and thought it was pretty good too.\\n\\nI'll give 3 stars until I go back and try out some other things.</td>\n",
       "      <td>102</td>\n",
       "    </tr>\n",
       "    <tr>\n",
       "      <th>19</th>\n",
       "      <td>654</td>\n",
       "      <td>Frontier Airlines</td>\n",
       "      <td>4</td>\n",
       "      <td>They've gotten better and better for me in the time since this review was written. \\n\\nMy last contact with them was a few days ago when I was having trouble redeeming some Groupons on their website. I called customer service and after waiting a few minutes I spoke with a rep who cheerfully booked four separate flights for me, patiently and manually entering my Groupon info for each one.\\n\\nI think the acquisition by Republic has helped them overall. After Republic took over the in-flight cookies started. It still tends to suck if you aren't Ascent club (like just about any budget-centric airline does), but once you get there it's a good value. When I've had to fly Southwest or USAir I've been disappointed in comparison.</td>\n",
       "      <td>172</td>\n",
       "    </tr>\n",
       "  </tbody>\n",
       "</table></div>"
      ],
      "text/plain": [
       "    business_id                 business_name  stars  \\\n",
       "0          1348            Morning Glory Cafe      5   \n",
       "6          7479  La Condesa Gourmet Taco Shop      5   \n",
       "13         3975  The Lady Luck Tattoo Gallery      4   \n",
       "18         4620               Carlsbad Tavern      3   \n",
       "19          654             Frontier Airlines      4   \n",
       "\n",
       "                                                 text  user_id  \n",
       "0   My wife took me here on my birthday for breakf...      188  \n",
       "6   Drop what you're doing and drive here. After I...      203  \n",
       "13  Good tattoo shop. Clean space, multiple artist...      112  \n",
       "18  I met a friend for lunch yesterday. \\n\\nLoved ...      102  \n",
       "19  They've gotten better and better for me in the...      172  "
      ]
     },
     "execution_count": 15,
     "metadata": {},
     "output_type": "execute_result"
    }
   ],
   "source": [
    "# See the first 5 records\n",
    "reviews.head()"
   ]
  },
  {
   "cell_type": "code",
   "execution_count": 16,
   "metadata": {
    "ExecuteTime": {
     "end_time": "2023-05-15T13:52:06.402720Z",
     "start_time": "2023-05-15T13:52:06.388674Z"
    },
    "id": "wJkezPeGB1pU"
   },
   "outputs": [],
   "source": [
    "# Calculating average ratings\n",
    "average_rating = reviews.groupby('business_id').mean()['stars']\n",
    "\n",
    "# Calculating the count of ratings\n",
    "count_rating = reviews.groupby('business_id').count()['stars']\n",
    "\n",
    "# Making a dataframe with the count and average of ratings\n",
    "final_rating = pd.DataFrame({'avg_rating': average_rating, 'rating_count': count_rating})"
   ]
  },
  {
   "cell_type": "code",
   "execution_count": 17,
   "metadata": {
    "ExecuteTime": {
     "end_time": "2023-05-15T13:52:06.417398Z",
     "start_time": "2023-05-15T13:52:06.403867Z"
    },
    "id": "weUE9G42FV3g"
   },
   "outputs": [],
   "source": [
    "# To compute the accuracy of models\n",
    "from surprise import accuracy\n",
    "\n",
    "# This class is used to parse a file containing ratings, data should be in structure - user; item; rating\n",
    "from surprise.reader import Reader\n",
    "\n",
    "# Class for loading datasets\n",
    "from surprise.dataset import Dataset\n",
    "\n",
    "# For tuning model hyperparameters\n",
    "from surprise.model_selection import GridSearchCV\n",
    "\n",
    "# For splitting the rating data in train and test dataset\n",
    "from surprise.model_selection import train_test_split\n",
    "\n",
    "# For implementing clustering based recommendation system\n",
    "from surprise import CoClustering"
   ]
  },
  {
   "cell_type": "markdown",
   "metadata": {
    "id": "AMkqi-CUmYXL"
   },
   "source": [
    "### **Some useful functions**"
   ]
  },
  {
   "cell_type": "markdown",
   "metadata": {
    "id": "h87dmUZymY27"
   },
   "source": [
    "- Below function takes the **recommendation model** as input and gives the **precision@k and recall@k** for that model.  \n",
    "- To compute **precision and recall**, **top k** predictions are taken under consideration for each user."
   ]
  },
  {
   "cell_type": "code",
   "execution_count": 18,
   "metadata": {
    "ExecuteTime": {
     "end_time": "2023-05-15T13:52:06.422860Z",
     "start_time": "2023-05-15T13:52:06.418352Z"
    },
    "id": "gR4mEE1THCL_"
   },
   "outputs": [],
   "source": [
    "def precision_recall_at_k(model, k = 10, threshold = 3.5):\n",
    "    \"\"\"Returns precision and recall at k metrics for each user.\"\"\"\n",
    "\n",
    "    # First map the predictions to each user\n",
    "    user_est_true = defaultdict(list)\n",
    "    \n",
    "    # Making predictions on the test data\n",
    "    predictions = model.test(testset)\n",
    "    \n",
    "    for uid, _, true_r, est, _ in predictions:\n",
    "        user_est_true[uid].append((est, true_r))\n",
    "\n",
    "    precisions = dict()\n",
    "    recalls = dict()\n",
    "    for uid, user_ratings in user_est_true.items():\n",
    "\n",
    "        # Sort user ratings by estimated value\n",
    "        user_ratings.sort(key = lambda x: x[0], reverse = True)\n",
    "\n",
    "        # Number of relevant items\n",
    "        n_rel = sum((true_r >= threshold) for (_, true_r) in user_ratings)\n",
    "\n",
    "        # Number of recommended items in top k\n",
    "        n_rec_k = sum((est >= threshold) for (est, _) in user_ratings[:k])\n",
    "\n",
    "        # Number of relevant and recommended items in top k\n",
    "        n_rel_and_rec_k = sum(((true_r >= threshold) and (est >= threshold))\n",
    "                              for (est, true_r) in user_ratings[:k])\n",
    "\n",
    "        # Precision@K: Proportion of recommended items that are relevant. When n_rec_k is 0, \n",
    "        # Precision is undefined. We here set Precision to 0 when n_rec_k is 0\n",
    "\n",
    "        precisions[uid] = n_rel_and_rec_k / n_rec_k if n_rec_k != 0 else 0\n",
    "\n",
    "        # Recall@K: Proportion of relevant items that are recommended. When n_rel is 0, \n",
    "        # Recall is undefined. We here set Recall to 0 when n_rel is 0\n",
    "\n",
    "        recalls[uid] = n_rel_and_rec_k / n_rel if n_rel != 0 else 0\n",
    "    \n",
    "    # Mean of all the predicted precisions are calculated\n",
    "    precision = round((sum(prec for prec in precisions.values()) / len(precisions)), 3)\n",
    "    \n",
    "    # Mean of all the predicted recalls are calculated\n",
    "    recall = round((sum(rec for rec in recalls.values()) / len(recalls)), 3)\n",
    "    \n",
    "    accuracy.rmse(predictions)\n",
    "\n",
    "    # Command to print the overall precision\n",
    "    print('Precision: ', precision)\n",
    "\n",
    "    # Command to print the overall recall\n",
    "    print('Recall: ', recall)\n",
    "\n",
    "    # Formula to compute the F-1 score\n",
    "    print('F_1 score: ', round((2*precision * recall) / (precision + recall), 3))"
   ]
  },
  {
   "cell_type": "markdown",
   "metadata": {
    "id": "ot9L_SKRjuNz"
   },
   "source": [
    "Below we are loading the **`rating` dataset**, which is a **pandas dataframe**, into a **different format called `surprise.dataset.DatasetAutoFolds`** which is required by this library. To do this we will be **using the classes `Reader` and `Dataset`**."
   ]
  },
  {
   "cell_type": "code",
   "execution_count": 19,
   "metadata": {
    "ExecuteTime": {
     "end_time": "2023-05-15T13:52:06.454932Z",
     "start_time": "2023-05-15T13:52:06.423717Z"
    },
    "id": "BrV3IZiLqaf5"
   },
   "outputs": [],
   "source": [
    "# Instantiating Reader scale with expected rating scale\n",
    "reader = Reader(rating_scale = (0, 5))\n",
    "\n",
    "# Loading the dataset\n",
    "data = Dataset.load_from_df(reviews[['user_id', 'business_id', 'stars']], reader)\n",
    "\n",
    "# Splitting the data into train and test dataset\n",
    "trainset, testset = train_test_split(data, test_size = 0.2, random_state = 42)"
   ]
  },
  {
   "cell_type": "markdown",
   "metadata": {
    "id": "55ztGt8hBahz"
   },
   "source": [
    "## **Model 1: Cluster-Based Recommendation System**"
   ]
  },
  {
   "cell_type": "markdown",
   "metadata": {
    "id": "bmIe2DQ5Bahz"
   },
   "source": [
    "In **clustering-based recommendation systems**, we explore the **similarities and differences** in people's tastes in restaurants based on how they rate different restaurants. We cluster similar users together and recommend restaurants to a user based on ratings from other users in the same cluster."
   ]
  },
  {
   "cell_type": "markdown",
   "metadata": {
    "id": "exPydKAmBahz"
   },
   "source": [
    "- **Co-clustering** is a set of techniques in **Cluster Analysis**. Given some **matrix A, we want to cluster rows of A and columns of A simultaneously**, this is a common task for user-item matrices. \n",
    "\n",
    "- As it clusters both the rows and columns simultaneously, it is also called **bi-clustering**. To understand the working of the algorithm let A be m x n matrix, goal is to generate co-clusters: a subset of rows that exhibit similar behavior across a subset of columns, or vice versa.\n",
    "\n",
    "- Co-clustering is defined as two map functions:\n",
    "rows -> row cluster indexes\n",
    "columns -> column cluster indexes\n",
    "These map functions are learned simultaneously. It is **different from other clustering techniques** where we cluster **first the rows and then the columns**. "
   ]
  },
  {
   "cell_type": "code",
   "execution_count": 20,
   "metadata": {
    "ExecuteTime": {
     "end_time": "2023-05-15T13:52:06.787256Z",
     "start_time": "2023-05-15T13:52:06.456059Z"
    }
   },
   "outputs": [
    {
     "name": "stdout",
     "output_type": "stream",
     "text": [
      "RMSE: 1.0378\n",
      "Precision:  0.765\n",
      "Recall:  0.403\n",
      "F_1 score:  0.528\n"
     ]
    }
   ],
   "source": [
    "# Using Co-Clustering algorithm\n",
    "clust_baseline = CoClustering(random_state = 1)\n",
    "\n",
    "# Training the algorithm on the train set\n",
    "clust_baseline.fit(trainset)\n",
    "\n",
    "# Let us compute precision@k and recall@k with k = 10\n",
    "precision_recall_at_k(clust_baseline)"
   ]
  },
  {
   "cell_type": "markdown",
   "metadata": {
    "id": "20f67577"
   },
   "source": [
    "\n",
    "\n",
    "* We have calculated **RMSE** to check **how far the overall predicted ratings** are from the **actual ratings**.\n",
    "\n",
    "* Here **F_1 score** of the **baseline model is almost 0.528**. It indicates that **recommended restaurants were relevant and relevant restaurants were recommended for more than half the recommendations**. We will try to improve this later by using **GridSearchCV by tuning different hyperparameters** of this algorithm."
   ]
  },
  {
   "cell_type": "markdown",
   "metadata": {
    "id": "9AQsDH3Ym6JP"
   },
   "source": [
    "Let's now predict a rating for a user with `userId = 4` and `business_Id = 9483` as shown below."
   ]
  },
  {
   "cell_type": "code",
   "execution_count": 21,
   "metadata": {
    "ExecuteTime": {
     "end_time": "2023-05-15T13:52:06.790506Z",
     "start_time": "2023-05-15T13:52:06.788125Z"
    },
    "colab": {
     "base_uri": "https://localhost:8080/"
    },
    "id": "11dbdc0f",
    "outputId": "865c042b-afc9-4fda-9a45-0fd8ce6dc443"
   },
   "outputs": [
    {
     "name": "stdout",
     "output_type": "stream",
     "text": [
      "user: 4          item: 9483       r_ui = 5.00   est = 3.70   {'was_impossible': False}\n"
     ]
    },
    {
     "data": {
      "text/plain": [
       "Prediction(uid=4, iid=9483, r_ui=5, est=3.7043858116372532, details={'was_impossible': False})"
      ]
     },
     "execution_count": 21,
     "metadata": {},
     "output_type": "execute_result"
    }
   ],
   "source": [
    "# Making prediction for user_id 4 and business_id 9483\n",
    "clust_baseline.predict(4, 9483, r_ui = 5, verbose = True)"
   ]
  },
  {
   "cell_type": "markdown",
   "metadata": {
    "id": "90276146"
   },
   "source": [
    "As we can see - the **actual rating** for this **user-item pair is 5** and the **predicted rating is 3.70 by this Co-clustering based baseline model**. It seems like the model has under-estimated the rating. We will try to fix this later by tuning the hyperparameters of the model using GridSearchCV."
   ]
  },
  {
   "cell_type": "markdown",
   "metadata": {
    "id": "70e86f9c"
   },
   "source": [
    "Below we are predicting rating for the same `userId = 4` but for a restaurant which this user has not visited before, i.e., `business_id = 9980`, as shown below."
   ]
  },
  {
   "cell_type": "code",
   "execution_count": 22,
   "metadata": {
    "ExecuteTime": {
     "end_time": "2023-05-15T13:52:06.794079Z",
     "start_time": "2023-05-15T13:52:06.791545Z"
    },
    "colab": {
     "base_uri": "https://localhost:8080/"
    },
    "id": "dab1aaed",
    "outputId": "5c9e9c56-09c1-42fb-a146-b3e538e5e74e"
   },
   "outputs": [
    {
     "name": "stdout",
     "output_type": "stream",
     "text": [
      "user: 4          item: 9980       r_ui = None   est = 3.70   {'was_impossible': False}\n"
     ]
    },
    {
     "data": {
      "text/plain": [
       "Prediction(uid=4, iid=9980, r_ui=None, est=3.7043858116372532, details={'was_impossible': False})"
      ]
     },
     "execution_count": 22,
     "metadata": {},
     "output_type": "execute_result"
    }
   ],
   "source": [
    "# Making prediction for userid 4 and business_id 9980\n",
    "clust_baseline.predict(4, 9980, verbose = True)"
   ]
  },
  {
   "cell_type": "markdown",
   "metadata": {
    "id": "8d23fe95"
   },
   "source": [
    "We can see that **estimated rating** for this user-item pair is 3.70 based on this Co-clustering based baseline model."
   ]
  },
  {
   "cell_type": "markdown",
   "metadata": {
    "id": "c2fd66f5"
   },
   "source": [
    "### **Improving clustering based recommendation system by tuning its hyper-parameters**"
   ]
  },
  {
   "cell_type": "markdown",
   "metadata": {
    "id": "5bc7c680"
   },
   "source": [
    "Below we will be tuning hyper-parameters for the `CoClustering` algorithms. Let's try to understand different hyperparameters of this algorithm."
   ]
  },
  {
   "cell_type": "markdown",
   "metadata": {
    "id": "31d97b16"
   },
   "source": [
    "- **n_cltr_u** (int) – Number of **user clusters**. The default value is 3.\n",
    "- **n_cltr_i** (int) – Number of **item clusters**. The default value is 3.\n",
    "- **n_epochs** (int) – Number of **iteration of the optimization loop**. The default value is 20.\n",
    "- **random_state** (int, RandomState instance from NumPy, or None) – Determines the RNG that will be used for initialization. If int, random_state will be used as a seed for a new RNG. This is useful to get the same initialization over multiple calls to fit(). If RandomState instance, this same instance is used as RNG. If None, the current RNG from numpy is used. The default value is None.\n",
    "- **verbose** (bool) – If True, the current epoch will be printed. The default value is False."
   ]
  },
  {
   "cell_type": "code",
   "execution_count": 23,
   "metadata": {
    "ExecuteTime": {
     "end_time": "2023-05-15T13:52:18.032944Z",
     "start_time": "2023-05-15T13:52:06.795072Z"
    },
    "colab": {
     "base_uri": "https://localhost:8080/"
    },
    "id": "efe7d8e6",
    "outputId": "2945ed23-9846-4a82-87c7-3a2a4c688024"
   },
   "outputs": [
    {
     "name": "stdout",
     "output_type": "stream",
     "text": [
      "1.040383942550852\n",
      "{'n_cltr_u': 3, 'n_cltr_i': 3, 'n_epochs': 40}\n"
     ]
    }
   ],
   "source": [
    "# Set the parameter space to tune\n",
    "param_grid = {'n_cltr_u': [3, 4, 5, 6], 'n_cltr_i': [3, 4, 5, 6], 'n_epochs': [30, 40, 50]}\n",
    "\n",
    "# Performing 3-fold gridsearch cross validation\n",
    "gs = GridSearchCV(CoClustering, param_grid, measures = ['rmse'], cv = 3, n_jobs = -1)\n",
    "\n",
    "# Fitting data\n",
    "gs.fit(data)\n",
    "\n",
    "# Print the best RMSE score\n",
    "print(gs.best_score['rmse'])\n",
    "\n",
    "# Print the combination of parameters that gave the best RMSE score\n",
    "print(gs.best_params['rmse'])"
   ]
  },
  {
   "cell_type": "markdown",
   "metadata": {
    "id": "568aeef9"
   },
   "source": [
    "Once the grid search is **complete**, we can get the **optimal values** for each of those hyper-parameters as shown above."
   ]
  },
  {
   "cell_type": "markdown",
   "metadata": {
    "id": "06d378d1"
   },
   "source": [
    "Now we will build **final model** by using tuned values of the hyperparameters which we received by using grid search cross-validation."
   ]
  },
  {
   "cell_type": "code",
   "execution_count": 24,
   "metadata": {
    "ExecuteTime": {
     "end_time": "2023-05-15T13:52:18.652490Z",
     "start_time": "2023-05-15T13:52:18.034042Z"
    },
    "colab": {
     "base_uri": "https://localhost:8080/"
    },
    "id": "5a7a8a30",
    "outputId": "15aff5e7-65f0-414d-9cfc-c31976911ed0"
   },
   "outputs": [
    {
     "name": "stdout",
     "output_type": "stream",
     "text": [
      "RMSE: 1.0373\n",
      "Precision:  0.764\n",
      "Recall:  0.404\n",
      "F_1 score:  0.529\n"
     ]
    }
   ],
   "source": [
    "# Using tuned Coclustering algorithm\n",
    "clust_tuned = CoClustering(n_cltr_u = 3,n_cltr_i = 3, n_epochs = 40, random_state = 1)\n",
    "\n",
    "# Training the algorithm on the train set\n",
    "clust_tuned.fit(trainset)\n",
    "\n",
    "# Let us compute precision@k and recall@k with k = 10\n",
    "precision_recall_at_k(clust_tuned)"
   ]
  },
  {
   "cell_type": "markdown",
   "metadata": {
    "id": "9ec38e2a"
   },
   "source": [
    "- We can see that the **F_1 score** for **tuned co-clustering model** on testset is **comparable with F_1 score** for baseline Co-clustering model. The model performance has not improved by much."
   ]
  },
  {
   "cell_type": "markdown",
   "metadata": {
    "id": "e04c0665"
   },
   "source": [
    "Let's now **predict rating** for a user with `userId = 4` and for `business_id = 9483` as shown below.Here the user has already rated the restaurant."
   ]
  },
  {
   "cell_type": "code",
   "execution_count": 25,
   "metadata": {
    "ExecuteTime": {
     "end_time": "2023-05-15T13:52:18.655516Z",
     "start_time": "2023-05-15T13:52:18.653313Z"
    },
    "colab": {
     "base_uri": "https://localhost:8080/"
    },
    "id": "6ba5b26b",
    "outputId": "51d3866f-3059-4dff-e2f8-fcce1e44bb0e"
   },
   "outputs": [
    {
     "name": "stdout",
     "output_type": "stream",
     "text": [
      "user: 4          item: 9483       r_ui = 5.00   est = 3.70   {'was_impossible': False}\n"
     ]
    },
    {
     "data": {
      "text/plain": [
       "Prediction(uid=4, iid=9483, r_ui=5, est=3.7043858116372532, details={'was_impossible': False})"
      ]
     },
     "execution_count": 25,
     "metadata": {},
     "output_type": "execute_result"
    }
   ],
   "source": [
    "# Using co_clustering_optimized model to recommend for userId 4 and business_id 9483\n",
    "clust_tuned.predict(4, 9483, r_ui = 5, verbose = True)"
   ]
  },
  {
   "cell_type": "markdown",
   "metadata": {
    "id": "28ZRhktvncDp"
   },
   "source": [
    "Below we are predicting rating for the same `userId = 4` but for a restaurant which this user has not visited before, i.e., `business_id = 9980`, as shown below."
   ]
  },
  {
   "cell_type": "code",
   "execution_count": 26,
   "metadata": {
    "ExecuteTime": {
     "end_time": "2023-05-15T13:52:18.658633Z",
     "start_time": "2023-05-15T13:52:18.656476Z"
    },
    "colab": {
     "base_uri": "https://localhost:8080/"
    },
    "id": "ec582940",
    "outputId": "02e0130e-0b19-492a-f14e-52577b91daee"
   },
   "outputs": [
    {
     "name": "stdout",
     "output_type": "stream",
     "text": [
      "user: 4          item: 9980       r_ui = None   est = 3.70   {'was_impossible': False}\n"
     ]
    },
    {
     "data": {
      "text/plain": [
       "Prediction(uid=4, iid=9980, r_ui=None, est=3.7043858116372532, details={'was_impossible': False})"
      ]
     },
     "execution_count": 26,
     "metadata": {},
     "output_type": "execute_result"
    }
   ],
   "source": [
    "# Using Co_clustering based optimized model to recommend for userId 4 and business_id 9980 with unknown baseline rating\n",
    "clust_tuned.predict(4, 9980, verbose = True)"
   ]
  },
  {
   "cell_type": "markdown",
   "metadata": {
    "id": "df9e28ba"
   },
   "source": [
    "### **Implementing the recommendation algorithm based on optimized KNNBasic model**"
   ]
  },
  {
   "cell_type": "markdown",
   "metadata": {
    "id": "4bbbdf9d"
   },
   "source": [
    "The input parameters of the below function are as follows.\n",
    "\n",
    "- data: A **rating** dataset\n",
    "- user_id: A user id **against which we want the recommendations**\n",
    "- top_n: The **number of restaurants we want to recommend**\n",
    "- algo: The algorithm we want to use **for predicting the ratings**\n",
    "- The output of the function is a **set of top_n items** recommended for the given user_id based on the given algorithm"
   ]
  },
  {
   "cell_type": "code",
   "execution_count": 27,
   "metadata": {
    "ExecuteTime": {
     "end_time": "2023-05-15T13:52:18.666928Z",
     "start_time": "2023-05-15T13:52:18.664011Z"
    },
    "id": "4b8753bc"
   },
   "outputs": [],
   "source": [
    "def get_recommendations(data, user_id, top_n, algo):\n",
    "    \n",
    "    # Creating an empty list to store the recommended restaurants ids\n",
    "    recommendations = []\n",
    "    \n",
    "    # Creating an user item interactions matrix \n",
    "    user_item_interactions_matrix = data.pivot_table(index = 'user_id', columns = 'business_id', values = 'stars')\n",
    "    \n",
    "    # Extracting those restaurants ids which the user_id has not interacted yet\n",
    "    non_interacted_restaurants = user_item_interactions_matrix.loc[user_id][user_item_interactions_matrix.loc[user_id].isnull()].index.tolist()\n",
    "    \n",
    "    # Looping through each of the restaurants ids which user_id has not interacted yet\n",
    "    for item_id in non_interacted_restaurants:\n",
    "        \n",
    "        # Predicting the ratings for those non interacted restaurants ids by this user\n",
    "        est = algo.predict(user_id, item_id).est\n",
    "        \n",
    "        # Appending the predicted ratings\n",
    "        recommendations.append((item_id, est))\n",
    "\n",
    "    # Sorting the predicted ratings in descending order\n",
    "    recommendations.sort(key = lambda x: x[1], reverse = True)\n",
    "\n",
    "    # Returing top n highest predicted rating restaurants for this user\n",
    "    return recommendations[:top_n]"
   ]
  },
  {
   "cell_type": "code",
   "execution_count": 28,
   "metadata": {
    "ExecuteTime": {
     "end_time": "2023-05-15T13:52:18.709136Z",
     "start_time": "2023-05-15T13:52:18.667967Z"
    },
    "id": "e0f36e15"
   },
   "outputs": [],
   "source": [
    "# Getting top 5 recommendations for user_id 4 using \"Co-clustering based optimized\" algorithm\n",
    "clustering_recommendations = get_recommendations(reviews, 4, 5, clust_tuned)"
   ]
  },
  {
   "cell_type": "markdown",
   "metadata": {
    "id": "f1696941"
   },
   "source": [
    "### **Correcting the Ratings and Ranking the above restaurants**"
   ]
  },
  {
   "cell_type": "markdown",
   "metadata": {
    "id": "1de9ddd8"
   },
   "source": [
    "While comparing the ratings of two products, it is not only the **ratings** that describe the **likelihood of the user to that product**. Along with the rating the **number of users who have seen that product** also becomes important to consider. Due to this, we have calculated the **\"corrected_ratings\"** for each product. Commonly higher the **\"rating_count\" of a product more it is liked by users**. To interpret the above concept, a **product rated 4 with rating_count 3 is less liked in comparison to a product rated 3 with a rating count of 50**. It has been **empirically found that the likelihood of the product is directly proportional to the inverse of the square root of the rating_count of the product**."
   ]
  },
  {
   "cell_type": "code",
   "execution_count": 29,
   "metadata": {
    "ExecuteTime": {
     "end_time": "2023-05-15T13:52:18.712798Z",
     "start_time": "2023-05-15T13:52:18.709975Z"
    },
    "id": "2a2f430d"
   },
   "outputs": [],
   "source": [
    "def ranking_restaurants(recommendations, final_rating):\n",
    "  \n",
    "      # Sort the restaurants based on ratings count\n",
    "      ranked_restaurants = final_rating.loc[[items[0] for items in recommendations]].sort_values('rating_count', ascending = False)[['rating_count']].reset_index()\n",
    "\n",
    "      # Merge with the recommended restaurants to get predicted ratings\n",
    "      ranked_restaurants = ranked_restaurants.merge(pd.DataFrame(recommendations, columns = ['business_id', 'predicted_ratings']), on = 'business_id', how = 'inner')\n",
    "\n",
    "      # Rank the restaurants based on corrected ratings\n",
    "      ranked_restaurants['corrected_ratings'] = ranked_restaurants['predicted_ratings'] - 1 / np.sqrt(ranked_restaurants['rating_count'])\n",
    "\n",
    "      # Sort the restaurants based on corrected ratings\n",
    "      ranked_restaurants = ranked_restaurants.sort_values('corrected_ratings', ascending = False)\n",
    "  \n",
    "      return ranked_restaurants"
   ]
  },
  {
   "cell_type": "markdown",
   "metadata": {
    "id": "411fa3ff"
   },
   "source": [
    "**Note:** In the **above-corrected rating formula**, we can add the **quantity `1 / np.sqrt(n)` instead of subtracting it to get more optimistic predictions**. But here we are **subtracting this quantity**, as there are some restaurants with ratings 5 and **we can't have a rating more than 5 for a restaurant**."
   ]
  },
  {
   "cell_type": "code",
   "execution_count": 30,
   "metadata": {
    "ExecuteTime": {
     "end_time": "2023-05-15T13:52:18.720278Z",
     "start_time": "2023-05-15T13:52:18.713555Z"
    },
    "colab": {
     "base_uri": "https://localhost:8080/",
     "height": 206
    },
    "id": "c186f13b",
    "outputId": "f6aa7495-d989-4080-f9df-b60d661c06c7",
    "scrolled": true
   },
   "outputs": [
    {
     "data": {
      "text/html": [
       "<div><div id=9c3cc388-88af-4d14-b5b2-d0ae30510d13 style=\"display:none; background-color:#9D6CFF; color:white; width:200px; height:30px; padding-left:5px; border-radius:4px; flex-direction:row; justify-content:space-around; align-items:center;\" onmouseover=\"this.style.backgroundColor='#BA9BF8'\" onmouseout=\"this.style.backgroundColor='#9D6CFF'\" onclick=\"window.commands?.execute('create-mitosheet-from-dataframe-output');\">See Full Dataframe in Mito</div> <script> if (window.commands?.hasCommand('create-mitosheet-from-dataframe-output')) document.getElementById('9c3cc388-88af-4d14-b5b2-d0ae30510d13').style.display = 'flex' </script> <table border=\"1\" class=\"dataframe\">\n",
       "  <thead>\n",
       "    <tr style=\"text-align: right;\">\n",
       "      <th></th>\n",
       "      <th>business_id</th>\n",
       "      <th>rating_count</th>\n",
       "      <th>predicted_ratings</th>\n",
       "      <th>corrected_ratings</th>\n",
       "    </tr>\n",
       "  </thead>\n",
       "  <tbody>\n",
       "    <tr>\n",
       "      <th>0</th>\n",
       "      <td>56</td>\n",
       "      <td>2</td>\n",
       "      <td>5</td>\n",
       "      <td>4.292893</td>\n",
       "    </tr>\n",
       "    <tr>\n",
       "      <th>1</th>\n",
       "      <td>26</td>\n",
       "      <td>1</td>\n",
       "      <td>5</td>\n",
       "      <td>4.000000</td>\n",
       "    </tr>\n",
       "    <tr>\n",
       "      <th>2</th>\n",
       "      <td>29</td>\n",
       "      <td>1</td>\n",
       "      <td>5</td>\n",
       "      <td>4.000000</td>\n",
       "    </tr>\n",
       "    <tr>\n",
       "      <th>3</th>\n",
       "      <td>40</td>\n",
       "      <td>1</td>\n",
       "      <td>5</td>\n",
       "      <td>4.000000</td>\n",
       "    </tr>\n",
       "    <tr>\n",
       "      <th>4</th>\n",
       "      <td>43</td>\n",
       "      <td>1</td>\n",
       "      <td>5</td>\n",
       "      <td>4.000000</td>\n",
       "    </tr>\n",
       "  </tbody>\n",
       "</table></div>"
      ],
      "text/plain": [
       "   business_id  rating_count  predicted_ratings  corrected_ratings\n",
       "0           56             2                  5           4.292893\n",
       "1           26             1                  5           4.000000\n",
       "2           29             1                  5           4.000000\n",
       "3           40             1                  5           4.000000\n",
       "4           43             1                  5           4.000000"
      ]
     },
     "execution_count": 30,
     "metadata": {},
     "output_type": "execute_result"
    }
   ],
   "source": [
    "# Ranking restaurants based on above recommendations\n",
    "ranking_restaurants(clustering_recommendations, final_rating)"
   ]
  },
  {
   "cell_type": "markdown",
   "metadata": {
    "id": "rbjR5wjNnmkt"
   },
   "source": [
    "**Let us now move to the final recommendation algorithm which is named the Content-based recommendation system.**"
   ]
  },
  {
   "cell_type": "markdown",
   "metadata": {
    "id": "QD5tixLemRow"
   },
   "source": [
    "## **Model 2: Content-based recommendation system**"
   ]
  },
  {
   "cell_type": "markdown",
   "metadata": {
    "id": "oY6qzoJQmRow"
   },
   "source": [
    "In a content-based recommendation system, we would be using the feature - **text**, i.e., reviews to find out similar businesses."
   ]
  },
  {
   "cell_type": "markdown",
   "metadata": {
    "id": "0QcfIpmUmRox"
   },
   "source": [
    "Text data generally contains pronunciation, stopwords, non-ASCII characters which makes it **very noisy**. So, we will first need to **pre-process the text** and then we will **generate features from the text to compute similarities** between the texts/reviews. Before that, let's see some terminology:\n",
    "\n",
    "**stopwords:** A stop word is a commonly used word (such as “the”, “a”, “an”, or “in”) that does not contain information in the text and can be ignored.\n",
    "**Lemmatization:** Lemmatization in linguistics is the process of grouping together the inflected forms of a word so they can be analyzed as a single item. For example, runs, running, and ran are all forms of the word run, therefore run is the lemma of all these words."
   ]
  },
  {
   "cell_type": "code",
   "execution_count": 31,
   "metadata": {
    "ExecuteTime": {
     "end_time": "2023-05-15T13:52:18.873108Z",
     "start_time": "2023-05-15T13:52:18.721379Z"
    },
    "id": "vlf3UUkimRox"
   },
   "outputs": [],
   "source": [
    "# Importing regular expression\n",
    "import re\n",
    "\n",
    "# Importing word tokenize\n",
    "from nltk import word_tokenize\n",
    "\n",
    "# Importing word WordNetLemmatizer\n",
    "from nltk.stem import WordNetLemmatizer\n",
    "\n",
    "# Importing word stopwords\n",
    "from nltk.corpus import stopwords\n",
    "\n",
    "# Importing word TfidfVectorizer\n",
    "from sklearn.feature_extraction.text import TfidfVectorizer"
   ]
  },
  {
   "cell_type": "code",
   "execution_count": 32,
   "metadata": {
    "ExecuteTime": {
     "end_time": "2023-05-15T13:52:18.875927Z",
     "start_time": "2023-05-15T13:52:18.873950Z"
    },
    "id": "HJflLPSJmRox"
   },
   "outputs": [],
   "source": [
    "def tokenize(text):\n",
    "    \n",
    "    # Making each letter as lowercase and removing non-alphabetical text\n",
    "    text = re.sub(r\"[^a-zA-Z]\", \" \", text.lower())\n",
    "    \n",
    "    # Extracting each word in the text\n",
    "    tokens = word_tokenize(text)\n",
    "    \n",
    "    # Removing stopwords\n",
    "    words = [word for word in tokens if word not in stopwords.words(\"english\")]\n",
    "    \n",
    "    # Lemmatize the words\n",
    "    text_lems = [WordNetLemmatizer().lemmatize(lem).strip() for lem in words]\n",
    "\n",
    "    return text_lems"
   ]
  },
  {
   "cell_type": "markdown",
   "metadata": {
    "id": "CgKdvygE2-yQ"
   },
   "source": [
    "### **Feature Extraction**"
   ]
  },
  {
   "cell_type": "markdown",
   "metadata": {
    "id": "iE12-0FM2-yQ"
   },
   "source": [
    "Below are some of the ways to extract features from texts.\n",
    "- Bag of words\n",
    "- TF-IDF\n",
    "- One hot encoding\n",
    "- Word vectors\n",
    "\n",
    "Here, we will be using **tfidf** as a feature extraction technique."
   ]
  },
  {
   "cell_type": "code",
   "execution_count": 33,
   "metadata": {
    "ExecuteTime": {
     "end_time": "2023-05-15T13:52:18.882657Z",
     "start_time": "2023-05-15T13:52:18.876730Z"
    },
    "colab": {
     "base_uri": "https://localhost:8080/"
    },
    "id": "Ra_zcnEAmRox",
    "outputId": "24bf620d-6036-45d1-d237-1b6bb49405a4"
   },
   "outputs": [
    {
     "data": {
      "text/plain": [
       "0               Johnny's Uptown\n",
       "1    Golden Spoon Frozen Yogurt\n",
       "2      Coco's Family Restaurant\n",
       "3                     Food City\n",
       "4                  Julioberto's\n",
       "Name: business_name, dtype: object"
      ]
     },
     "execution_count": 33,
     "metadata": {},
     "output_type": "execute_result"
    }
   ],
   "source": [
    "# Selecting a random subset of the original data\n",
    "reviews_small = reviews.sample(n = 1000, random_state = 42)\n",
    "\n",
    "# Setting the index\n",
    "reviews_small = reviews_small.set_index('business_name')\n",
    "\n",
    "# Creating the indices object\n",
    "indices = pd.Series(reviews_small.index)\n",
    "\n",
    "# Let us see the first 5 indices\n",
    "indices[:5]"
   ]
  },
  {
   "cell_type": "code",
   "execution_count": 34,
   "metadata": {
    "ExecuteTime": {
     "end_time": "2023-05-15T13:52:19.001466Z",
     "start_time": "2023-05-15T13:52:18.883618Z"
    },
    "colab": {
     "base_uri": "https://localhost:8080/"
    },
    "id": "cxvkmMIexDZM",
    "outputId": "36545fdd-3487-4bc7-b6ea-b9d6a43c15be"
   },
   "outputs": [
    {
     "name": "stderr",
     "output_type": "stream",
     "text": [
      "[nltk_data] Downloading package punkt to /Users/mhogge/nltk_data...\n",
      "[nltk_data]   Package punkt is already up-to-date!\n",
      "[nltk_data] Downloading package stopwords to\n",
      "[nltk_data]     /Users/mhogge/nltk_data...\n",
      "[nltk_data]   Package stopwords is already up-to-date!\n",
      "[nltk_data] Downloading package wordnet to /Users/mhogge/nltk_data...\n",
      "[nltk_data]   Package wordnet is already up-to-date!\n"
     ]
    },
    {
     "data": {
      "text/plain": [
       "True"
      ]
     },
     "execution_count": 34,
     "metadata": {},
     "output_type": "execute_result"
    }
   ],
   "source": [
    "# Import nltk\n",
    "import nltk\n",
    "\n",
    "# Downlaod the punkt for punctuation\n",
    "nltk.download(\"punkt\")\n",
    "\n",
    "# Downlaod the stopwords\n",
    "nltk.download('stopwords')\n",
    "\n",
    "# Download the wordnet\n",
    "nltk.download('wordnet')"
   ]
  },
  {
   "cell_type": "code",
   "execution_count": 35,
   "metadata": {
    "ExecuteTime": {
     "end_time": "2023-05-15T13:52:27.609781Z",
     "start_time": "2023-05-15T13:52:19.002579Z"
    },
    "id": "-L3NOAZimRox"
   },
   "outputs": [],
   "source": [
    "# Create the TfidfVectorizer\n",
    "tfidf = TfidfVectorizer(tokenizer = tokenize)\n",
    "\n",
    "review_tfidf = tfidf.fit_transform(reviews_small['text'].values).toarray()"
   ]
  },
  {
   "cell_type": "code",
   "execution_count": 36,
   "metadata": {
    "ExecuteTime": {
     "end_time": "2023-05-15T13:52:27.624575Z",
     "start_time": "2023-05-15T13:52:27.610778Z"
    },
    "colab": {
     "base_uri": "https://localhost:8080/",
     "height": 424
    },
    "id": "Ej00nZ9o2-yQ",
    "outputId": "0b02bc75-c58c-4a0e-eb3f-0144cc81da32"
   },
   "outputs": [
    {
     "data": {
      "text/html": [
       "<div><div id=e4c7f4ff-a4b3-45a2-98d2-ef3c40b70c5e style=\"display:none; background-color:#9D6CFF; color:white; width:200px; height:30px; padding-left:5px; border-radius:4px; flex-direction:row; justify-content:space-around; align-items:center;\" onmouseover=\"this.style.backgroundColor='#BA9BF8'\" onmouseout=\"this.style.backgroundColor='#9D6CFF'\" onclick=\"window.commands?.execute('create-mitosheet-from-dataframe-output');\">See Full Dataframe in Mito</div> <script> if (window.commands?.hasCommand('create-mitosheet-from-dataframe-output')) document.getElementById('e4c7f4ff-a4b3-45a2-98d2-ef3c40b70c5e').style.display = 'flex' </script> <table border=\"1\" class=\"dataframe\">\n",
       "  <thead>\n",
       "    <tr style=\"text-align: right;\">\n",
       "      <th></th>\n",
       "      <th>0</th>\n",
       "      <th>1</th>\n",
       "      <th>2</th>\n",
       "      <th>3</th>\n",
       "      <th>4</th>\n",
       "      <th>5</th>\n",
       "      <th>6</th>\n",
       "      <th>7</th>\n",
       "      <th>8</th>\n",
       "      <th>9</th>\n",
       "      <th>...</th>\n",
       "      <th>9719</th>\n",
       "      <th>9720</th>\n",
       "      <th>9721</th>\n",
       "      <th>9722</th>\n",
       "      <th>9723</th>\n",
       "      <th>9724</th>\n",
       "      <th>9725</th>\n",
       "      <th>9726</th>\n",
       "      <th>9727</th>\n",
       "      <th>9728</th>\n",
       "    </tr>\n",
       "  </thead>\n",
       "  <tbody>\n",
       "    <tr>\n",
       "      <th>0</th>\n",
       "      <td>0.0</td>\n",
       "      <td>0.0</td>\n",
       "      <td>0.0</td>\n",
       "      <td>0.0</td>\n",
       "      <td>0.0</td>\n",
       "      <td>0.0</td>\n",
       "      <td>0.0</td>\n",
       "      <td>0.0</td>\n",
       "      <td>0.0</td>\n",
       "      <td>0.0</td>\n",
       "      <td>...</td>\n",
       "      <td>0.0</td>\n",
       "      <td>0.0</td>\n",
       "      <td>0.0</td>\n",
       "      <td>0.0</td>\n",
       "      <td>0.0</td>\n",
       "      <td>0.0</td>\n",
       "      <td>0.000000</td>\n",
       "      <td>0.0</td>\n",
       "      <td>0.0</td>\n",
       "      <td>0.0</td>\n",
       "    </tr>\n",
       "    <tr>\n",
       "      <th>1</th>\n",
       "      <td>0.0</td>\n",
       "      <td>0.0</td>\n",
       "      <td>0.0</td>\n",
       "      <td>0.0</td>\n",
       "      <td>0.0</td>\n",
       "      <td>0.0</td>\n",
       "      <td>0.0</td>\n",
       "      <td>0.0</td>\n",
       "      <td>0.0</td>\n",
       "      <td>0.0</td>\n",
       "      <td>...</td>\n",
       "      <td>0.0</td>\n",
       "      <td>0.0</td>\n",
       "      <td>0.0</td>\n",
       "      <td>0.0</td>\n",
       "      <td>0.0</td>\n",
       "      <td>0.0</td>\n",
       "      <td>0.000000</td>\n",
       "      <td>0.0</td>\n",
       "      <td>0.0</td>\n",
       "      <td>0.0</td>\n",
       "    </tr>\n",
       "    <tr>\n",
       "      <th>2</th>\n",
       "      <td>0.0</td>\n",
       "      <td>0.0</td>\n",
       "      <td>0.0</td>\n",
       "      <td>0.0</td>\n",
       "      <td>0.0</td>\n",
       "      <td>0.0</td>\n",
       "      <td>0.0</td>\n",
       "      <td>0.0</td>\n",
       "      <td>0.0</td>\n",
       "      <td>0.0</td>\n",
       "      <td>...</td>\n",
       "      <td>0.0</td>\n",
       "      <td>0.0</td>\n",
       "      <td>0.0</td>\n",
       "      <td>0.0</td>\n",
       "      <td>0.0</td>\n",
       "      <td>0.0</td>\n",
       "      <td>0.000000</td>\n",
       "      <td>0.0</td>\n",
       "      <td>0.0</td>\n",
       "      <td>0.0</td>\n",
       "    </tr>\n",
       "    <tr>\n",
       "      <th>3</th>\n",
       "      <td>0.0</td>\n",
       "      <td>0.0</td>\n",
       "      <td>0.0</td>\n",
       "      <td>0.0</td>\n",
       "      <td>0.0</td>\n",
       "      <td>0.0</td>\n",
       "      <td>0.0</td>\n",
       "      <td>0.0</td>\n",
       "      <td>0.0</td>\n",
       "      <td>0.0</td>\n",
       "      <td>...</td>\n",
       "      <td>0.0</td>\n",
       "      <td>0.0</td>\n",
       "      <td>0.0</td>\n",
       "      <td>0.0</td>\n",
       "      <td>0.0</td>\n",
       "      <td>0.0</td>\n",
       "      <td>0.136909</td>\n",
       "      <td>0.0</td>\n",
       "      <td>0.0</td>\n",
       "      <td>0.0</td>\n",
       "    </tr>\n",
       "    <tr>\n",
       "      <th>4</th>\n",
       "      <td>0.0</td>\n",
       "      <td>0.0</td>\n",
       "      <td>0.0</td>\n",
       "      <td>0.0</td>\n",
       "      <td>0.0</td>\n",
       "      <td>0.0</td>\n",
       "      <td>0.0</td>\n",
       "      <td>0.0</td>\n",
       "      <td>0.0</td>\n",
       "      <td>0.0</td>\n",
       "      <td>...</td>\n",
       "      <td>0.0</td>\n",
       "      <td>0.0</td>\n",
       "      <td>0.0</td>\n",
       "      <td>0.0</td>\n",
       "      <td>0.0</td>\n",
       "      <td>0.0</td>\n",
       "      <td>0.000000</td>\n",
       "      <td>0.0</td>\n",
       "      <td>0.0</td>\n",
       "      <td>0.0</td>\n",
       "    </tr>\n",
       "    <tr>\n",
       "      <th>...</th>\n",
       "      <td>...</td>\n",
       "      <td>...</td>\n",
       "      <td>...</td>\n",
       "      <td>...</td>\n",
       "      <td>...</td>\n",
       "      <td>...</td>\n",
       "      <td>...</td>\n",
       "      <td>...</td>\n",
       "      <td>...</td>\n",
       "      <td>...</td>\n",
       "      <td>...</td>\n",
       "      <td>...</td>\n",
       "      <td>...</td>\n",
       "      <td>...</td>\n",
       "      <td>...</td>\n",
       "      <td>...</td>\n",
       "      <td>...</td>\n",
       "      <td>...</td>\n",
       "      <td>...</td>\n",
       "      <td>...</td>\n",
       "      <td>...</td>\n",
       "    </tr>\n",
       "    <tr>\n",
       "      <th>995</th>\n",
       "      <td>0.0</td>\n",
       "      <td>0.0</td>\n",
       "      <td>0.0</td>\n",
       "      <td>0.0</td>\n",
       "      <td>0.0</td>\n",
       "      <td>0.0</td>\n",
       "      <td>0.0</td>\n",
       "      <td>0.0</td>\n",
       "      <td>0.0</td>\n",
       "      <td>0.0</td>\n",
       "      <td>...</td>\n",
       "      <td>0.0</td>\n",
       "      <td>0.0</td>\n",
       "      <td>0.0</td>\n",
       "      <td>0.0</td>\n",
       "      <td>0.0</td>\n",
       "      <td>0.0</td>\n",
       "      <td>0.000000</td>\n",
       "      <td>0.0</td>\n",
       "      <td>0.0</td>\n",
       "      <td>0.0</td>\n",
       "    </tr>\n",
       "    <tr>\n",
       "      <th>996</th>\n",
       "      <td>0.0</td>\n",
       "      <td>0.0</td>\n",
       "      <td>0.0</td>\n",
       "      <td>0.0</td>\n",
       "      <td>0.0</td>\n",
       "      <td>0.0</td>\n",
       "      <td>0.0</td>\n",
       "      <td>0.0</td>\n",
       "      <td>0.0</td>\n",
       "      <td>0.0</td>\n",
       "      <td>...</td>\n",
       "      <td>0.0</td>\n",
       "      <td>0.0</td>\n",
       "      <td>0.0</td>\n",
       "      <td>0.0</td>\n",
       "      <td>0.0</td>\n",
       "      <td>0.0</td>\n",
       "      <td>0.000000</td>\n",
       "      <td>0.0</td>\n",
       "      <td>0.0</td>\n",
       "      <td>0.0</td>\n",
       "    </tr>\n",
       "    <tr>\n",
       "      <th>997</th>\n",
       "      <td>0.0</td>\n",
       "      <td>0.0</td>\n",
       "      <td>0.0</td>\n",
       "      <td>0.0</td>\n",
       "      <td>0.0</td>\n",
       "      <td>0.0</td>\n",
       "      <td>0.0</td>\n",
       "      <td>0.0</td>\n",
       "      <td>0.0</td>\n",
       "      <td>0.0</td>\n",
       "      <td>...</td>\n",
       "      <td>0.0</td>\n",
       "      <td>0.0</td>\n",
       "      <td>0.0</td>\n",
       "      <td>0.0</td>\n",
       "      <td>0.0</td>\n",
       "      <td>0.0</td>\n",
       "      <td>0.000000</td>\n",
       "      <td>0.0</td>\n",
       "      <td>0.0</td>\n",
       "      <td>0.0</td>\n",
       "    </tr>\n",
       "    <tr>\n",
       "      <th>998</th>\n",
       "      <td>0.0</td>\n",
       "      <td>0.0</td>\n",
       "      <td>0.0</td>\n",
       "      <td>0.0</td>\n",
       "      <td>0.0</td>\n",
       "      <td>0.0</td>\n",
       "      <td>0.0</td>\n",
       "      <td>0.0</td>\n",
       "      <td>0.0</td>\n",
       "      <td>0.0</td>\n",
       "      <td>...</td>\n",
       "      <td>0.0</td>\n",
       "      <td>0.0</td>\n",
       "      <td>0.0</td>\n",
       "      <td>0.0</td>\n",
       "      <td>0.0</td>\n",
       "      <td>0.0</td>\n",
       "      <td>0.000000</td>\n",
       "      <td>0.0</td>\n",
       "      <td>0.0</td>\n",
       "      <td>0.0</td>\n",
       "    </tr>\n",
       "    <tr>\n",
       "      <th>999</th>\n",
       "      <td>0.0</td>\n",
       "      <td>0.0</td>\n",
       "      <td>0.0</td>\n",
       "      <td>0.0</td>\n",
       "      <td>0.0</td>\n",
       "      <td>0.0</td>\n",
       "      <td>0.0</td>\n",
       "      <td>0.0</td>\n",
       "      <td>0.0</td>\n",
       "      <td>0.0</td>\n",
       "      <td>...</td>\n",
       "      <td>0.0</td>\n",
       "      <td>0.0</td>\n",
       "      <td>0.0</td>\n",
       "      <td>0.0</td>\n",
       "      <td>0.0</td>\n",
       "      <td>0.0</td>\n",
       "      <td>0.000000</td>\n",
       "      <td>0.0</td>\n",
       "      <td>0.0</td>\n",
       "      <td>0.0</td>\n",
       "    </tr>\n",
       "  </tbody>\n",
       "</table></div>"
      ],
      "text/plain": [
       "     0     1     2     3     4     5     6     7     8     9     ...  9719  \\\n",
       "0     0.0   0.0   0.0   0.0   0.0   0.0   0.0   0.0   0.0   0.0  ...   0.0   \n",
       "1     0.0   0.0   0.0   0.0   0.0   0.0   0.0   0.0   0.0   0.0  ...   0.0   \n",
       "2     0.0   0.0   0.0   0.0   0.0   0.0   0.0   0.0   0.0   0.0  ...   0.0   \n",
       "3     0.0   0.0   0.0   0.0   0.0   0.0   0.0   0.0   0.0   0.0  ...   0.0   \n",
       "4     0.0   0.0   0.0   0.0   0.0   0.0   0.0   0.0   0.0   0.0  ...   0.0   \n",
       "..    ...   ...   ...   ...   ...   ...   ...   ...   ...   ...  ...   ...   \n",
       "995   0.0   0.0   0.0   0.0   0.0   0.0   0.0   0.0   0.0   0.0  ...   0.0   \n",
       "996   0.0   0.0   0.0   0.0   0.0   0.0   0.0   0.0   0.0   0.0  ...   0.0   \n",
       "997   0.0   0.0   0.0   0.0   0.0   0.0   0.0   0.0   0.0   0.0  ...   0.0   \n",
       "998   0.0   0.0   0.0   0.0   0.0   0.0   0.0   0.0   0.0   0.0  ...   0.0   \n",
       "999   0.0   0.0   0.0   0.0   0.0   0.0   0.0   0.0   0.0   0.0  ...   0.0   \n",
       "\n",
       "     9720  9721  9722  9723  9724      9725  9726  9727  9728  \n",
       "0     0.0   0.0   0.0   0.0   0.0  0.000000   0.0   0.0   0.0  \n",
       "1     0.0   0.0   0.0   0.0   0.0  0.000000   0.0   0.0   0.0  \n",
       "2     0.0   0.0   0.0   0.0   0.0  0.000000   0.0   0.0   0.0  \n",
       "3     0.0   0.0   0.0   0.0   0.0  0.136909   0.0   0.0   0.0  \n",
       "4     0.0   0.0   0.0   0.0   0.0  0.000000   0.0   0.0   0.0  \n",
       "..    ...   ...   ...   ...   ...       ...   ...   ...   ...  \n",
       "995   0.0   0.0   0.0   0.0   0.0  0.000000   0.0   0.0   0.0  \n",
       "996   0.0   0.0   0.0   0.0   0.0  0.000000   0.0   0.0   0.0  \n",
       "997   0.0   0.0   0.0   0.0   0.0  0.000000   0.0   0.0   0.0  \n",
       "998   0.0   0.0   0.0   0.0   0.0  0.000000   0.0   0.0   0.0  \n",
       "999   0.0   0.0   0.0   0.0   0.0  0.000000   0.0   0.0   0.0  \n",
       "\n",
       "[1000 rows x 9729 columns]"
      ]
     },
     "execution_count": 36,
     "metadata": {},
     "output_type": "execute_result"
    }
   ],
   "source": [
    "# Let us view the review_tfidf dataframe\n",
    "pd.DataFrame(review_tfidf)"
   ]
  },
  {
   "cell_type": "markdown",
   "metadata": {
    "id": "H7H6hpa-2-yR"
   },
   "source": [
    "We have extracted **9729 features** from the text data. Now, we can find similarities between businesses using these features. We will use cosine similarity to calculate the similarity."
   ]
  },
  {
   "cell_type": "code",
   "execution_count": 37,
   "metadata": {
    "ExecuteTime": {
     "end_time": "2023-05-15T13:52:27.792039Z",
     "start_time": "2023-05-15T13:52:27.625983Z"
    },
    "colab": {
     "base_uri": "https://localhost:8080/"
    },
    "id": "Dq_pI74GmRox",
    "outputId": "26a1ee0f-6b17-44d8-d841-7676c10e472b"
   },
   "outputs": [
    {
     "data": {
      "text/plain": [
       "array([[1.        , 0.0153254 , 0.050605  , ..., 0.02126092, 0.02458539,\n",
       "        0.04139967],\n",
       "       [0.0153254 , 1.        , 0.05231965, ..., 0.00561574, 0.        ,\n",
       "        0.03093412],\n",
       "       [0.050605  , 0.05231965, 1.        , ..., 0.00881088, 0.03442084,\n",
       "        0.05101726],\n",
       "       ...,\n",
       "       [0.02126092, 0.00561574, 0.00881088, ..., 1.        , 0.16178544,\n",
       "        0.01478691],\n",
       "       [0.02458539, 0.        , 0.03442084, ..., 0.16178544, 1.        ,\n",
       "        0.        ],\n",
       "       [0.04139967, 0.03093412, 0.05101726, ..., 0.01478691, 0.        ,\n",
       "        1.        ]])"
      ]
     },
     "execution_count": 37,
     "metadata": {},
     "output_type": "execute_result"
    }
   ],
   "source": [
    "similar_review = cosine_similarity(review_tfidf, review_tfidf)\n",
    "similar_review"
   ]
  },
  {
   "cell_type": "markdown",
   "metadata": {
    "id": "HITTERec2-yR"
   },
   "source": [
    "**Finally, let's create a function to find most similar businesses to recommend for a given business.**"
   ]
  },
  {
   "cell_type": "code",
   "execution_count": 38,
   "metadata": {
    "ExecuteTime": {
     "end_time": "2023-05-15T13:52:27.813396Z",
     "start_time": "2023-05-15T13:52:27.798591Z"
    },
    "id": "e37w0iHq2-yR"
   },
   "outputs": [],
   "source": [
    "# Function that takes in business title as input and returns the top 10 recommended businesses\n",
    "def recommendations(title, similar_review):\n",
    "    \n",
    "    recommended_businesses = []\n",
    "    \n",
    "    indices = pd.Series(reviews_small.index)\n",
    "    \n",
    "    # Getting the index of the business that matches the title\n",
    "    idx = indices[indices == title].index[0]\n",
    "\n",
    "    # Creating a Series with the similarity scores in descending order\n",
    "    score_series = pd.Series(similar_review[idx]).sort_values(ascending = False)\n",
    "\n",
    "    # Getting the indices of 10 most similar businesses\n",
    "    top_10_indexes = list(score_series.iloc[1 : 11].index)\n",
    "    \n",
    "    # Let us print the top_10_indexes\n",
    "    print(top_10_indexes)\n",
    "    \n",
    "    # populating the list with the titles of the best 10 matching businesses\n",
    "    for i in top_10_indexes:\n",
    "        recommended_businesses.append(list(reviews_small.index)[i])\n",
    "        \n",
    "    return recommended_businesses"
   ]
  },
  {
   "cell_type": "code",
   "execution_count": 39,
   "metadata": {
    "ExecuteTime": {
     "end_time": "2023-05-15T13:52:27.827286Z",
     "start_time": "2023-05-15T13:52:27.815859Z"
    },
    "colab": {
     "base_uri": "https://localhost:8080/"
    },
    "id": "0uHA6IebmRoy",
    "outputId": "a9e51aad-63b4-4a65-eb1a-7cc830b83884"
   },
   "outputs": [
    {
     "name": "stdout",
     "output_type": "stream",
     "text": [
      "[665, 675, 761, 269, 971, 777, 861, 634, 824, 811]\n"
     ]
    },
    {
     "data": {
      "text/plain": [
       "['St Francis Restaurant',\n",
       " '98 South',\n",
       " 'RA Sushi Bar Restaurant',\n",
       " 'Bliss ReBAR',\n",
       " \"Grimaldi's Pizzeria\",\n",
       " 'The Clubhouse Music Venue',\n",
       " \"Joe's Farm Grill\",\n",
       " 'Java Magazine',\n",
       " 'Orange Table',\n",
       " 'Best Hong Kong Dining']"
      ]
     },
     "execution_count": 39,
     "metadata": {},
     "output_type": "execute_result"
    }
   ],
   "source": [
    "# Implement the recommendations function\n",
    "recommendations(\"Johnny's Uptown\", similar_review)"
   ]
  },
  {
   "cell_type": "markdown",
   "metadata": {
    "id": "16Q96E2a2-yR"
   },
   "source": [
    "- The **St Francis Restaurant** is a top-rated restaurant in the subset reviews_small and the majority of our recommendations are restaurants with 4 or 5 stars which implies that the resulting recommendation system is working well."
   ]
  },
  {
   "cell_type": "markdown",
   "metadata": {
    "id": "zM138dV42-yR"
   },
   "source": [
    "### **Conclusion**"
   ]
  },
  {
   "cell_type": "markdown",
   "metadata": {
    "id": "sGuJRhJ7mRoy"
   },
   "source": [
    "In this notebook, we have seen below recommendation techniques: \n",
    "- **Clustering based recommendation systems**\n",
    "- **Content based recommendation systems**\n",
    "\n",
    "We have see how they are different from each other and what kind of data is needed to build each of these two recommendation systems. We can further combine all the recommendation techniques we have see so far to create a hybrid recommendation system."
   ]
  },
  {
   "cell_type": "code",
   "execution_count": null,
   "metadata": {},
   "outputs": [],
   "source": []
  }
 ],
 "metadata": {
  "colab": {
   "collapsed_sections": [],
   "name": "Recommendation_System_Yelp_Part2 (2).ipynb",
   "provenance": []
  },
  "kernelspec": {
   "display_name": "Python 3 (ipykernel)",
   "language": "python",
   "name": "python3"
  },
  "language_info": {
   "codemirror_mode": {
    "name": "ipython",
    "version": 3
   },
   "file_extension": ".py",
   "mimetype": "text/x-python",
   "name": "python",
   "nbconvert_exporter": "python",
   "pygments_lexer": "ipython3",
   "version": "3.10.9"
  },
  "varInspector": {
   "cols": {
    "lenName": 16,
    "lenType": 16,
    "lenVar": 40
   },
   "kernels_config": {
    "python": {
     "delete_cmd_postfix": "",
     "delete_cmd_prefix": "del ",
     "library": "var_list.py",
     "varRefreshCmd": "print(var_dic_list())"
    },
    "r": {
     "delete_cmd_postfix": ") ",
     "delete_cmd_prefix": "rm(",
     "library": "var_list.r",
     "varRefreshCmd": "cat(var_dic_list()) "
    }
   },
   "types_to_exclude": [
    "module",
    "function",
    "builtin_function_or_method",
    "instance",
    "_Feature"
   ],
   "window_display": false
  }
 },
 "nbformat": 4,
 "nbformat_minor": 1
}

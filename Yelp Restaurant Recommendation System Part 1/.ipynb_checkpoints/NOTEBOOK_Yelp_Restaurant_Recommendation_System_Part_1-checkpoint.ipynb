{
 "cells": [
  {
   "cell_type": "markdown",
   "id": "34b2ab98",
   "metadata": {
    "id": "sOHvo0wD2LQ_"
   },
   "source": [
    "# **Case Study: Yelp Restaurant Recommendation System Part 1**\n",
    "\n",
    "---------------\n",
    "## **Context**\n",
    "---------------\n",
    "\n",
    "**Yelp** was founded in **2004** to help people find **great local businesses**. Today, the website and their mobile application publish crowd-sourced reviews about local businesses as well as certain metadata about them that can help in customer's **decision-making process**. Yelp uses automated software to recommend the **most helpful** and **reliable reviews** for the Yelp community from such a large and diverse dataset.\n",
    "\n",
    "The Yelp dataset is a large collection of user reviews, business metadata, business check-ins, users' social network data, user tips for businesses across 10 cities spread across **4 countries**. The original dataset is very huge with ~ 11GB of data. In this case study, we will only use a subset of data due to the hardware limitations.\n",
    "\n",
    "-----------------\n",
    "## **Objective**\n",
    "-----------------\n",
    "\n",
    "In this case study, we will build three types of recommendation systems: \n",
    "- **Knowledge/Rank Based recommendation system**\n",
    "- **Similarity-Based Collaborative filtering**\n",
    "- **Matrix Factorization Based Collaborative Filtering**\n",
    "\n",
    "\n",
    "-----------------\n",
    "## **Dataset**\n",
    "-----------------\n",
    "\n",
    "Out of many attributes available in the yelp_reviews data, we will only use the following four attributes:\n",
    "- business_id\n",
    "- business_name\n",
    "- stars\n",
    "- user_id"
   ]
  },
  {
   "cell_type": "markdown",
   "id": "75df8a08",
   "metadata": {
    "id": "B6VnNBJ-2LRB"
   },
   "source": [
    "## **Importing the necessary libraries and overview of the dataset**"
   ]
  },
  {
   "cell_type": "code",
   "execution_count": 1,
   "id": "810a2284",
   "metadata": {
    "ExecuteTime": {
     "end_time": "2023-05-15T13:13:37.168485Z",
     "start_time": "2023-05-15T13:13:36.389836Z"
    },
    "id": "ohW5c8VM2LRC"
   },
   "outputs": [],
   "source": [
    "# Used to ignore the warning given as output of the code\n",
    "import warnings\n",
    "warnings.filterwarnings('ignore')\n",
    "\n",
    "# Basic libraries of python for numeric and dataframe computations\n",
    "import numpy as np, pandas as pd\n",
    "\n",
    "# Basic library for data visualization\n",
    "import matplotlib.pyplot as plt\n",
    "\n",
    "# Slightly advanced library for data visualization\n",
    "import seaborn as sns\n",
    "\n",
    "# A dictionary output that does not raise a key error\n",
    "from collections import defaultdict\n",
    "\n",
    "# A performance metrics in sklearn\n",
    "from sklearn.metrics import mean_squared_error"
   ]
  },
  {
   "cell_type": "markdown",
   "id": "be3a1141",
   "metadata": {
    "id": "P9cIYB1Z2LRE"
   },
   "source": [
    "### **Loading the data**"
   ]
  },
  {
   "cell_type": "code",
   "execution_count": 2,
   "id": "5dcb0d08",
   "metadata": {
    "ExecuteTime": {
     "end_time": "2023-05-15T13:13:37.869834Z",
     "start_time": "2023-05-15T13:13:37.169329Z"
    },
    "id": "iewRv9wA2LRF"
   },
   "outputs": [],
   "source": [
    "# Importing the dataset\n",
    "yelp_review = pd.read_csv('yelp_reviews.csv', usecols = ['user_id', 'business_id', 'business_name', 'stars'])\n",
    "\n",
    "# Dropping the \"business_name\" column\n",
    "data = yelp_review.drop(\"business_name\", axis = 1)"
   ]
  },
  {
   "cell_type": "markdown",
   "id": "6eb513ee",
   "metadata": {
    "id": "GyZn1gSjjjEs"
   },
   "source": [
    "Let's check the **info** of the data."
   ]
  },
  {
   "cell_type": "code",
   "execution_count": 3,
   "id": "2aea48b5",
   "metadata": {
    "ExecuteTime": {
     "end_time": "2023-05-15T13:13:37.903426Z",
     "start_time": "2023-05-15T13:13:37.871365Z"
    },
    "colab": {
     "base_uri": "https://localhost:8080/"
    },
    "id": "62AzehV-jjEt",
    "outputId": "091c75e0-849b-48e4-e68a-da2aabfe080f"
   },
   "outputs": [
    {
     "name": "stdout",
     "output_type": "stream",
     "text": [
      "<class 'pandas.core.frame.DataFrame'>\n",
      "RangeIndex: 229907 entries, 0 to 229906\n",
      "Data columns (total 3 columns):\n",
      " #   Column       Non-Null Count   Dtype \n",
      "---  ------       --------------   ----- \n",
      " 0   business_id  229907 non-null  object\n",
      " 1   stars        229907 non-null  int64 \n",
      " 2   user_id      229907 non-null  object\n",
      "dtypes: int64(1), object(2)\n",
      "memory usage: 5.3+ MB\n"
     ]
    }
   ],
   "source": [
    "# This method is used to get the info of the dataframe.\n",
    "data.info()"
   ]
  },
  {
   "cell_type": "markdown",
   "id": "b5e19908",
   "metadata": {
    "id": "vXpo1IoXjjEu"
   },
   "source": [
    "- There are **2,29,907 rows** and **3 columns** in the data."
   ]
  },
  {
   "cell_type": "markdown",
   "id": "995c9092",
   "metadata": {
    "id": "FFbQ0m-b2LRH"
   },
   "source": [
    "## **Data Exploration**\n",
    "\n",
    "Let's start with the data exploration.\n",
    "\n",
    "**We will first see the first five records of the yelp_review data.**"
   ]
  },
  {
   "cell_type": "code",
   "execution_count": 4,
   "id": "d65d4261",
   "metadata": {
    "ExecuteTime": {
     "end_time": "2023-05-15T13:13:37.908842Z",
     "start_time": "2023-05-15T13:13:37.904363Z"
    },
    "colab": {
     "base_uri": "https://localhost:8080/",
     "height": 206
    },
    "id": "9ufxAfJA2LRI",
    "outputId": "e4107563-fdcd-48a7-e220-6c9957d30a49"
   },
   "outputs": [
    {
     "data": {
      "text/html": [
       "<div><div id=3369d7fe-59a6-40ca-89f3-dc2d0ba86fc7 style=\"display:none; background-color:#9D6CFF; color:white; width:200px; height:30px; padding-left:5px; border-radius:4px; flex-direction:row; justify-content:space-around; align-items:center;\" onmouseover=\"this.style.backgroundColor='#BA9BF8'\" onmouseout=\"this.style.backgroundColor='#9D6CFF'\" onclick=\"window.commands?.execute('create-mitosheet-from-dataframe-output');\">See Full Dataframe in Mito</div> <script> if (window.commands?.hasCommand('create-mitosheet-from-dataframe-output')) document.getElementById('3369d7fe-59a6-40ca-89f3-dc2d0ba86fc7').style.display = 'flex' </script> <table border=\"1\" class=\"dataframe\">\n",
       "  <thead>\n",
       "    <tr style=\"text-align: right;\">\n",
       "      <th></th>\n",
       "      <th>business_id</th>\n",
       "      <th>stars</th>\n",
       "      <th>user_id</th>\n",
       "    </tr>\n",
       "  </thead>\n",
       "  <tbody>\n",
       "    <tr>\n",
       "      <th>0</th>\n",
       "      <td>9yKzy9PApeiPPOUJEtnvkg</td>\n",
       "      <td>5</td>\n",
       "      <td>rLtl8ZkDX5vH5nAx9C3q5Q</td>\n",
       "    </tr>\n",
       "    <tr>\n",
       "      <th>1</th>\n",
       "      <td>ZRJwVLyzEJq1VAihDhYiow</td>\n",
       "      <td>5</td>\n",
       "      <td>0a2KyEL0d3Yb1V6aivbIuQ</td>\n",
       "    </tr>\n",
       "    <tr>\n",
       "      <th>2</th>\n",
       "      <td>6oRAC4uyJCsJl1X0WZpVSA</td>\n",
       "      <td>4</td>\n",
       "      <td>0hT2KtfLiobPvh6cDC8JQg</td>\n",
       "    </tr>\n",
       "    <tr>\n",
       "      <th>3</th>\n",
       "      <td>_1QQZuf4zZOyFCvXc0o6Vg</td>\n",
       "      <td>5</td>\n",
       "      <td>uZetl9T0NcROGOyFfughhg</td>\n",
       "    </tr>\n",
       "    <tr>\n",
       "      <th>4</th>\n",
       "      <td>6ozycU1RpktNG2-1BroVtw</td>\n",
       "      <td>5</td>\n",
       "      <td>vYmM4KTsC8ZfQBg-j5MWkw</td>\n",
       "    </tr>\n",
       "  </tbody>\n",
       "</table></div>"
      ],
      "text/plain": [
       "              business_id  stars                 user_id\n",
       "0  9yKzy9PApeiPPOUJEtnvkg      5  rLtl8ZkDX5vH5nAx9C3q5Q\n",
       "1  ZRJwVLyzEJq1VAihDhYiow      5  0a2KyEL0d3Yb1V6aivbIuQ\n",
       "2  6oRAC4uyJCsJl1X0WZpVSA      4  0hT2KtfLiobPvh6cDC8JQg\n",
       "3  _1QQZuf4zZOyFCvXc0o6Vg      5  uZetl9T0NcROGOyFfughhg\n",
       "4  6ozycU1RpktNG2-1BroVtw      5  vYmM4KTsC8ZfQBg-j5MWkw"
      ]
     },
     "execution_count": 4,
     "metadata": {},
     "output_type": "execute_result"
    }
   ],
   "source": [
    "# The head method is used to display the first five records of the dataset\n",
    "data.head()"
   ]
  },
  {
   "cell_type": "markdown",
   "id": "9b577c36",
   "metadata": {
    "id": "JYtlN9YUjjEv"
   },
   "source": [
    "#### **Describe the distribution of ratings**"
   ]
  },
  {
   "cell_type": "code",
   "execution_count": 5,
   "id": "2f9d0cd3",
   "metadata": {
    "ExecuteTime": {
     "end_time": "2023-05-15T13:13:38.015273Z",
     "start_time": "2023-05-15T13:13:37.909613Z"
    },
    "colab": {
     "base_uri": "https://localhost:8080/",
     "height": 348
    },
    "id": "CUrLRQ_ROcPF",
    "outputId": "2f249dc7-3be3-41b6-925a-47bf7421eea6"
   },
   "outputs": [
    {
     "data": {
      "image/png": "[encoded data removed]",
      "text/plain": [
       "<Figure size 1200x500 with 1 Axes>"
      ]
     },
     "metadata": {},
     "output_type": "display_data"
    }
   ],
   "source": [
    "# Fix the figure size\n",
    "plt.figure(figsize = (12, 5))\n",
    "\n",
    "ax = sns.countplot(x = \"stars\", data = data)\n",
    "\n",
    "plt.tick_params(labelsize = 10)\n",
    "\n",
    "plt.title(\"Distribution of Ratings \", fontsize = 10)\n",
    "\n",
    "# Set the xlabel of the plot\n",
    "plt.xlabel(\"Ratings\", fontsize = 10)\n",
    "\n",
    "# Set the ylabel of the plot\n",
    "plt.ylabel(\"Number of Ratings\", fontsize = 10)\n",
    "\n",
    "# Display the plot\n",
    "plt.show()"
   ]
  },
  {
   "cell_type": "markdown",
   "id": "c0f91629",
   "metadata": {
    "id": "CSVbvZIKjjEw"
   },
   "source": [
    "**Observations:**\n",
    "\n",
    "* The data seems to be **highly skewed** towards Rating **'4' and '5'**. Rating **'5'** is the second-highest in the count and nearly the same as the number of 4 rating count. \n",
    "\n",
    "* We can see very few people are giving ratings **between 1 to 3**. It shows people tend to **not give a rating** for a restaurant that they **don't like**."
   ]
  },
  {
   "cell_type": "markdown",
   "id": "cad45bfa",
   "metadata": {
    "id": "0RuNopldN13K"
   },
   "source": [
    "##### **What is the total number of unique users and unique restaurants**?"
   ]
  },
  {
   "cell_type": "code",
   "execution_count": 6,
   "id": "e020eb52",
   "metadata": {
    "ExecuteTime": {
     "end_time": "2023-05-15T13:13:38.032109Z",
     "start_time": "2023-05-15T13:13:38.016460Z"
    },
    "colab": {
     "base_uri": "https://localhost:8080/"
    },
    "id": "YOZ6XVLFO0Gp",
    "outputId": "e1fda1f8-b90d-427f-a2cb-8a216f00b9a1"
   },
   "outputs": [
    {
     "data": {
      "text/plain": [
       "45981"
      ]
     },
     "execution_count": 6,
     "metadata": {},
     "output_type": "execute_result"
    }
   ],
   "source": [
    "# Number of unique users\n",
    "data['user_id'].nunique()"
   ]
  },
  {
   "cell_type": "code",
   "execution_count": 7,
   "id": "f7b857b0",
   "metadata": {
    "ExecuteTime": {
     "end_time": "2023-05-15T13:13:38.045592Z",
     "start_time": "2023-05-15T13:13:38.033108Z"
    },
    "colab": {
     "base_uri": "https://localhost:8080/"
    },
    "id": "TIWPpCYQPO3r",
    "outputId": "bbc6b717-2672-465c-a283-aee74c00247a"
   },
   "outputs": [
    {
     "data": {
      "text/plain": [
       "11537"
      ]
     },
     "execution_count": 7,
     "metadata": {},
     "output_type": "execute_result"
    }
   ],
   "source": [
    "# Number of unique restaurants\n",
    "data['business_id'].nunique()"
   ]
  },
  {
   "cell_type": "markdown",
   "id": "fe0e9dbb",
   "metadata": {
    "id": "rGEyKaQGPZ1G"
   },
   "source": [
    "**Observations:**\n",
    "- There are **45,981 unique users** in the dataset.\n",
    "- There are **11,537 unique restaurants** in the dataset.\n",
    "- As per the number of unique users and restaurants, there is a **possibility of 45,981 * 11,537 = ~53 x 10^7 ratings** in the dataset. But **we only have 2,29,907 ratings**, i.e., not every user has rated every restaurant in the dataset. And we can build a recommendation system to recommend a restaurant to users which they have not visited."
   ]
  },
  {
   "cell_type": "markdown",
   "id": "63b14b18",
   "metadata": {
    "id": "MwpzHxsOjjEx"
   },
   "source": [
    "#### **Is there any restaurant that has been visited more than once by the same user?**"
   ]
  },
  {
   "cell_type": "code",
   "execution_count": 8,
   "id": "9175abf5",
   "metadata": {
    "ExecuteTime": {
     "end_time": "2023-05-15T13:13:38.126143Z",
     "start_time": "2023-05-15T13:13:38.046761Z"
    },
    "colab": {
     "base_uri": "https://localhost:8080/"
    },
    "id": "JkARqCs5ThYp",
    "outputId": "f1115927-cc9b-40c9-e09d-9ba89ca0d0b9"
   },
   "outputs": [
    {
     "data": {
      "text/plain": [
       "229907"
      ]
     },
     "execution_count": 8,
     "metadata": {},
     "output_type": "execute_result"
    }
   ],
   "source": [
    "# Find the sum of total ratings count by each user restaurant pair\n",
    "data.groupby(['user_id', 'business_id']).count()['stars'].sum()"
   ]
  },
  {
   "cell_type": "markdown",
   "id": "72551162",
   "metadata": {
    "id": "rCphg_XYTdhw"
   },
   "source": [
    "- The **sum is equal to the total number of observations** which implies **there is only interaction between a pair of restaurants and a user**."
   ]
  },
  {
   "cell_type": "markdown",
   "id": "abf9c5dd",
   "metadata": {
    "id": "kRzTNcF4UOZe"
   },
   "source": [
    "#### **Which restaurant is the most reviewed restaurant in the dataset?**"
   ]
  },
  {
   "cell_type": "code",
   "execution_count": 9,
   "id": "c03c5104",
   "metadata": {
    "ExecuteTime": {
     "end_time": "2023-05-15T13:13:38.145758Z",
     "start_time": "2023-05-15T13:13:38.128969Z"
    },
    "colab": {
     "base_uri": "https://localhost:8080/"
    },
    "id": "c9alX6NvUWM9",
    "outputId": "05b1b26b-5c3b-4439-d054-9fba95048283"
   },
   "outputs": [
    {
     "data": {
      "text/plain": [
       "hW0Ne_HTHEAgGF1rAdmR-g    844\n",
       "VVeogjZya58oiTxK7qUjAQ    794\n",
       "JokKtdXU7zXHcr20Lrk29A    731\n",
       "ntN85eu27C04nwyPa8IHtw    679\n",
       "EWMwV5V9BxNs_U6nNVMeqw    645\n",
       "                         ... \n",
       "-NbEHP2GHFNb5PnmJnd4qQ      3\n",
       "QICgwHWhXIbihfcMKtws8g      3\n",
       "sAwxt4I4gTiL-08nyarJbg      3\n",
       "huzUWI5YqkJEEIudo0YiDg      3\n",
       "SeCVec3f91bEdosAILE4JA      3\n",
       "Name: business_id, Length: 11537, dtype: int64"
      ]
     },
     "execution_count": 9,
     "metadata": {},
     "output_type": "execute_result"
    }
   ],
   "source": [
    "data['business_id'].value_counts()"
   ]
  },
  {
   "cell_type": "markdown",
   "id": "c6eefdea",
   "metadata": {
    "id": "-prdXG21UcPa"
   },
   "source": [
    "**Observations:**\n",
    "- The **restaurant with business_id hW0Ne_HTHEAgGF1rAdmR-g  has been interacted by most users** which is **844** times.\n",
    "- But still, there is a possibility of **45,981-844 = 45,137** more interactions as we have **45,981** unique users in our dataset. For those  **remaining users**, we can build a **recommendation system** to predict who is most likely to visit this restaurant.\n",
    "\n",
    "Also, out of these **844 interactions**, we need to consider the distribution of ratings as well to check whether this restaurant is the **most liked or most disliked restaurant**."
   ]
  },
  {
   "cell_type": "code",
   "execution_count": 10,
   "id": "0496b269",
   "metadata": {
    "ExecuteTime": {
     "end_time": "2023-05-15T13:13:38.221088Z",
     "start_time": "2023-05-15T13:13:38.146628Z"
    },
    "colab": {
     "base_uri": "https://localhost:8080/",
     "height": 439
    },
    "id": "GpDBZPQZVsj4",
    "outputId": "7f8c3aad-f565-4ded-8e80-8d830b080c81"
   },
   "outputs": [
    {
     "data": {
      "image/png": "[encoded data removed]",
      "text/plain": [
       "<Figure size 700x700 with 1 Axes>"
      ]
     },
     "metadata": {},
     "output_type": "display_data"
    }
   ],
   "source": [
    "# Plotting distributions of ratings for 844 interactions with given business_id\n",
    "plt.figure(figsize = (7, 7))\n",
    "\n",
    "data[data['business_id'] == \"hW0Ne_HTHEAgGF1rAdmR-g\"]['stars'].value_counts().plot(kind = 'bar')\n",
    "\n",
    "# Name the xlabel of the plot\n",
    "plt.xlabel('Rating')\n",
    "\n",
    "# Name the ylabel of the plot\n",
    "plt.ylabel('Count')\n",
    "\n",
    "# Display the plot\n",
    "plt.show()"
   ]
  },
  {
   "cell_type": "markdown",
   "id": "8ac1148c",
   "metadata": {
    "id": "VLWBcnx9V1JA"
   },
   "source": [
    "**Observations:**\n",
    "- We can see that **this restaurant is not liked by many of the users**, as the count of ratings 3 and 4 is higher than the count of other ratings.\n",
    "- There can be restaurants with very high interactions but the count of ratings **1 and 2** may be much higher than **4 or 5** which would imply that the restaurant is disliked by the majority of the users."
   ]
  },
  {
   "cell_type": "markdown",
   "id": "2071b403",
   "metadata": {
    "id": "n5vLBbvMXr_u"
   },
   "source": [
    "#### **Which user visited the most to any restaurant in the dataset?**"
   ]
  },
  {
   "cell_type": "code",
   "execution_count": 11,
   "id": "98799a50",
   "metadata": {
    "ExecuteTime": {
     "end_time": "2023-05-15T13:13:38.248968Z",
     "start_time": "2023-05-15T13:13:38.222163Z"
    },
    "colab": {
     "base_uri": "https://localhost:8080/"
    },
    "id": "Jdu_uCtWXx3v",
    "outputId": "a872f764-2c71-495b-d54d-2a85b21af825"
   },
   "outputs": [
    {
     "data": {
      "text/plain": [
       "fczQCSmaWF78toLEmb0Zsw    588\n",
       "90a6z--_CUrl84aCzZyPsg    506\n",
       "0CMz8YaO3f8xu4KqQgKb9Q    473\n",
       "4ozupHULqGyO42s3zNUzOQ    442\n",
       "joIzw_aUiNvBTuGoytrH7g    392\n",
       "                         ... \n",
       "Oh9OOyDSGf4eNWGiNazh8g      1\n",
       "Np9IEqnLmhRB2T5jumPTGw      1\n",
       "g0-ejhzvo0ELNp04cUKWDg      1\n",
       "M0lyA1jF0zrXZr5TXlioTQ      1\n",
       "dDNfSFT0VApxPmURclX6_g      1\n",
       "Name: user_id, Length: 45981, dtype: int64"
      ]
     },
     "execution_count": 11,
     "metadata": {},
     "output_type": "execute_result"
    }
   ],
   "source": [
    "data['user_id'].value_counts()"
   ]
  },
  {
   "cell_type": "markdown",
   "id": "38c256eb",
   "metadata": {
    "id": "l1H6aArqX4-R"
   },
   "source": [
    "**Observations:**\n",
    "- The user with **user_id fczQCSmaWF78toLEmb0Zsw** has interacted with the most number of restaurants, i.e., **588** times. \n",
    "- But still, there is a possibility of **11,537-588 =  10,949** more interactions as we have **11,537 unique restaurants** in our dataset. For those **10,949** remaining restaurants, we can build a recommendation system to predict which restaurants are most likely to be reviewed by this user."
   ]
  },
  {
   "cell_type": "markdown",
   "id": "491f1ea4",
   "metadata": {},
   "source": [
    "## **Data Preparation**"
   ]
  },
  {
   "cell_type": "markdown",
   "id": "83fe082a",
   "metadata": {
    "id": "ASHgxEy7jjE0"
   },
   "source": [
    "As this dataset is still quite large and has 2,29,907 observations, it is not be computationally efficient to build a model using this. Moreover, there are many users who have only rated a few restaurants and also there are restaurants which are rated by very less users. Hence we can reduce the dataset by considering certain Logical assumption.\n",
    "\n",
    "Here, we will be taking users who have given at least 100 rating, as we prefer to have some number of rating of a restaurant. "
   ]
  },
  {
   "cell_type": "code",
   "execution_count": 12,
   "id": "385c5e86",
   "metadata": {
    "ExecuteTime": {
     "end_time": "2023-05-15T13:13:38.291139Z",
     "start_time": "2023-05-15T13:13:38.250217Z"
    },
    "id": "bFPuhsFTjjE0"
   },
   "outputs": [],
   "source": [
    "# Get the column containing the users\n",
    "users = data.user_id\n",
    "\n",
    "# Create a dictionary from users to their number of ratings\n",
    "ratings_count = dict()\n",
    "\n",
    "for user in users:\n",
    "    # If we already have the user, just add 1 to their rating count\n",
    "    if user in ratings_count:\n",
    "        ratings_count[user] += 1\n",
    "    # Otherwise, set their rating count to 1\n",
    "    else:\n",
    "        ratings_count[user] = 1   "
   ]
  },
  {
   "cell_type": "code",
   "execution_count": 13,
   "id": "11f0fb97",
   "metadata": {
    "ExecuteTime": {
     "end_time": "2023-05-15T13:13:38.313402Z",
     "start_time": "2023-05-15T13:13:38.292180Z"
    },
    "id": "KXq1ERpmjjE0"
   },
   "outputs": [],
   "source": [
    "# We want our users to have at least 100 ratings to be considered\n",
    "RATINGS_CUTOFF = 100\n",
    "\n",
    "remove_users = []\n",
    "\n",
    "for user, num_ratings in ratings_count.items():\n",
    "    if num_ratings < RATINGS_CUTOFF:\n",
    "        remove_users.append(user)\n",
    "df_final = data.loc[ ~ data.user_id.isin(remove_users)]"
   ]
  },
  {
   "cell_type": "markdown",
   "id": "292183ec",
   "metadata": {
    "id": "bY1YCD83jjE2"
   },
   "source": [
    "**As we have now explored the data, let's start building the Recommendation systems**\n",
    "\n",
    "## Model 1: **Building Rank-Based Recommendation System**"
   ]
  },
  {
   "cell_type": "markdown",
   "id": "3931f337",
   "metadata": {
    "id": "39OHK_btdUZi"
   },
   "source": [
    "Rank-based recommendation system provides recommendations based on the most popular items. This kind of recommendation system is useful when we have **cold start** problems. Cold start refers to the issue when **we get a new user into the system** and the machine is not able to recommend a restaurant to the new user, as the user did not have any historical interactions in the dataset. In those cases, we can use a rank-based recommendation system to recommend a restaurant to the new user."
   ]
  },
  {
   "cell_type": "markdown",
   "id": "5846586c",
   "metadata": {
    "id": "ni97omaOdfEs"
   },
   "source": [
    "To build the rank-based recommendation system, we take the **average** of all the ratings provided to each restaurant and then rank them based on their average rating."
   ]
  },
  {
   "cell_type": "code",
   "execution_count": 14,
   "id": "329b3894",
   "metadata": {
    "ExecuteTime": {
     "end_time": "2023-05-15T13:13:38.365845Z",
     "start_time": "2023-05-15T13:13:38.314572Z"
    },
    "id": "n4Uwutcydhvp"
   },
   "outputs": [],
   "source": [
    "# Calculating average ratings\n",
    "average_rating = data.groupby('business_id').mean()['stars']\n",
    "\n",
    "# Calculating the count of ratings\n",
    "count_rating = data.groupby('business_id').count()['stars']\n",
    "\n",
    "# Making a dataframe with the count and average of ratings\n",
    "final_rating = pd.DataFrame({'avg_rating': average_rating, 'rating_count': count_rating})"
   ]
  },
  {
   "cell_type": "code",
   "execution_count": 15,
   "id": "ce8c7921",
   "metadata": {
    "ExecuteTime": {
     "end_time": "2023-05-15T13:13:38.370705Z",
     "start_time": "2023-05-15T13:13:38.366703Z"
    },
    "colab": {
     "base_uri": "https://localhost:8080/",
     "height": 238
    },
    "id": "4GpnSzIod5Cy",
    "outputId": "ecad3b62-cca9-4284-82d8-0f0d9ae0d77d"
   },
   "outputs": [
    {
     "data": {
      "text/html": [
       "<div><div id=3ccb85a8-9832-4bdc-a749-8ea2c167a902 style=\"display:none; background-color:#9D6CFF; color:white; width:200px; height:30px; padding-left:5px; border-radius:4px; flex-direction:row; justify-content:space-around; align-items:center;\" onmouseover=\"this.style.backgroundColor='#BA9BF8'\" onmouseout=\"this.style.backgroundColor='#9D6CFF'\" onclick=\"window.commands?.execute('create-mitosheet-from-dataframe-output');\">See Full Dataframe in Mito</div> <script> if (window.commands?.hasCommand('create-mitosheet-from-dataframe-output')) document.getElementById('3ccb85a8-9832-4bdc-a749-8ea2c167a902').style.display = 'flex' </script> <table border=\"1\" class=\"dataframe\">\n",
       "  <thead>\n",
       "    <tr style=\"text-align: right;\">\n",
       "      <th></th>\n",
       "      <th>avg_rating</th>\n",
       "      <th>rating_count</th>\n",
       "    </tr>\n",
       "    <tr>\n",
       "      <th>business_id</th>\n",
       "      <th></th>\n",
       "      <th></th>\n",
       "    </tr>\n",
       "  </thead>\n",
       "  <tbody>\n",
       "    <tr>\n",
       "      <th>--5jkZ3-nUPZxUvtcbr8Uw</th>\n",
       "      <td>4.545455</td>\n",
       "      <td>11</td>\n",
       "    </tr>\n",
       "    <tr>\n",
       "      <th>--BlvDO_RG2yElKu9XA1_g</th>\n",
       "      <td>4.162162</td>\n",
       "      <td>37</td>\n",
       "    </tr>\n",
       "    <tr>\n",
       "      <th>-0D_CYhlD2ILkmLR0pBmnA</th>\n",
       "      <td>4.000000</td>\n",
       "      <td>5</td>\n",
       "    </tr>\n",
       "    <tr>\n",
       "      <th>-0QBrNvhrPQCaeo7mTo0zQ</th>\n",
       "      <td>4.333333</td>\n",
       "      <td>3</td>\n",
       "    </tr>\n",
       "    <tr>\n",
       "      <th>-0bUDim5OGuv8R0Qqq6J4A</th>\n",
       "      <td>2.333333</td>\n",
       "      <td>6</td>\n",
       "    </tr>\n",
       "  </tbody>\n",
       "</table></div>"
      ],
      "text/plain": [
       "                        avg_rating  rating_count\n",
       "business_id                                     \n",
       "--5jkZ3-nUPZxUvtcbr8Uw    4.545455            11\n",
       "--BlvDO_RG2yElKu9XA1_g    4.162162            37\n",
       "-0D_CYhlD2ILkmLR0pBmnA    4.000000             5\n",
       "-0QBrNvhrPQCaeo7mTo0zQ    4.333333             3\n",
       "-0bUDim5OGuv8R0Qqq6J4A    2.333333             6"
      ]
     },
     "execution_count": 15,
     "metadata": {},
     "output_type": "execute_result"
    }
   ],
   "source": [
    "# Let us see the first 5 records of the final_rating\n",
    "final_rating.head()"
   ]
  },
  {
   "cell_type": "markdown",
   "id": "4ee6294f",
   "metadata": {
    "id": "U0SjqtdKd9uw"
   },
   "source": [
    "Now, let's create a function to find the **top n restaurant** for a recommendation based on the average ratings of the restaurant. We can also add a **threshold for a minimum number of visits** for a restaurant to be considered for recommendation. "
   ]
  },
  {
   "cell_type": "code",
   "execution_count": 16,
   "id": "3b990fc6",
   "metadata": {
    "ExecuteTime": {
     "end_time": "2023-05-15T13:13:38.373526Z",
     "start_time": "2023-05-15T13:13:38.371598Z"
    },
    "id": "TYBO0-l6eF7m"
   },
   "outputs": [],
   "source": [
    "def top_n_restaurant(data, n, min_interaction = 100):\n",
    "    \n",
    "    # Finding restautants with minimum number of interactions\n",
    "    recommendations = data[data['rating_count'] > min_interaction]\n",
    "    \n",
    "    # Sorting values with respect to average rating\n",
    "    recommendations = recommendations.sort_values(by = 'avg_rating', ascending = False)\n",
    "    \n",
    "    return recommendations.index[:n]"
   ]
  },
  {
   "cell_type": "markdown",
   "id": "334a49f8",
   "metadata": {
    "id": "APPrKZVCeNA3"
   },
   "source": [
    "We can **use this function with different n's and minimum interactions** to get restaurants to recommend."
   ]
  },
  {
   "cell_type": "markdown",
   "id": "20b57991",
   "metadata": {
    "id": "3Tt5ympFegrJ"
   },
   "source": [
    "#### **Recommending top 5 restaurant with 50 minimum interactions based on popularity.**"
   ]
  },
  {
   "cell_type": "code",
   "execution_count": 17,
   "id": "9935da78",
   "metadata": {
    "ExecuteTime": {
     "end_time": "2023-05-15T13:13:38.377798Z",
     "start_time": "2023-05-15T13:13:38.374562Z"
    },
    "colab": {
     "base_uri": "https://localhost:8080/"
    },
    "id": "XkitWq_eekn8",
    "outputId": "21da4ae7-60a9-4e15-c573-fe8cad566671"
   },
   "outputs": [
    {
     "data": {
      "text/plain": [
       "['8HQ8clouLGgee99KkR4vXA',\n",
       " 'CKjcewWeWvdJ7TzOQbZOIw',\n",
       " '97Z7j4vH0kfzL10AONi4uA',\n",
       " '_TekkyyFeX_8MBepPIxuTg',\n",
       " 'L-uPZxooP_ziXCtRrWi8Pw']"
      ]
     },
     "execution_count": 17,
     "metadata": {},
     "output_type": "execute_result"
    }
   ],
   "source": [
    "list(top_n_restaurant(final_rating, 5, 50))"
   ]
  },
  {
   "cell_type": "markdown",
   "id": "377304f8",
   "metadata": {
    "id": "8INGb5fsjjE3"
   },
   "source": [
    "Now, that we have seen **how to apply the Rank-Based Recommendation System**, let's apply the **Collaborative Filtering Based Recommendation System**."
   ]
  },
  {
   "cell_type": "markdown",
   "id": "ugkFNZcOwNcO",
   "metadata": {
    "id": "ugkFNZcOwNcO"
   },
   "source": [
    "## **Model 2: Collaborative Filtering Based Recommendation System**"
   ]
  },
  {
   "cell_type": "markdown",
   "id": "d1be30b8",
   "metadata": {
    "id": "QoSujZuuvOOK"
   },
   "source": [
    "In this type of recommendation system, `we do not need any information` about the users or items. We only need user item interaction data to build a collaborative recommendation system. For example - \n",
    "<ol>\n",
    "    <li><b>Ratings</b> provided by users. For example - ratings of books on goodread, movie ratings on imdb etc.</li>\n",
    "    <li><b>Likes</b> of users on different facebook posts, likes on youtube videos.</li>\n",
    "    <li><b>Use/buying</b> of a product by users. For example - buying different items on e-commerce sites.</li>\n",
    "    <li><b>Reading</b> of articles by readers on various blogs.</li>\n",
    "</ol>"
   ]
  },
  {
   "cell_type": "markdown",
   "id": "b6a9c624",
   "metadata": {
    "id": "A_3GtPzuvOOK"
   },
   "source": [
    "#### Types of Collaborative Filtering"
   ]
  },
  {
   "cell_type": "markdown",
   "id": "321e4c6d",
   "metadata": {
    "id": "igZX3WbqvOOK"
   },
   "source": [
    "- Similarity/Neighborhood-based\n",
    " * User-User Similarity-Based  \n",
    " * Item-Item Similarity-based\n",
    "- Model based"
   ]
  },
  {
   "cell_type": "markdown",
   "id": "4e72bdcd",
   "metadata": {
    "id": "skzc0N1_nVNB"
   },
   "source": [
    "### **Building a baseline user-user similarity based recommendation system.**"
   ]
  },
  {
   "cell_type": "code",
   "execution_count": 18,
   "id": "f2cb7c30",
   "metadata": {
    "ExecuteTime": {
     "end_time": "2023-05-15T13:13:38.391540Z",
     "start_time": "2023-05-15T13:13:38.378813Z"
    },
    "id": "UJ1wEylUpexj"
   },
   "outputs": [],
   "source": [
    "# To compute the accuracy of models\n",
    "from surprise import accuracy\n",
    "\n",
    "# This class is used to parse a file containing ratings, data should be in structure - user; item; rating\n",
    "from surprise.reader import Reader\n",
    "\n",
    "# Class for loading datasets\n",
    "from surprise.dataset import Dataset\n",
    "\n",
    "# For tuning model hyperparameters\n",
    "from surprise.model_selection import GridSearchCV\n",
    "\n",
    "# For splitting the rating data in train and test datasets\n",
    "from surprise.model_selection import train_test_split\n",
    "\n",
    "# For implementing similarity-based recommendation system\n",
    "from surprise.prediction_algorithms.knns import KNNBasic\n",
    "\n",
    "# For implementing matrix factorization based recommendation system\n",
    "from surprise.prediction_algorithms.matrix_factorization import SVD\n",
    "\n",
    "# For implementing K-Fold cross-validation\n",
    "from surprise.model_selection import KFold\n",
    "\n",
    "# For implementing clustering-based recommendation system\n",
    "from surprise import CoClustering"
   ]
  },
  {
   "cell_type": "markdown",
   "id": "8eb3d1b2",
   "metadata": {
    "id": "54MqVAtDTsnl"
   },
   "source": [
    "**Before building the recommendation systems, let's understand some basic terminologies we will be using here.**"
   ]
  },
  {
   "cell_type": "markdown",
   "id": "62483575",
   "metadata": {
    "id": "Qsxb3xhnTsnl"
   },
   "source": [
    "**Relevant item:** An item (product in this case) that is actually **rated higher than the threshold rating (here 3.5)** is relevant, if the **actual rating is below the threshold then it is a non-relevant item**.  \n",
    "\n",
    "**Recommended item:** An item that's **predicted rating is higher than the threshold (here 3.5) is a recommended item**, if the **predicted rating is below the threshold then that product will not be recommended to the user**."
   ]
  },
  {
   "cell_type": "markdown",
   "id": "71158966",
   "metadata": {
    "id": "imMJNF0HTsnm"
   },
   "source": [
    "**False Negative (FN):** It is the **frequency of relevant items that are not recommended to the user**. If the relevant items are not recommended to the user, then the user might not buy the product/item. This would result in the **loss of opportunity for the service provider**, which the company would like to minimize.\n",
    "\n",
    "**False Positive (FP):** It is the **frequency of recommended items that are actually not relevant**. In this case, the recommendation system is not doing a good job of finding and recommending the relevant items to the user. This would result in **loss of resources for the service provider**, which they would also like to minimize."
   ]
  },
  {
   "cell_type": "markdown",
   "id": "3cd368a5",
   "metadata": {
    "id": "_sxNAAcIP7uG"
   },
   "source": [
    "**Recall:** It is the **fraction of actually relevant items that are recommended to the user**, i.e., if out of 10 relevant products, 6 are recommended to the user then recall is 0.60. Higher the value of recall better is the model. It is one of the metrics to do the performance assessment of classification models.\n",
    "\n",
    "**Precision:** It is the **fraction of recommended items that are relevant actually**, i.e., if out of 10 recommended items, 6 are found relevant by the user then precision is 0.60. The higher the value of precision better is the model. It is one of the metrics to do the performance assessment of classification models."
   ]
  },
  {
   "cell_type": "markdown",
   "id": "e4615a0c",
   "metadata": {
    "id": "s_3YSym0P9x0"
   },
   "source": [
    "**While making a recommendation system, it becomes customary to look at the performance of the model. In terms of how many recommendations are relevant and vice-versa, below are some most used performance metrics used in the assessment of recommendation systems.**"
   ]
  },
  {
   "cell_type": "markdown",
   "id": "0623e5c3",
   "metadata": {
    "id": "XJT2GfniQA6p"
   },
   "source": [
    "### **Precision@k, Recall@ k, and F1-score@k**"
   ]
  },
  {
   "cell_type": "markdown",
   "id": "08d32e85",
   "metadata": {
    "id": "XnSY425jQDLl"
   },
   "source": [
    "**Precision@k** - It is the **fraction of recommended items that are relevant in `top k` predictions**. The value of k is the number of recommendations to be provided to the user. One can choose a variable number of recommendations to be given to a unique user.  \n",
    "\n",
    "\n",
    "**Recall@k** - It is the **fraction of relevant items that are recommended to the user in `top k` predictions**.\n",
    "\n",
    "**F1-score@k** - It is the **harmonic mean of Precision@k and Recall@k**. When **precision@k and recall@k both seem to be important** then it is useful to use this metric because it is representative of both of them. "
   ]
  },
  {
   "cell_type": "markdown",
   "id": "3e9b2a95",
   "metadata": {
    "id": "jBW4BUhWTsnm"
   },
   "source": [
    "### **Some useful functions**"
   ]
  },
  {
   "cell_type": "markdown",
   "id": "055a275f",
   "metadata": {
    "id": "QOBHKh0eTsnm"
   },
   "source": [
    "- Below function takes the **recommendation model** as input and gives the **precision@k and recall@k** for that model.  \n",
    "- To compute **precision and recall**, **top k** predictions are taken under consideration for each user."
   ]
  },
  {
   "cell_type": "code",
   "execution_count": 19,
   "id": "c136863c",
   "metadata": {
    "ExecuteTime": {
     "end_time": "2023-05-15T13:13:38.396953Z",
     "start_time": "2023-05-15T13:13:38.392532Z"
    },
    "id": "Rxn-GahOTsnm"
   },
   "outputs": [],
   "source": [
    "def precision_recall_at_k(model, k = 10, threshold = 3.5):\n",
    "    \"\"\"Returns precision and recall at k metrics for each user.\"\"\"\n",
    "\n",
    "    # First map the predictions to each user\n",
    "    user_est_true = defaultdict(list)\n",
    "    \n",
    "    # Making predictions on the test data\n",
    "    predictions = model.test(testset)\n",
    "    \n",
    "    for uid, _, true_r, est, _ in predictions:\n",
    "        user_est_true[uid].append((est, true_r))\n",
    "\n",
    "    precisions = dict()\n",
    "    recalls = dict()\n",
    "    for uid, user_ratings in user_est_true.items():\n",
    "\n",
    "        # Sort user ratings by estimated value\n",
    "        user_ratings.sort(key = lambda x: x[0], reverse = True)\n",
    "\n",
    "        # Number of relevant items\n",
    "        n_rel = sum((true_r >= threshold) for (_, true_r) in user_ratings)\n",
    "\n",
    "        # Number of recommended items in top k\n",
    "        n_rec_k = sum((est >= threshold) for (est, _) in user_ratings[:k])\n",
    "\n",
    "        # Number of relevant and recommended items in top k\n",
    "        n_rel_and_rec_k = sum(((true_r >= threshold) and (est >= threshold))\n",
    "                              for (est, true_r) in user_ratings[:k])\n",
    "\n",
    "        # Precision@K: Proportion of recommended items that are relevant. When n_rec_k is 0, \n",
    "        # Precision is undefined. We here set Precision to 0 when n_rec_k is 0\n",
    "\n",
    "        precisions[uid] = n_rel_and_rec_k / n_rec_k if n_rec_k != 0 else 0\n",
    "\n",
    "        # Recall@K: Proportion of relevant items that are recommended. When n_rel is 0, \n",
    "        # Recall is undefined. We here set Recall to 0 when n_rel is 0\n",
    "\n",
    "        recalls[uid] = n_rel_and_rec_k / n_rel if n_rel != 0 else 0\n",
    "    \n",
    "    # Mean of all the predicted precisions are calculated\n",
    "    precision = round((sum(prec for prec in precisions.values()) / len(precisions)), 3)\n",
    "    \n",
    "    # Mean of all the predicted recalls are calculated\n",
    "    recall = round((sum(rec for rec in recalls.values()) / len(recalls)), 3)\n",
    "    \n",
    "    accuracy.rmse(predictions)\n",
    "\n",
    "    # Command to print the overall precision\n",
    "    print('Precision: ', precision)\n",
    "\n",
    "    # Command to print the overall recall\n",
    "    print('Recall: ', recall)\n",
    "\n",
    "    # Formula to compute the F-1 score\n",
    "    print('F_1 score: ', round((2*precision * recall) / (precision + recall), 3))"
   ]
  },
  {
   "cell_type": "markdown",
   "id": "44be6784",
   "metadata": {
    "id": "8hxjJMTwnVNB"
   },
   "source": [
    "Below we are loading the **dataset**, which is a **pandas dataframe**, into a **different format called `surprise.dataset.DatasetAutoFolds`** which is required by this library. To do this we will be **using the classes `Reader` and `Dataset`**."
   ]
  },
  {
   "cell_type": "code",
   "execution_count": 20,
   "id": "79e61a00",
   "metadata": {
    "ExecuteTime": {
     "end_time": "2023-05-15T13:13:38.433007Z",
     "start_time": "2023-05-15T13:13:38.398396Z"
    },
    "id": "rGfYDiOCpe4X"
   },
   "outputs": [],
   "source": [
    "# Instantiating Reader scale with expected rating scale\n",
    "reader = Reader(rating_scale = (0, 5))\n",
    "\n",
    "# Loading the dataset\n",
    "data = Dataset.load_from_df(df_final[['user_id', 'business_id', 'stars']], reader)\n",
    "\n",
    "# Splitting the data into train and test datasets\n",
    "trainset, testset = train_test_split(data, test_size = 0.2, random_state = 42)"
   ]
  },
  {
   "cell_type": "markdown",
   "id": "8d9ebc81",
   "metadata": {
    "id": "DmHTEt7TnVNC"
   },
   "source": [
    "- Now we are **ready to build the first baseline similarity-based recommendation system** using the cosine similarity.\n",
    "- **KNNBasic** is an algorithm that is also **associated with the surprise package**, it is used to find the **desired similar items among a given set of items**."
   ]
  },
  {
   "cell_type": "markdown",
   "id": "edf7714b",
   "metadata": {
    "id": "037otG9GTsnn"
   },
   "source": [
    "- To compute **precision and recall**, a **threshold of 3.5 and k value of 10 is taken for the recommended and relevant ratings**. \n",
    "- In the **present case precision and recall both need to be optimized as the service provider would like to minimize both the losses discussed** above. Hence, the correct performance measure is the **F_1 score**. "
   ]
  },
  {
   "cell_type": "markdown",
   "id": "79b587ab",
   "metadata": {
    "id": "C0tUWhJEmUQB"
   },
   "source": [
    "## Model 2: **Building User-User Collaborative Filtering Model**"
   ]
  },
  {
   "cell_type": "code",
   "execution_count": 21,
   "id": "e6f51a5c",
   "metadata": {
    "ExecuteTime": {
     "end_time": "2023-05-15T13:13:38.494508Z",
     "start_time": "2023-05-15T13:13:38.433988Z"
    },
    "colab": {
     "base_uri": "https://localhost:8080/"
    },
    "id": "vO3FL7iape8A",
    "outputId": "47162b08-0be1-4013-e6d7-241885e913ad",
    "scrolled": false
   },
   "outputs": [
    {
     "name": "stdout",
     "output_type": "stream",
     "text": [
      "RMSE: 1.0409\n",
      "Precision:  0.773\n",
      "Recall:  0.417\n",
      "F_1 score:  0.542\n"
     ]
    }
   ],
   "source": [
    "# Declaring the similarity options\n",
    "sim_options = {'name': 'cosine',\n",
    "               'user_based': True}\n",
    "\n",
    "# KNN algorithm is used to find desired similar items\n",
    "sim_user_user = KNNBasic(sim_options = sim_options, verbose = False, random_state = 1)\n",
    "\n",
    "# Train the algorithm on the train set, and predict ratings for the testset\n",
    "sim_user_user.fit(trainset)\n",
    "\n",
    "# Let us compute precision@k, recall@k, and f_1 score with k = 10\n",
    "precision_recall_at_k(sim_user_user)"
   ]
  },
  {
   "cell_type": "markdown",
   "id": "40beeaa3",
   "metadata": {
    "id": "nEuJK_A9Tsnn"
   },
   "source": [
    "- We have calculated **RMSE** to check **how far the overall predicted ratings** are from the **actual ratings**.\n",
    "- Intuition of Recall - We are getting a **recall of almost 0.42**, which means out of **all the relevant restaurants, 42% are recommended**. \n",
    "- Intuition of Precision - We are getting a **precision of almost 0.773**, which means **out of all the recommended restaurants 77.3% are relevant**.\n",
    "- Here **F_1 score** of the **baseline model is almost 0.542**. It indicates that **mostly recommended restaurants were relevant and relevant restaurants were recommended** to the user. We will try to improve this later by using **GridSearchCV by tuning different hyperparameters** of this algorithm."
   ]
  },
  {
   "cell_type": "markdown",
   "id": "a8762a2e",
   "metadata": {
    "id": "reFD0-nsnVNC"
   },
   "source": [
    "Let's now **predict rating for a user with `userId = rLtl8ZkDX5vH5nAx9C3q5Q` and `businessId = 9yKzy9PApeiPPOUJEtnvkg`** as shown below."
   ]
  },
  {
   "cell_type": "code",
   "execution_count": 22,
   "id": "6b74472f",
   "metadata": {
    "ExecuteTime": {
     "end_time": "2023-05-15T13:13:38.498241Z",
     "start_time": "2023-05-15T13:13:38.495498Z"
    },
    "colab": {
     "base_uri": "https://localhost:8080/"
    },
    "id": "Sxd23bZ9pe_x",
    "outputId": "23d70ffc-c747-402f-9912-b387e8da02d3"
   },
   "outputs": [
    {
     "name": "stdout",
     "output_type": "stream",
     "text": [
      "user: rLtl8ZkDX5vH5nAx9C3q5Q item: 9yKzy9PApeiPPOUJEtnvkg r_ui = 5.00   est = 3.77   {'actual_k': 16, 'was_impossible': False}\n"
     ]
    },
    {
     "data": {
      "text/plain": [
       "Prediction(uid='rLtl8ZkDX5vH5nAx9C3q5Q', iid='9yKzy9PApeiPPOUJEtnvkg', r_ui=5, est=3.7675091038953616, details={'actual_k': 16, 'was_impossible': False})"
      ]
     },
     "execution_count": 22,
     "metadata": {},
     "output_type": "execute_result"
    }
   ],
   "source": [
    "# Predicting rating for a sample user with a visited restaurant\n",
    "sim_user_user.predict(\"rLtl8ZkDX5vH5nAx9C3q5Q\", \"9yKzy9PApeiPPOUJEtnvkg\", r_ui = 5, verbose = True)"
   ]
  },
  {
   "cell_type": "markdown",
   "id": "e5b1cdae",
   "metadata": {
    "id": "QuVbIR3SnVNE"
   },
   "source": [
    "- The above output shows that **the actual rating for this user-item pair is 5 and the predicted rating is 3.77** by the **user-user-similarity-based baseline model**. This implies that the model is under-estimating the ratings."
   ]
  },
  {
   "cell_type": "markdown",
   "id": "0c1de50c",
   "metadata": {
    "id": "EXSgq8OEnVNE"
   },
   "source": [
    "Below we are **predicting rating for the same `userId = rLtl8ZkDX5vH5nAx9C3q5Q` but for a restaurant which this user has not seen yet, i.e., `business_id = zp713qNhx8d9KCJJnrw1xA`** "
   ]
  },
  {
   "cell_type": "code",
   "execution_count": 23,
   "id": "53e63f7f",
   "metadata": {
    "ExecuteTime": {
     "end_time": "2023-05-15T13:13:38.501507Z",
     "start_time": "2023-05-15T13:13:38.499173Z"
    },
    "colab": {
     "base_uri": "https://localhost:8080/"
    },
    "id": "PbFcBj1PpfEV",
    "outputId": "65298c1b-0d37-4666-ff36-8aa9a94fea7e"
   },
   "outputs": [
    {
     "name": "stdout",
     "output_type": "stream",
     "text": [
      "user: rLtl8ZkDX5vH5nAx9C3q5Q item: zp713qNhx8d9KCJJnrw1xA r_ui = None   est = 3.87   {'actual_k': 28, 'was_impossible': False}\n"
     ]
    },
    {
     "data": {
      "text/plain": [
       "Prediction(uid='rLtl8ZkDX5vH5nAx9C3q5Q', iid='zp713qNhx8d9KCJJnrw1xA', r_ui=None, est=3.873369257511826, details={'actual_k': 28, 'was_impossible': False})"
      ]
     },
     "execution_count": 23,
     "metadata": {},
     "output_type": "execute_result"
    }
   ],
   "source": [
    "# Predicting rating for a sample user with a restaurant that is not-visited by the user\n",
    "sim_user_user.predict(\"rLtl8ZkDX5vH5nAx9C3q5Q\", \"zp713qNhx8d9KCJJnrw1xA\", verbose = True)"
   ]
  },
  {
   "cell_type": "markdown",
   "id": "b60aff49",
   "metadata": {
    "id": "ejjof6csnVNF"
   },
   "source": [
    "### **Improving similarity-based recommendation system by tuning its hyper-parameters**"
   ]
  },
  {
   "cell_type": "markdown",
   "id": "f2e90b9c",
   "metadata": {
    "id": "x_kxe-_JnVNF"
   },
   "source": [
    "Below we will be tuning hyperparameters for the `KNNBasic` algorithm. Let's try to understand some of the hyperparameters of the KNNBasic algorithm:"
   ]
  },
  {
   "cell_type": "markdown",
   "id": "feb914f5",
   "metadata": {
    "id": "p2j4VvfQnVNF"
   },
   "source": [
    "- **k** (int) – The (max) number of neighbors to take into account for aggregation. The default value for k is 40.\n",
    "- **min_k** (int) – The minimum number of neighbors to take into account for aggregation. If there are not enough neighbors, the prediction is set to the global mean of all ratings. The default value for min_k is 1.\n",
    "- **sim_options** (dict) – A dictionary of options for the similarity measure. And there are four similarity measures available in surprise - \n",
    "    - cosine\n",
    "    - msd (default)\n",
    "    - Pearson\n",
    "    - Pearson baseline"
   ]
  },
  {
   "cell_type": "code",
   "execution_count": 24,
   "id": "d81d20cd",
   "metadata": {
    "ExecuteTime": {
     "end_time": "2023-05-15T13:13:39.966748Z",
     "start_time": "2023-05-15T13:13:38.502352Z"
    },
    "colab": {
     "base_uri": "https://localhost:8080/"
    },
    "id": "9LmPbSUSTsnp",
    "outputId": "3012fcb9-fae1-4d27-a694-bfdcc161c290"
   },
   "outputs": [
    {
     "name": "stdout",
     "output_type": "stream",
     "text": [
      "1.0157998200842489\n",
      "{'k': 30, 'min_k': 6, 'sim_options': {'name': 'msd', 'user_based': True}}\n"
     ]
    }
   ],
   "source": [
    "# Setting up the parameters grid to tune the hyperparameters\n",
    "param_grid = {'k': [20, 30, 40], 'min_k': [3, 6, 9],\n",
    "              'sim_options': {'name': ['msd', 'cosine'],\n",
    "                              'user_based': [True]}\n",
    "              }\n",
    "\n",
    "# Performing 3-fold cross validation to tune the hyperparameters\n",
    "gs = GridSearchCV(KNNBasic, param_grid, measures = ['rmse'], cv = 3, n_jobs = -1)\n",
    "\n",
    "# Fitting the model on the data\n",
    "gs.fit(data)\n",
    "\n",
    "# Print the best RMSE score\n",
    "print(gs.best_score['rmse'])\n",
    "\n",
    "# Print the combination of parameters that gave the best RMSE score\n",
    "print(gs.best_params['rmse'])"
   ]
  },
  {
   "cell_type": "markdown",
   "id": "c6cdb555",
   "metadata": {
    "id": "L2fHNvu7nVNF"
   },
   "source": [
    "Once the grid search is **complete**, we can get the **optimal values for each of those hyperparameters** as shown above."
   ]
  },
  {
   "cell_type": "markdown",
   "id": "11d8fab7",
   "metadata": {
    "id": "NHWgxu_YnVNG"
   },
   "source": [
    "Now let's build the **final model by using tuned values of the hyperparameters** which we received by using **grid search cross-validation**."
   ]
  },
  {
   "cell_type": "code",
   "execution_count": 25,
   "id": "2dcb5327",
   "metadata": {
    "ExecuteTime": {
     "end_time": "2023-05-15T13:13:40.034024Z",
     "start_time": "2023-05-15T13:13:39.967826Z"
    },
    "colab": {
     "base_uri": "https://localhost:8080/"
    },
    "id": "PujRJA8X_JEJ",
    "outputId": "60fe0725-d892-4cfc-cb7a-c8c22655f9c8"
   },
   "outputs": [
    {
     "name": "stdout",
     "output_type": "stream",
     "text": [
      "RMSE: 1.0060\n",
      "Precision:  0.762\n",
      "Recall:  0.413\n",
      "F_1 score:  0.536\n"
     ]
    }
   ],
   "source": [
    "# Using the optimal similarity measure for user-user-based collaborative filtering\n",
    "sim_options = {'name': 'cosine',\n",
    "               'user_based': True}\n",
    "\n",
    "# Creating an instance of KNNBasic with optimal hyperparameter values\n",
    "sim_user_user_optimized = KNNBasic(sim_options = sim_options, k = 40, min_k = 6, random_state = 1, verbose = False)\n",
    "\n",
    "# Training the algorithm on the train set\n",
    "sim_user_user_optimized.fit(trainset)\n",
    "\n",
    "# Let us compute precision@k and recall@k also with k = 10\n",
    "precision_recall_at_k(sim_user_user_optimized)"
   ]
  },
  {
   "cell_type": "markdown",
   "id": "16d8a168",
   "metadata": {
    "id": "yHsWvFjKTsnp"
   },
   "source": [
    "- We can see from above that after tuning hyperparameters, **F_1 score of the tuned model has reduced a bit as compared to the baseline model.**"
   ]
  },
  {
   "cell_type": "markdown",
   "id": "e13e2606",
   "metadata": {
    "id": "YhcAXK0CnVNG"
   },
   "source": [
    "Let's us now **predict rating for a user with `userId` = \"rLtl8ZkDX5vH5nAx9C3q5Q\", and business_id = \"9yKzy9PApeiPPOUJEtnvkg\" with the optimized model as shown below**."
   ]
  },
  {
   "cell_type": "code",
   "execution_count": 26,
   "id": "4a491bf6",
   "metadata": {
    "ExecuteTime": {
     "end_time": "2023-05-15T13:13:40.037930Z",
     "start_time": "2023-05-15T13:13:40.035077Z"
    },
    "colab": {
     "base_uri": "https://localhost:8080/"
    },
    "id": "FgV63lHiq1TV",
    "outputId": "42e116f8-17f8-4e0e-f906-02a8d856fb32"
   },
   "outputs": [
    {
     "name": "stdout",
     "output_type": "stream",
     "text": [
      "user: rLtl8ZkDX5vH5nAx9C3q5Q item: 9yKzy9PApeiPPOUJEtnvkg r_ui = 5.00   est = 3.77   {'actual_k': 16, 'was_impossible': False}\n"
     ]
    },
    {
     "data": {
      "text/plain": [
       "Prediction(uid='rLtl8ZkDX5vH5nAx9C3q5Q', iid='9yKzy9PApeiPPOUJEtnvkg', r_ui=5, est=3.7675091038953616, details={'actual_k': 16, 'was_impossible': False})"
      ]
     },
     "execution_count": 26,
     "metadata": {},
     "output_type": "execute_result"
    }
   ],
   "source": [
    "sim_user_user_optimized.predict(\"rLtl8ZkDX5vH5nAx9C3q5Q\", \"9yKzy9PApeiPPOUJEtnvkg\", r_ui = 5, verbose = True)"
   ]
  },
  {
   "cell_type": "markdown",
   "id": "8b63cb77",
   "metadata": {
    "id": "P1JLqz6mnVNH"
   },
   "source": [
    "Below we are predicting rating for the same **`userId = \"rLtl8ZkDX5vH5nAx9C3q5Q\"`** but for a restaurant which this user has **not visited before**, i.e., `business_id = zp713qNhx8d9KCJJnrw1xA`, by using the **optimized model** as shown below - "
   ]
  },
  {
   "cell_type": "code",
   "execution_count": 27,
   "id": "bb3b745e",
   "metadata": {
    "ExecuteTime": {
     "end_time": "2023-05-15T13:13:40.045670Z",
     "start_time": "2023-05-15T13:13:40.043068Z"
    },
    "colab": {
     "base_uri": "https://localhost:8080/"
    },
    "id": "HXO2Ztjhq1bN",
    "outputId": "a44c87e0-85ca-4ac3-cc9b-e1b484eb4124"
   },
   "outputs": [
    {
     "name": "stdout",
     "output_type": "stream",
     "text": [
      "user: rLtl8ZkDX5vH5nAx9C3q5Q item: zp713qNhx8d9KCJJnrw1xA r_ui = None   est = 3.87   {'actual_k': 28, 'was_impossible': False}\n"
     ]
    },
    {
     "data": {
      "text/plain": [
       "Prediction(uid='rLtl8ZkDX5vH5nAx9C3q5Q', iid='zp713qNhx8d9KCJJnrw1xA', r_ui=None, est=3.873369257511826, details={'actual_k': 28, 'was_impossible': False})"
      ]
     },
     "execution_count": 27,
     "metadata": {},
     "output_type": "execute_result"
    }
   ],
   "source": [
    "sim_user_user_optimized.predict(\"rLtl8ZkDX5vH5nAx9C3q5Q\", \"zp713qNhx8d9KCJJnrw1xA\", verbose = True)"
   ]
  },
  {
   "cell_type": "markdown",
   "id": "a9afa4d2",
   "metadata": {
    "id": "op_zwO_FnVNH"
   },
   "source": [
    "### **Identifying similar users to a given user (nearest neighbors)**"
   ]
  },
  {
   "cell_type": "markdown",
   "id": "4081a877",
   "metadata": {
    "id": "o2QsfqhanVNH"
   },
   "source": [
    "We can also find out **similar users to a given user** or its **nearest neighbors** based on this KNNBasic algorithm. Below we are finding the 5 most similar users to the first user in the list with internal id 0."
   ]
  },
  {
   "cell_type": "code",
   "execution_count": 28,
   "id": "64955f34",
   "metadata": {
    "ExecuteTime": {
     "end_time": "2023-05-15T13:13:40.048846Z",
     "start_time": "2023-05-15T13:13:40.046702Z"
    },
    "colab": {
     "base_uri": "https://localhost:8080/"
    },
    "id": "TbFle7cKmBJG",
    "outputId": "165cb9f7-8dca-4643-a006-f572c757535b"
   },
   "outputs": [
    {
     "data": {
      "text/plain": [
       "[18, 52, 79, 97, 103]"
      ]
     },
     "execution_count": 28,
     "metadata": {},
     "output_type": "execute_result"
    }
   ],
   "source": [
    "# Here 0 is the internal id of the above user\n",
    "sim_user_user_optimized.get_neighbors(0, 5)"
   ]
  },
  {
   "cell_type": "markdown",
   "id": "83dabad5",
   "metadata": {
    "id": "Z0NsrX_anVNH"
   },
   "source": [
    "### **Implementing the recommendation algorithm based on optimized KNNBasic model**"
   ]
  },
  {
   "cell_type": "markdown",
   "id": "e5e480c1",
   "metadata": {
    "id": "U3ESobDynVNI"
   },
   "source": [
    "Below we will be implementing a function where the input parameters are - \n",
    "\n",
    "- data: A **rating** dataset.\n",
    "- user_id: A user id **for which we want the recommendations**.\n",
    "- top_n: The **number of items we want to recommend**.\n",
    "- algo: The algorithm we want to use **for predicting the ratings**.\n",
    "- The output of the function is a **set of top_n items** recommended for the given user_id based on the given algorithm."
   ]
  },
  {
   "cell_type": "code",
   "execution_count": 29,
   "id": "0ac3e05d",
   "metadata": {
    "ExecuteTime": {
     "end_time": "2023-05-15T13:13:40.054489Z",
     "start_time": "2023-05-15T13:13:40.049975Z"
    },
    "colab": {
     "base_uri": "https://localhost:8080/",
     "height": 206
    },
    "id": "WqYP088-z8z1",
    "outputId": "5f19fa32-e756-49a5-d85b-b9d0d447ed67"
   },
   "outputs": [
    {
     "data": {
      "text/html": [
       "<div><div id=5ff187fc-c731-416c-92ac-263d1c936b3b style=\"display:none; background-color:#9D6CFF; color:white; width:200px; height:30px; padding-left:5px; border-radius:4px; flex-direction:row; justify-content:space-around; align-items:center;\" onmouseover=\"this.style.backgroundColor='#BA9BF8'\" onmouseout=\"this.style.backgroundColor='#9D6CFF'\" onclick=\"window.commands?.execute('create-mitosheet-from-dataframe-output');\">See Full Dataframe in Mito</div> <script> if (window.commands?.hasCommand('create-mitosheet-from-dataframe-output')) document.getElementById('5ff187fc-c731-416c-92ac-263d1c936b3b').style.display = 'flex' </script> <table border=\"1\" class=\"dataframe\">\n",
       "  <thead>\n",
       "    <tr style=\"text-align: right;\">\n",
       "      <th></th>\n",
       "      <th>business_id</th>\n",
       "      <th>stars</th>\n",
       "      <th>user_id</th>\n",
       "    </tr>\n",
       "  </thead>\n",
       "  <tbody>\n",
       "    <tr>\n",
       "      <th>0</th>\n",
       "      <td>9yKzy9PApeiPPOUJEtnvkg</td>\n",
       "      <td>5</td>\n",
       "      <td>rLtl8ZkDX5vH5nAx9C3q5Q</td>\n",
       "    </tr>\n",
       "    <tr>\n",
       "      <th>6</th>\n",
       "      <td>zp713qNhx8d9KCJJnrw1xA</td>\n",
       "      <td>5</td>\n",
       "      <td>wFweIWhv2fREZV_dYkz_1g</td>\n",
       "    </tr>\n",
       "    <tr>\n",
       "      <th>13</th>\n",
       "      <td>WGNIYMeXPyoWav1APUq7jA</td>\n",
       "      <td>4</td>\n",
       "      <td>Xm8HXE1JHqscXe5BKf0GFQ</td>\n",
       "    </tr>\n",
       "    <tr>\n",
       "      <th>18</th>\n",
       "      <td>b5cEoKR8iQliq-yT2_O0LQ</td>\n",
       "      <td>3</td>\n",
       "      <td>UsULgP4bKA8RMzs8dQzcsA</td>\n",
       "    </tr>\n",
       "    <tr>\n",
       "      <th>19</th>\n",
       "      <td>4JzzbSbK9wmlOBJZWYfuCg</td>\n",
       "      <td>4</td>\n",
       "      <td>nDBly08j5URmrHQ2JCbyiw</td>\n",
       "    </tr>\n",
       "  </tbody>\n",
       "</table></div>"
      ],
      "text/plain": [
       "               business_id  stars                 user_id\n",
       "0   9yKzy9PApeiPPOUJEtnvkg      5  rLtl8ZkDX5vH5nAx9C3q5Q\n",
       "6   zp713qNhx8d9KCJJnrw1xA      5  wFweIWhv2fREZV_dYkz_1g\n",
       "13  WGNIYMeXPyoWav1APUq7jA      4  Xm8HXE1JHqscXe5BKf0GFQ\n",
       "18  b5cEoKR8iQliq-yT2_O0LQ      3  UsULgP4bKA8RMzs8dQzcsA\n",
       "19  4JzzbSbK9wmlOBJZWYfuCg      4  nDBly08j5URmrHQ2JCbyiw"
      ]
     },
     "execution_count": 29,
     "metadata": {},
     "output_type": "execute_result"
    }
   ],
   "source": [
    "# Let us see first 5 records of the df_final dataframe\n",
    "df_final.head()"
   ]
  },
  {
   "cell_type": "code",
   "execution_count": 30,
   "id": "0b750dc1",
   "metadata": {
    "ExecuteTime": {
     "end_time": "2023-05-15T13:13:40.058344Z",
     "start_time": "2023-05-15T13:13:40.055604Z"
    },
    "id": "vW9V1Tk65HlY"
   },
   "outputs": [],
   "source": [
    "def get_recommendations(data, user_id, top_n, algo):\n",
    "    \n",
    "    # Creating an empty list to store the recommended restaurant ids\n",
    "    recommendations = []\n",
    "    \n",
    "    # Creating an user item interactions matrix\n",
    "    user_item_interactions_matrix = data.pivot_table(index = 'user_id', columns = 'business_id', values = 'stars')\n",
    "    \n",
    "    # Extracting those restaurant ids which the user_id has not visited yet\n",
    "    non_interacted_products = user_item_interactions_matrix.loc[user_id][user_item_interactions_matrix.loc[user_id].isnull()].index.tolist()\n",
    "    \n",
    "    # Looping through each of the restaurant ids which user_id has not interacted yet\n",
    "    for item_id in non_interacted_products:\n",
    "        \n",
    "        # Predicting the ratings for those non visited restaurant ids by this user\n",
    "        est = algo.predict(user_id, item_id).est\n",
    "        \n",
    "        # Appending the predicted ratings\n",
    "        recommendations.append((item_id, est))\n",
    "\n",
    "    # Sorting the predicted ratings in descending order\n",
    "    recommendations.sort(key = lambda x: x[1], reverse = True)\n",
    "\n",
    "    # Returing top n highest predicted rating restaurants for this user\n",
    "    return recommendations[:top_n]"
   ]
  },
  {
   "cell_type": "markdown",
   "id": "57986ee0",
   "metadata": {
    "id": "Oj_S7kh4nVNI"
   },
   "source": [
    "#### **Predicted top 5 business/product for userId = \"rLtl8ZkDX5vH5nAx9C3q5Q\" with similarity based recommendation system**"
   ]
  },
  {
   "cell_type": "code",
   "execution_count": 31,
   "id": "69c64582",
   "metadata": {
    "ExecuteTime": {
     "end_time": "2023-05-15T13:13:40.116499Z",
     "start_time": "2023-05-15T13:13:40.059305Z"
    },
    "id": "qWbR85mI5Hrk"
   },
   "outputs": [],
   "source": [
    "# Making top 5 recommendations for user_id \"rLtl8ZkDX5vH5nAx9C3q5Q\" with a similarity-based recommendation engine\n",
    "recommendations = get_recommendations(df_final, \"rLtl8ZkDX5vH5nAx9C3q5Q\", 5, sim_user_user)"
   ]
  },
  {
   "cell_type": "code",
   "execution_count": 32,
   "id": "b453db2d",
   "metadata": {
    "ExecuteTime": {
     "end_time": "2023-05-15T13:13:40.121042Z",
     "start_time": "2023-05-15T13:13:40.117495Z"
    },
    "colab": {
     "base_uri": "https://localhost:8080/",
     "height": 206
    },
    "id": "b5WfIX0Z6_q2",
    "outputId": "95aeb302-cedf-4a6d-962d-830c6a5b9b51"
   },
   "outputs": [
    {
     "data": {
      "text/html": [
       "<div><div id=5e9effff-3307-4348-b03f-b840691ec463 style=\"display:none; background-color:#9D6CFF; color:white; width:200px; height:30px; padding-left:5px; border-radius:4px; flex-direction:row; justify-content:space-around; align-items:center;\" onmouseover=\"this.style.backgroundColor='#BA9BF8'\" onmouseout=\"this.style.backgroundColor='#9D6CFF'\" onclick=\"window.commands?.execute('create-mitosheet-from-dataframe-output');\">See Full Dataframe in Mito</div> <script> if (window.commands?.hasCommand('create-mitosheet-from-dataframe-output')) document.getElementById('5e9effff-3307-4348-b03f-b840691ec463').style.display = 'flex' </script> <table border=\"1\" class=\"dataframe\">\n",
       "  <thead>\n",
       "    <tr style=\"text-align: right;\">\n",
       "      <th></th>\n",
       "      <th>business_id</th>\n",
       "      <th>predicted_ratings</th>\n",
       "    </tr>\n",
       "  </thead>\n",
       "  <tbody>\n",
       "    <tr>\n",
       "      <th>0</th>\n",
       "      <td>--5jkZ3-nUPZxUvtcbr8Uw</td>\n",
       "      <td>5</td>\n",
       "    </tr>\n",
       "    <tr>\n",
       "      <th>1</th>\n",
       "      <td>-7XuLxfYwZ9x72mEKXdv0A</td>\n",
       "      <td>5</td>\n",
       "    </tr>\n",
       "    <tr>\n",
       "      <th>2</th>\n",
       "      <td>-A82xEVAjOYZtDdRQw1FQw</td>\n",
       "      <td>5</td>\n",
       "    </tr>\n",
       "    <tr>\n",
       "      <th>3</th>\n",
       "      <td>-CZ78c-H3tTxpP-uQ09CWw</td>\n",
       "      <td>5</td>\n",
       "    </tr>\n",
       "    <tr>\n",
       "      <th>4</th>\n",
       "      <td>-J0jhpG0rv4saq9OMh8gXw</td>\n",
       "      <td>5</td>\n",
       "    </tr>\n",
       "  </tbody>\n",
       "</table></div>"
      ],
      "text/plain": [
       "              business_id  predicted_ratings\n",
       "0  --5jkZ3-nUPZxUvtcbr8Uw                  5\n",
       "1  -7XuLxfYwZ9x72mEKXdv0A                  5\n",
       "2  -A82xEVAjOYZtDdRQw1FQw                  5\n",
       "3  -CZ78c-H3tTxpP-uQ09CWw                  5\n",
       "4  -J0jhpG0rv4saq9OMh8gXw                  5"
      ]
     },
     "execution_count": 32,
     "metadata": {},
     "output_type": "execute_result"
    }
   ],
   "source": [
    "# Building the dataframe for above recommendations with columns \"business_id\" and \"predicted_ratings\"\n",
    "pd.DataFrame(recommendations, columns = ['business_id', 'predicted_ratings'])"
   ]
  },
  {
   "cell_type": "markdown",
   "id": "b4d99f77",
   "metadata": {
    "id": "ghwEJY2e7INB"
   },
   "source": [
    "### **Correcting the Ratings and Ranking the above products/ businesses**"
   ]
  },
  {
   "cell_type": "markdown",
   "id": "d834c6a6",
   "metadata": {
    "id": "tHi5pfJgTsnr"
   },
   "source": [
    "While comparing the ratings of two products, it is not only the **ratings** that describe the **likelihood of the user to that product**. Along with the rating the **number of users who have seen that product** also becomes important to consider. Due to this, we have calculated the **\"corrected_ratings\"** for each product. Commonly higher the **\"rating_count\" of a product more it is liked by users**. To interpret the above concept, a **product rated 4 by 3 people is less liked in comparison to a product rated 3 by 50 people**. It has been **empirically found that the likelihood of the product is directly proportional to the inverse of the square root of the rating_count of the product**."
   ]
  },
  {
   "cell_type": "code",
   "execution_count": 33,
   "id": "9cf678be",
   "metadata": {
    "ExecuteTime": {
     "end_time": "2023-05-15T13:13:40.124517Z",
     "start_time": "2023-05-15T13:13:40.121899Z"
    },
    "id": "39Hs7ZbO9v3O"
   },
   "outputs": [],
   "source": [
    "def ranking_products(recommendations, final_rating):\n",
    "    # Sort the products based on ratings count\n",
    "    ranked_products = final_rating.loc[[items[0] for items in recommendations]].sort_values('rating_count', ascending = False)[['rating_count']].reset_index()\n",
    "\n",
    "    # Merge with the recommended businesses to get predicted ratings\n",
    "    ranked_products = ranked_products.merge(pd.DataFrame(recommendations, columns = ['business_id', 'predicted_ratings']), on = 'business_id', how = 'inner')\n",
    "\n",
    "    # Rank the businesses based on corrected ratings\n",
    "    ranked_products['corrected_ratings'] = ranked_products['predicted_ratings'] - 1 / np.sqrt(ranked_products['rating_count'])\n",
    "\n",
    "    # Sort the businesses based on corrected ratings\n",
    "    ranked_products = ranked_products.sort_values('corrected_ratings', ascending = False)\n",
    "    \n",
    "    return ranked_products"
   ]
  },
  {
   "cell_type": "markdown",
   "id": "3c0a7768",
   "metadata": {
    "id": "rvPNIt6i89DY"
   },
   "source": [
    "**Note:** In the **above-corrected rating formula**, we can add the **quantity `1 / np.sqrt(n)` instead of subtracting it to get more optimistic predictions**. But here we are **subtracting this quantity**, as there are some products with ratings 5 and **we can't have a rating more than 5 for a product**."
   ]
  },
  {
   "cell_type": "code",
   "execution_count": 34,
   "id": "7ea17c21",
   "metadata": {
    "ExecuteTime": {
     "end_time": "2023-05-15T13:13:40.132093Z",
     "start_time": "2023-05-15T13:13:40.125482Z"
    },
    "colab": {
     "base_uri": "https://localhost:8080/",
     "height": 206
    },
    "id": "xoiAL_vH8miC",
    "outputId": "f181d222-c8de-4bf3-b135-c5e8c1049189"
   },
   "outputs": [
    {
     "data": {
      "text/html": [
       "<div><div id=a7ac1a6f-8def-4a9e-97c6-fd0c3a97e808 style=\"display:none; background-color:#9D6CFF; color:white; width:200px; height:30px; padding-left:5px; border-radius:4px; flex-direction:row; justify-content:space-around; align-items:center;\" onmouseover=\"this.style.backgroundColor='#BA9BF8'\" onmouseout=\"this.style.backgroundColor='#9D6CFF'\" onclick=\"window.commands?.execute('create-mitosheet-from-dataframe-output');\">See Full Dataframe in Mito</div> <script> if (window.commands?.hasCommand('create-mitosheet-from-dataframe-output')) document.getElementById('a7ac1a6f-8def-4a9e-97c6-fd0c3a97e808').style.display = 'flex' </script> <table border=\"1\" class=\"dataframe\">\n",
       "  <thead>\n",
       "    <tr style=\"text-align: right;\">\n",
       "      <th></th>\n",
       "      <th>business_id</th>\n",
       "      <th>rating_count</th>\n",
       "      <th>predicted_ratings</th>\n",
       "      <th>corrected_ratings</th>\n",
       "    </tr>\n",
       "  </thead>\n",
       "  <tbody>\n",
       "    <tr>\n",
       "      <th>0</th>\n",
       "      <td>--5jkZ3-nUPZxUvtcbr8Uw</td>\n",
       "      <td>11</td>\n",
       "      <td>5</td>\n",
       "      <td>4.698489</td>\n",
       "    </tr>\n",
       "    <tr>\n",
       "      <th>1</th>\n",
       "      <td>-J0jhpG0rv4saq9OMh8gXw</td>\n",
       "      <td>6</td>\n",
       "      <td>5</td>\n",
       "      <td>4.591752</td>\n",
       "    </tr>\n",
       "    <tr>\n",
       "      <th>2</th>\n",
       "      <td>-7XuLxfYwZ9x72mEKXdv0A</td>\n",
       "      <td>5</td>\n",
       "      <td>5</td>\n",
       "      <td>4.552786</td>\n",
       "    </tr>\n",
       "    <tr>\n",
       "      <th>3</th>\n",
       "      <td>-A82xEVAjOYZtDdRQw1FQw</td>\n",
       "      <td>5</td>\n",
       "      <td>5</td>\n",
       "      <td>4.552786</td>\n",
       "    </tr>\n",
       "    <tr>\n",
       "      <th>4</th>\n",
       "      <td>-CZ78c-H3tTxpP-uQ09CWw</td>\n",
       "      <td>3</td>\n",
       "      <td>5</td>\n",
       "      <td>4.422650</td>\n",
       "    </tr>\n",
       "  </tbody>\n",
       "</table></div>"
      ],
      "text/plain": [
       "              business_id  rating_count  predicted_ratings  corrected_ratings\n",
       "0  --5jkZ3-nUPZxUvtcbr8Uw            11                  5           4.698489\n",
       "1  -J0jhpG0rv4saq9OMh8gXw             6                  5           4.591752\n",
       "2  -7XuLxfYwZ9x72mEKXdv0A             5                  5           4.552786\n",
       "3  -A82xEVAjOYZtDdRQw1FQw             5                  5           4.552786\n",
       "4  -CZ78c-H3tTxpP-uQ09CWw             3                  5           4.422650"
      ]
     },
     "execution_count": 34,
     "metadata": {},
     "output_type": "execute_result"
    }
   ],
   "source": [
    "# Applying the ranking products function and sorting it based on corrected ratings\n",
    "ranking_products(recommendations, final_rating)"
   ]
  },
  {
   "cell_type": "markdown",
   "id": "7248688b",
   "metadata": {
    "id": "QgbzJKk7Tsnr"
   },
   "source": [
    "### Model 3: **Building Item Item Collaborative Filtering Model**"
   ]
  },
  {
   "cell_type": "markdown",
   "id": "86b1aaff",
   "metadata": {
    "id": "qTJu_2hcTsnr"
   },
   "source": [
    "* Above we have seen **similarity-based collaborative filtering** where similarity has seen **between the users**. Now let us look into similarity-based collaborative filtering where similarity is seen **between the items**. "
   ]
  },
  {
   "cell_type": "code",
   "execution_count": 35,
   "id": "04b9f49c",
   "metadata": {
    "ExecuteTime": {
     "end_time": "2023-05-15T13:13:40.960838Z",
     "start_time": "2023-05-15T13:13:40.133225Z"
    },
    "colab": {
     "base_uri": "https://localhost:8080/"
    },
    "id": "W5RMcdzjTsns",
    "outputId": "4cb1c8f1-28c4-4cbd-c534-9cc028f8fb5b",
    "scrolled": false
   },
   "outputs": [
    {
     "name": "stdout",
     "output_type": "stream",
     "text": [
      "RMSE: 1.0218\n",
      "Precision:  0.663\n",
      "Recall:  0.344\n",
      "F_1 score:  0.453\n"
     ]
    }
   ],
   "source": [
    "# Declaring the similarity options\n",
    "sim_options = {'name': 'cosine',\n",
    "               'user_based': False}\n",
    "\n",
    "# KNN algorithm is used to find desired similar items\n",
    "sim_item_item = KNNBasic(sim_options = sim_options, random_state = 1, verbose = False)\n",
    "\n",
    "# Train the algorithm on the train set, and predict ratings for the testset\n",
    "sim_item_item.fit(trainset)\n",
    "\n",
    "# Let us compute precision@k, recall@k, and f_1 score with k = 10\n",
    "precision_recall_at_k(sim_item_item)"
   ]
  },
  {
   "cell_type": "markdown",
   "id": "c6d5d522",
   "metadata": {
    "id": "ni9LoeUVTsns"
   },
   "source": [
    "- The baseline model is giving an F_1 score of **about 45%**. We will try to **improve this later by using GridSearchCV** by tuning different hyperparameters of this algorithm."
   ]
  },
  {
   "cell_type": "markdown",
   "id": "9ab0ab99",
   "metadata": {
    "id": "jFbcDQmxTsns"
   },
   "source": [
    "Let's now **predict a rating for a user with `userId = rLtl8ZkDX5vH5nAx9C3q5Q` and `business_Id = 9yKzy9PApeiPPOUJEtnvkg`** as shown below. Here the user has already interacted or visited the restaurant with businessId \"9yKzy9PApeiPPOUJEtnvkg\"."
   ]
  },
  {
   "cell_type": "code",
   "execution_count": 36,
   "id": "719e27dc",
   "metadata": {
    "ExecuteTime": {
     "end_time": "2023-05-15T13:13:40.964101Z",
     "start_time": "2023-05-15T13:13:40.961785Z"
    },
    "colab": {
     "base_uri": "https://localhost:8080/"
    },
    "id": "JsF-aaWYTsns",
    "outputId": "1627c60a-b4b9-4c63-abbf-ea485754890c"
   },
   "outputs": [
    {
     "name": "stdout",
     "output_type": "stream",
     "text": [
      "user: rLtl8ZkDX5vH5nAx9C3q5Q item: 9yKzy9PApeiPPOUJEtnvkg r_ui = 5.00   est = 3.48   {'actual_k': 40, 'was_impossible': False}\n"
     ]
    },
    {
     "data": {
      "text/plain": [
       "Prediction(uid='rLtl8ZkDX5vH5nAx9C3q5Q', iid='9yKzy9PApeiPPOUJEtnvkg', r_ui=5, est=3.475, details={'actual_k': 40, 'was_impossible': False})"
      ]
     },
     "execution_count": 36,
     "metadata": {},
     "output_type": "execute_result"
    }
   ],
   "source": [
    "# Predicting rating for a sample user with a visited restaurant\n",
    "sim_item_item.predict(\"rLtl8ZkDX5vH5nAx9C3q5Q\", \"9yKzy9PApeiPPOUJEtnvkg\", r_ui = 5, verbose = True)"
   ]
  },
  {
   "cell_type": "markdown",
   "id": "61056864",
   "metadata": {
    "id": "BqKGZoAtTsns"
   },
   "source": [
    "Below we are **predicting rating for the same `userId = rLtl8ZkDX5vH5nAx9C3q5Q` but for a restaurant which this user has not visited yet, i.e., `business_id = zp713qNhx8d9KCJJnrw1xA`** "
   ]
  },
  {
   "cell_type": "code",
   "execution_count": 37,
   "id": "aff61406",
   "metadata": {
    "ExecuteTime": {
     "end_time": "2023-05-15T13:13:40.967010Z",
     "start_time": "2023-05-15T13:13:40.964852Z"
    },
    "colab": {
     "base_uri": "https://localhost:8080/"
    },
    "id": "5yILOxXRTsns",
    "outputId": "2fb359b7-70ef-4ae8-81c0-f507aa965410"
   },
   "outputs": [
    {
     "name": "stdout",
     "output_type": "stream",
     "text": [
      "user: rLtl8ZkDX5vH5nAx9C3q5Q item: zp713qNhx8d9KCJJnrw1xA r_ui = None   est = 3.77   {'actual_k': 40, 'was_impossible': False}\n"
     ]
    },
    {
     "data": {
      "text/plain": [
       "Prediction(uid='rLtl8ZkDX5vH5nAx9C3q5Q', iid='zp713qNhx8d9KCJJnrw1xA', r_ui=None, est=3.775, details={'actual_k': 40, 'was_impossible': False})"
      ]
     },
     "execution_count": 37,
     "metadata": {},
     "output_type": "execute_result"
    }
   ],
   "source": [
    "# Predicting rating for a sample user with restaurant not visited by the user\n",
    "sim_item_item.predict(\"rLtl8ZkDX5vH5nAx9C3q5Q\", \"zp713qNhx8d9KCJJnrw1xA\", verbose = True)"
   ]
  },
  {
   "cell_type": "markdown",
   "id": "42aff5a5",
   "metadata": {
    "id": "1te2X2MHTsns"
   },
   "source": [
    "### **Improving similarity-based recommendation system by tuning its hyper-parameters**"
   ]
  },
  {
   "cell_type": "markdown",
   "id": "8af222a4",
   "metadata": {
    "id": "J3WpEMvgTsns"
   },
   "source": [
    "Below we will be **tuning hyperparameters for the `KNNBasic` algorithms**."
   ]
  },
  {
   "cell_type": "code",
   "execution_count": 38,
   "id": "c4564fef",
   "metadata": {
    "ExecuteTime": {
     "end_time": "2023-05-15T13:14:08.695339Z",
     "start_time": "2023-05-15T13:13:40.967932Z"
    },
    "colab": {
     "base_uri": "https://localhost:8080/"
    },
    "id": "f5bcZ3HgTsnt",
    "outputId": "5dc345a1-452b-4d14-82f5-bf574179c98b"
   },
   "outputs": [
    {
     "name": "stdout",
     "output_type": "stream",
     "text": [
      "Computing the cosine similarity matrix...\n",
      "Done computing similarity matrix.\n",
      "Computing the msd similarity matrix...\n",
      "Done computing similarity matrix.\n",
      "Computing the msd similarity matrix...\n",
      "Done computing similarity matrix.\n",
      "Computing the cosine similarity matrix...\n",
      "Done computing similarity matrix.\n",
      "Computing the msd similarity matrix...\n",
      "Done computing similarity matrix.\n",
      "Computing the msd similarity matrix...\n",
      "Done computing similarity matrix.\n",
      "Computing the cosine similarity matrix...\n",
      "Done computing similarity matrix.\n",
      "Computing the msd similarity matrix...\n",
      "Done computing similarity matrix.\n",
      "Computing the cosine similarity matrix...\n",
      "Done computing similarity matrix.\n",
      "Computing the msd similarity matrix...\n",
      "Done computing similarity matrix.\n",
      "Computing the msd similarity matrix...\n",
      "Done computing similarity matrix.\n",
      "Computing the msd similarity matrix...\n",
      "Done computing similarity matrix.\n",
      "Computing the cosine similarity matrix...\n",
      "Done computing similarity matrix.\n",
      "Computing the cosine similarity matrix...\n",
      "Done computing similarity matrix.\n",
      "Computing the cosine similarity matrix...\n",
      "Done computing similarity matrix.\n",
      "Computing the msd similarity matrix...\n",
      "Done computing similarity matrix.\n",
      "Computing the cosine similarity matrix...\n",
      "Done computing similarity matrix.\n",
      "Computing the msd similarity matrix...\n",
      "Done computing similarity matrix.\n",
      "Computing the cosine similarity matrix...\n",
      "Done computing similarity matrix.\n",
      "Computing the msd similarity matrix...\n",
      "Done computing similarity matrix.\n",
      "Computing the cosine similarity matrix...\n",
      "Done computing similarity matrix.\n",
      "Computing the cosine similarity matrix...\n",
      "Done computing similarity matrix.\n",
      "Computing the msd similarity matrix...\n",
      "Done computing similarity matrix.\n",
      "Computing the msd similarity matrix...\n",
      "Done computing similarity matrix.\n",
      "Computing the cosine similarity matrix...\n",
      "Done computing similarity matrix.\n",
      "Computing the cosine similarity matrix...\n",
      "Done computing similarity matrix.\n",
      "Computing the msd similarity matrix...\n",
      "Done computing similarity matrix.\n",
      "Computing the msd similarity matrix...\n",
      "Done computing similarity matrix.\n",
      "Computing the cosine similarity matrix...\n",
      "Done computing similarity matrix.\n",
      "Computing the msd similarity matrix...\n",
      "Done computing similarity matrix.\n",
      "Computing the msd similarity matrix...\n",
      "Done computing similarity matrix.\n",
      "Computing the msd similarity matrix...\n",
      "Done computing similarity matrix.\n",
      "Computing the cosine similarity matrix...\n",
      "Done computing similarity matrix.\n",
      "Computing the cosine similarity matrix...\n",
      "Done computing similarity matrix.\n",
      "Computing the cosine similarity matrix...\n",
      "Done computing similarity matrix.\n",
      "Computing the msd similarity matrix...\n",
      "Done computing similarity matrix.\n",
      "Computing the msd similarity matrix...\n",
      "Done computing similarity matrix.\n",
      "Computing the cosine similarity matrix...\n",
      "Done computing similarity matrix.\n",
      "Computing the msd similarity matrix...\n",
      "Done computing similarity matrix.\n",
      "Computing the msd similarity matrix...\n",
      "Done computing similarity matrix.\n",
      "Computing the cosine similarity matrix...\n",
      "Done computing similarity matrix.\n",
      "Computing the msd similarity matrix...\n",
      "Done computing similarity matrix.\n",
      "Computing the msd similarity matrix...\n",
      "Done computing similarity matrix.\n",
      "Computing the cosine similarity matrix...\n",
      "Done computing similarity matrix.\n",
      "Computing the msd similarity matrix...\n",
      "Done computing similarity matrix.\n",
      "Computing the msd similarity matrix...\n",
      "Done computing similarity matrix.\n",
      "Computing the cosine similarity matrix...\n",
      "Done computing similarity matrix.\n",
      "Computing the msd similarity matrix...\n",
      "Done computing similarity matrix.\n",
      "Computing the msd similarity matrix...\n",
      "Done computing similarity matrix.\n",
      "Computing the cosine similarity matrix...\n",
      "Done computing similarity matrix.\n",
      "Computing the msd similarity matrix...\n",
      "Done computing similarity matrix.\n",
      "Computing the cosine similarity matrix...\n",
      "Done computing similarity matrix.\n",
      "Computing the cosine similarity matrix...\n",
      "Done computing similarity matrix.\n",
      "Computing the msd similarity matrix...\n",
      "Done computing similarity matrix.\n",
      "Computing the msd similarity matrix...\n",
      "Done computing similarity matrix.\n",
      "Computing the cosine similarity matrix...\n",
      "Done computing similarity matrix.\n",
      "Computing the cosine similarity matrix...\n",
      "Done computing similarity matrix.\n",
      "Computing the cosine similarity matrix...\n",
      "Done computing similarity matrix.\n",
      "Computing the cosine similarity matrix...\n",
      "Done computing similarity matrix.\n",
      "Computing the msd similarity matrix...\n",
      "Done computing similarity matrix.\n",
      "Computing the cosine similarity matrix...\n",
      "Done computing similarity matrix.\n",
      "Computing the msd similarity matrix...\n",
      "Done computing similarity matrix.\n",
      "Computing the cosine similarity matrix...\n",
      "Done computing similarity matrix.\n",
      "Computing the cosine similarity matrix...\n",
      "Done computing similarity matrix.\n",
      "Computing the msd similarity matrix...\n",
      "Done computing similarity matrix.\n",
      "Computing the msd similarity matrix...\n",
      "Done computing similarity matrix.\n",
      "Computing the cosine similarity matrix...\n",
      "Done computing similarity matrix.\n",
      "Computing the msd similarity matrix...\n",
      "Done computing similarity matrix.\n",
      "Computing the cosine similarity matrix...\n",
      "Done computing similarity matrix.\n",
      "Computing the msd similarity matrix...\n",
      "Done computing similarity matrix.\n",
      "Computing the msd similarity matrix...\n",
      "Done computing similarity matrix.\n",
      "Computing the msd similarity matrix...\n",
      "Done computing similarity matrix.\n",
      "Computing the msd similarity matrix...\n",
      "Done computing similarity matrix.\n",
      "Computing the cosine similarity matrix...\n",
      "Done computing similarity matrix.\n",
      "Computing the cosine similarity matrix...\n",
      "Done computing similarity matrix.\n",
      "Computing the cosine similarity matrix...\n",
      "Done computing similarity matrix.\n",
      "Computing the msd similarity matrix...\n",
      "Done computing similarity matrix.\n",
      "Computing the cosine similarity matrix...\n",
      "Done computing similarity matrix.\n",
      "1.0088796728364966\n",
      "{'k': 30, 'min_k': 9, 'sim_options': {'name': 'msd', 'user_based': False}}\n"
     ]
    }
   ],
   "source": [
    "# Setting up parameter grid to tune the hyperparameters\n",
    "param_grid = {'k': [10, 20, 30], 'min_k': [3, 6, 9],\n",
    "              'sim_options': {'name': ['msd', 'cosine'],\n",
    "                              'user_based': [False]}\n",
    "              }\n",
    "\n",
    "# Performing 3-fold cross validation to tune the hyperparameters\n",
    "gs = GridSearchCV(KNNBasic, param_grid, measures = ['rmse'], cv = 3, n_jobs = -1)\n",
    "\n",
    "# Fitting the model on the data\n",
    "gs.fit(data)\n",
    "\n",
    "# Print the best RMSE score\n",
    "print(gs.best_score['rmse'])\n",
    "\n",
    "# Print the combination of parameters that gave the best RMSE score\n",
    "print(gs.best_params['rmse'])"
   ]
  },
  {
   "cell_type": "markdown",
   "id": "18c04230",
   "metadata": {
    "id": "1psOlx6zTsnt"
   },
   "source": [
    "Once the **grid search** is complete, we can get the **optimal values for each of those hyperparameters as shown above**"
   ]
  },
  {
   "cell_type": "markdown",
   "id": "1d61df06",
   "metadata": {
    "id": "JrSTaQemTsnt"
   },
   "source": [
    "Now let's build the **final model** by using **tuned values of the hyperparameters** which we received by using grid search cross-validation."
   ]
  },
  {
   "cell_type": "code",
   "execution_count": 39,
   "id": "cdc41591",
   "metadata": {
    "ExecuteTime": {
     "end_time": "2023-05-15T13:14:09.394468Z",
     "start_time": "2023-05-15T13:14:08.697280Z"
    },
    "colab": {
     "base_uri": "https://localhost:8080/"
    },
    "id": "dSeiM1qeTsnt",
    "outputId": "eaebf835-1559-443a-c7a9-4ccfbbc74759"
   },
   "outputs": [
    {
     "name": "stdout",
     "output_type": "stream",
     "text": [
      "Computing the cosine similarity matrix...\n",
      "Done computing similarity matrix.\n",
      "Computing the cosine similarity matrix...\n",
      "Done computing similarity matrix.\n",
      "Computing the cosine similarity matrix...\n",
      "Done computing similarity matrix.\n",
      "RMSE: 0.9986\n",
      "Precision:  0.708\n",
      "Recall:  0.375\n",
      "F_1 score:  0.49\n"
     ]
    }
   ],
   "source": [
    "# Using the optimal similarity measure for item-item based collaborative filtering\n",
    "sim_options = {'name': 'msd',\n",
    "               'user_based': False}\n",
    "\n",
    "# Creating an instance of KNNBasic with optimal hyperparameter values\n",
    "sim_item_item_optimized = KNNBasic(sim_options = sim_options, k = 30, min_k = 9, random_state = 1, verbose = False)\n",
    "\n",
    "# Training the algorithm on the train set\n",
    "sim_item_item_optimized.fit(trainset)\n",
    "\n",
    "# Let us compute precision@k and recall@k also with k = 10\n",
    "precision_recall_at_k(sim_item_item_optimized)"
   ]
  },
  {
   "cell_type": "markdown",
   "id": "4bc191bd",
   "metadata": {
    "id": "ZCXKnMI8Tsnt"
   },
   "source": [
    "- We can see from above that after tuning hyperparameters, **F_1 score of the tuned model is much better than the baseline model**. Also, there is a considerable fall in the RMSE value after tuning the hyperparameters. Hence the tuned model is doing better than the earlier one."
   ]
  },
  {
   "cell_type": "markdown",
   "id": "22368839",
   "metadata": {
    "id": "Sbcj_H94Tsnt"
   },
   "source": [
    "Let's us now predict **rating for an user with `userId = rLtl8ZkDX5vH5nAx9C3q5Q` and for `business_id = 9yKzy9PApeiPPOUJEtnvkg`** with the **optimized model** as shown below."
   ]
  },
  {
   "cell_type": "code",
   "execution_count": 40,
   "id": "fb496399",
   "metadata": {
    "ExecuteTime": {
     "end_time": "2023-05-15T13:14:09.398365Z",
     "start_time": "2023-05-15T13:14:09.395419Z"
    },
    "colab": {
     "base_uri": "https://localhost:8080/"
    },
    "id": "gIBRRvdoTsnt",
    "outputId": "e92d3951-d478-40f2-b54f-95cb7024a32f"
   },
   "outputs": [
    {
     "name": "stdout",
     "output_type": "stream",
     "text": [
      "user: rLtl8ZkDX5vH5nAx9C3q5Q item: 9yKzy9PApeiPPOUJEtnvkg r_ui = 5.00   est = 4.90   {'actual_k': 30, 'was_impossible': False}\n"
     ]
    },
    {
     "data": {
      "text/plain": [
       "Prediction(uid='rLtl8ZkDX5vH5nAx9C3q5Q', iid='9yKzy9PApeiPPOUJEtnvkg', r_ui=5, est=4.896024464831805, details={'actual_k': 30, 'was_impossible': False})"
      ]
     },
     "execution_count": 40,
     "metadata": {},
     "output_type": "execute_result"
    }
   ],
   "source": [
    "sim_item_item_optimized.predict(\"rLtl8ZkDX5vH5nAx9C3q5Q\", \"9yKzy9PApeiPPOUJEtnvkg\", r_ui = 5, verbose = True)"
   ]
  },
  {
   "cell_type": "markdown",
   "id": "141788ee",
   "metadata": {
    "id": "TLnjb2gcTsnu"
   },
   "source": [
    "- Here the optimized model is predicting a good rating (almost **4.90**) for the business whose actual rating is 5. "
   ]
  },
  {
   "cell_type": "markdown",
   "id": "23b8f632",
   "metadata": {
    "id": "QDxekjDKTsnu"
   },
   "source": [
    "Below we are **predicting rating** for the same **`userId = rLtl8ZkDX5vH5nAx9C3q5Q`** but for a restaurant which this user **has not visited before**, i.e., `business_id == zp713qNhx8d9KCJJnrw1xA`, by using the optimized model as shown below - "
   ]
  },
  {
   "cell_type": "code",
   "execution_count": 41,
   "id": "ff880fa4",
   "metadata": {
    "ExecuteTime": {
     "end_time": "2023-05-15T13:14:09.401569Z",
     "start_time": "2023-05-15T13:14:09.399215Z"
    },
    "colab": {
     "base_uri": "https://localhost:8080/"
    },
    "id": "LNEgcI9PTsnu",
    "outputId": "912729b4-15fc-4115-edda-a90b26fcf3da"
   },
   "outputs": [
    {
     "name": "stdout",
     "output_type": "stream",
     "text": [
      "user: rLtl8ZkDX5vH5nAx9C3q5Q item: zp713qNhx8d9KCJJnrw1xA r_ui = None   est = 3.71   {'actual_k': 30, 'was_impossible': False}\n"
     ]
    },
    {
     "data": {
      "text/plain": [
       "Prediction(uid='rLtl8ZkDX5vH5nAx9C3q5Q', iid='zp713qNhx8d9KCJJnrw1xA', r_ui=None, est=3.705302758867788, details={'actual_k': 30, 'was_impossible': False})"
      ]
     },
     "execution_count": 41,
     "metadata": {},
     "output_type": "execute_result"
    }
   ],
   "source": [
    "sim_item_item_optimized.predict(\"rLtl8ZkDX5vH5nAx9C3q5Q\", \"zp713qNhx8d9KCJJnrw1xA\", verbose = True)"
   ]
  },
  {
   "cell_type": "markdown",
   "id": "2ef1dcee",
   "metadata": {
    "id": "J79LG4R0Tsnu"
   },
   "source": [
    "- For an unknown business the model is predicting a rating of **3.71**."
   ]
  },
  {
   "cell_type": "markdown",
   "id": "11994926",
   "metadata": {
    "id": "MDlNB7tnTsnu"
   },
   "source": [
    "### **Identifying similar items to a given item (nearest neighbors)**"
   ]
  },
  {
   "cell_type": "markdown",
   "id": "66cfc1f6",
   "metadata": {
    "id": "RLdDiFA6Tsnu"
   },
   "source": [
    "We can also find out **similar items** to a given item or its nearest neighbors based on this **KNNBasic algorithm**. Below we are finding 5 most similar items to the item with internal id 0 based on the `msd` distance metric"
   ]
  },
  {
   "cell_type": "code",
   "execution_count": 42,
   "id": "1977833f",
   "metadata": {
    "ExecuteTime": {
     "end_time": "2023-05-15T13:14:09.406628Z",
     "start_time": "2023-05-15T13:14:09.402895Z"
    },
    "colab": {
     "base_uri": "https://localhost:8080/"
    },
    "id": "ZRJS4oDFTsnu",
    "outputId": "00ec03de-e2c0-4b0a-dfb7-238e4320026b"
   },
   "outputs": [
    {
     "data": {
      "text/plain": [
       "[21, 27, 35, 51, 57]"
      ]
     },
     "execution_count": 42,
     "metadata": {},
     "output_type": "execute_result"
    }
   ],
   "source": [
    "sim_item_item_optimized.get_neighbors(0, k = 5)"
   ]
  },
  {
   "cell_type": "markdown",
   "id": "ebfd3697",
   "metadata": {
    "id": "cgREPkBbTsnu"
   },
   "source": [
    "#### **Predicted top 5 business/product for userId = \"rLtl8ZkDX5vH5nAx9C3q5Q\" with similarity based recommendation system."
   ]
  },
  {
   "cell_type": "code",
   "execution_count": 43,
   "id": "6bfaabfd",
   "metadata": {
    "ExecuteTime": {
     "end_time": "2023-05-15T13:14:09.805961Z",
     "start_time": "2023-05-15T13:14:09.407866Z"
    },
    "id": "rzoEbuZFTsnu"
   },
   "outputs": [],
   "source": [
    "# Making top 5 recommendations for user_id rLtl8ZkDX5vH5nAx9C3q5Q with similarity-based recommendation engine\n",
    "recommendations = get_recommendations(df_final, \"rLtl8ZkDX5vH5nAx9C3q5Q\", 5, sim_item_item_optimized)"
   ]
  },
  {
   "cell_type": "code",
   "execution_count": 44,
   "id": "b6ae997b",
   "metadata": {
    "ExecuteTime": {
     "end_time": "2023-05-15T13:14:09.811092Z",
     "start_time": "2023-05-15T13:14:09.806835Z"
    },
    "colab": {
     "base_uri": "https://localhost:8080/",
     "height": 206
    },
    "id": "_kXVTiysTsnv",
    "outputId": "0ba8d10c-2575-4ff7-e8ca-02817c7198a9"
   },
   "outputs": [
    {
     "data": {
      "text/html": [
       "<div><div id=c0b7cb3a-cd09-4bf7-8600-ab47234076c2 style=\"display:none; background-color:#9D6CFF; color:white; width:200px; height:30px; padding-left:5px; border-radius:4px; flex-direction:row; justify-content:space-around; align-items:center;\" onmouseover=\"this.style.backgroundColor='#BA9BF8'\" onmouseout=\"this.style.backgroundColor='#9D6CFF'\" onclick=\"window.commands?.execute('create-mitosheet-from-dataframe-output');\">See Full Dataframe in Mito</div> <script> if (window.commands?.hasCommand('create-mitosheet-from-dataframe-output')) document.getElementById('c0b7cb3a-cd09-4bf7-8600-ab47234076c2').style.display = 'flex' </script> <table border=\"1\" class=\"dataframe\">\n",
       "  <thead>\n",
       "    <tr style=\"text-align: right;\">\n",
       "      <th></th>\n",
       "      <th>business_id</th>\n",
       "      <th>predicted_ratings</th>\n",
       "    </tr>\n",
       "  </thead>\n",
       "  <tbody>\n",
       "    <tr>\n",
       "      <th>0</th>\n",
       "      <td>5Q49MxuWJgXS649i7i2Iow</td>\n",
       "      <td>4.416667</td>\n",
       "    </tr>\n",
       "    <tr>\n",
       "      <th>1</th>\n",
       "      <td>SmY_Xw31b2xyzsKbimQiHQ</td>\n",
       "      <td>4.346154</td>\n",
       "    </tr>\n",
       "    <tr>\n",
       "      <th>2</th>\n",
       "      <td>N6ff0yyo9Cv_7XPz-YDoow</td>\n",
       "      <td>4.308696</td>\n",
       "    </tr>\n",
       "    <tr>\n",
       "      <th>3</th>\n",
       "      <td>UmFnmIoLCRe1ywY0bzpRrQ</td>\n",
       "      <td>4.307692</td>\n",
       "    </tr>\n",
       "    <tr>\n",
       "      <th>4</th>\n",
       "      <td>p204PQg45gECcYwxCAK1wA</td>\n",
       "      <td>4.307692</td>\n",
       "    </tr>\n",
       "  </tbody>\n",
       "</table></div>"
      ],
      "text/plain": [
       "              business_id  predicted_ratings\n",
       "0  5Q49MxuWJgXS649i7i2Iow           4.416667\n",
       "1  SmY_Xw31b2xyzsKbimQiHQ           4.346154\n",
       "2  N6ff0yyo9Cv_7XPz-YDoow           4.308696\n",
       "3  UmFnmIoLCRe1ywY0bzpRrQ           4.307692\n",
       "4  p204PQg45gECcYwxCAK1wA           4.307692"
      ]
     },
     "execution_count": 44,
     "metadata": {},
     "output_type": "execute_result"
    }
   ],
   "source": [
    "# Building the dataframe for above recommendations with columns \"business_id\" and \"predicted_ratings\"\n",
    "pd.DataFrame(recommendations, columns = ['business_id', 'predicted_ratings'])"
   ]
  },
  {
   "cell_type": "code",
   "execution_count": 45,
   "id": "df969e2a",
   "metadata": {
    "ExecuteTime": {
     "end_time": "2023-05-15T13:14:09.818686Z",
     "start_time": "2023-05-15T13:14:09.812106Z"
    },
    "colab": {
     "base_uri": "https://localhost:8080/",
     "height": 206
    },
    "id": "7gewfmTATsnv",
    "outputId": "41eb1dcb-04e7-4d69-deb0-9d7194f3f073"
   },
   "outputs": [
    {
     "data": {
      "text/html": [
       "<div><div id=21043d5d-f1ab-4137-b6ea-71187537084e style=\"display:none; background-color:#9D6CFF; color:white; width:200px; height:30px; padding-left:5px; border-radius:4px; flex-direction:row; justify-content:space-around; align-items:center;\" onmouseover=\"this.style.backgroundColor='#BA9BF8'\" onmouseout=\"this.style.backgroundColor='#9D6CFF'\" onclick=\"window.commands?.execute('create-mitosheet-from-dataframe-output');\">See Full Dataframe in Mito</div> <script> if (window.commands?.hasCommand('create-mitosheet-from-dataframe-output')) document.getElementById('21043d5d-f1ab-4137-b6ea-71187537084e').style.display = 'flex' </script> <table border=\"1\" class=\"dataframe\">\n",
       "  <thead>\n",
       "    <tr style=\"text-align: right;\">\n",
       "      <th></th>\n",
       "      <th>business_id</th>\n",
       "      <th>rating_count</th>\n",
       "      <th>predicted_ratings</th>\n",
       "      <th>corrected_ratings</th>\n",
       "    </tr>\n",
       "  </thead>\n",
       "  <tbody>\n",
       "    <tr>\n",
       "      <th>1</th>\n",
       "      <td>5Q49MxuWJgXS649i7i2Iow</td>\n",
       "      <td>10</td>\n",
       "      <td>4.416667</td>\n",
       "      <td>4.100439</td>\n",
       "    </tr>\n",
       "    <tr>\n",
       "      <th>0</th>\n",
       "      <td>SmY_Xw31b2xyzsKbimQiHQ</td>\n",
       "      <td>15</td>\n",
       "      <td>4.346154</td>\n",
       "      <td>4.087955</td>\n",
       "    </tr>\n",
       "    <tr>\n",
       "      <th>2</th>\n",
       "      <td>N6ff0yyo9Cv_7XPz-YDoow</td>\n",
       "      <td>7</td>\n",
       "      <td>4.308696</td>\n",
       "      <td>3.930731</td>\n",
       "    </tr>\n",
       "    <tr>\n",
       "      <th>3</th>\n",
       "      <td>UmFnmIoLCRe1ywY0bzpRrQ</td>\n",
       "      <td>4</td>\n",
       "      <td>4.307692</td>\n",
       "      <td>3.807692</td>\n",
       "    </tr>\n",
       "    <tr>\n",
       "      <th>4</th>\n",
       "      <td>p204PQg45gECcYwxCAK1wA</td>\n",
       "      <td>3</td>\n",
       "      <td>4.307692</td>\n",
       "      <td>3.730342</td>\n",
       "    </tr>\n",
       "  </tbody>\n",
       "</table></div>"
      ],
      "text/plain": [
       "              business_id  rating_count  predicted_ratings  corrected_ratings\n",
       "1  5Q49MxuWJgXS649i7i2Iow            10           4.416667           4.100439\n",
       "0  SmY_Xw31b2xyzsKbimQiHQ            15           4.346154           4.087955\n",
       "2  N6ff0yyo9Cv_7XPz-YDoow             7           4.308696           3.930731\n",
       "3  UmFnmIoLCRe1ywY0bzpRrQ             4           4.307692           3.807692\n",
       "4  p204PQg45gECcYwxCAK1wA             3           4.307692           3.730342"
      ]
     },
     "execution_count": 45,
     "metadata": {},
     "output_type": "execute_result"
    }
   ],
   "source": [
    "# Applying the ranking_products function and sorting it based on corrected ratings\n",
    "ranking_products(recommendations, final_rating)"
   ]
  },
  {
   "cell_type": "markdown",
   "id": "42885436",
   "metadata": {
    "id": "DHzmYvs0Tsnv"
   },
   "source": [
    "* Now as we have seen **similarity-based collaborative filtering algorithms**, let us now get into **model-based collaborative filtering algorithms**."
   ]
  },
  {
   "cell_type": "markdown",
   "id": "vg-ZeK9tFEs0",
   "metadata": {
    "id": "vg-ZeK9tFEs0"
   },
   "source": [
    "## **Model 4: Matrix Factorization**"
   ]
  },
  {
   "cell_type": "markdown",
   "id": "914f89b5",
   "metadata": {
    "id": "YF6ZGyqhCAob"
   },
   "source": [
    "Model-based Collaborative Filtering is a **personalized recommendation system**, the recommendations are based on the past behavior of the user and it is not dependent on any additional information. We use **latent features** to find recommendations for each user."
   ]
  },
  {
   "cell_type": "markdown",
   "id": "ac750f42",
   "metadata": {
    "id": "n4Otha8ovOOL"
   },
   "source": [
    "### **Singular Value Decomposition (SVD)**"
   ]
  },
  {
   "cell_type": "markdown",
   "id": "52a1d02d",
   "metadata": {
    "id": "3sGl3QkLvOOL"
   },
   "source": [
    "SVD is used to **compute the latent features** from the **user-item interaction matrix**. But SVD does not work when values are missing in the **user-item interaction matrix**."
   ]
  },
  {
   "cell_type": "markdown",
   "id": "2c2baa91",
   "metadata": {
    "id": "uOtkUXmAnVNL"
   },
   "source": [
    "### **Building a baseline matrix factorization recommendation system**"
   ]
  },
  {
   "cell_type": "code",
   "execution_count": 46,
   "id": "f64149ab",
   "metadata": {
    "ExecuteTime": {
     "end_time": "2023-05-15T13:14:09.978905Z",
     "start_time": "2023-05-15T13:14:09.819517Z"
    },
    "colab": {
     "base_uri": "https://localhost:8080/"
    },
    "id": "07-2PT5Ssjqm",
    "outputId": "a4764373-cede-4343-d737-ba73479f4df4"
   },
   "outputs": [
    {
     "name": "stdout",
     "output_type": "stream",
     "text": [
      "RMSE: 0.9630\n",
      "Precision:  0.77\n",
      "Recall:  0.383\n",
      "F_1 score:  0.512\n"
     ]
    }
   ],
   "source": [
    "# Using SVD matrix factorization\n",
    "svd = SVD(random_state = 1)\n",
    "\n",
    "# Training the algorithm on the train set\n",
    "svd.fit(trainset)\n",
    "\n",
    "# Let us compute precision@k and recall@k with k = 10\n",
    "precision_recall_at_k(svd)"
   ]
  },
  {
   "cell_type": "markdown",
   "id": "561b3ba5",
   "metadata": {
    "id": "BQ6fTuCDnVNL"
   },
   "source": [
    "- The baseline model with the algorithm is giving a nice F-1 score (almost **51%**). It indicates a good performance by the model."
   ]
  },
  {
   "cell_type": "markdown",
   "id": "53c173c3",
   "metadata": {
    "id": "HD2AU1DnnVNM"
   },
   "source": [
    "- Let's now predict the rating for a user with **`userId = \"rLtl8ZkDX5vH5nAx9C3q5Q`\"** and **`business_id = \"9yKzy9PApeiPPOUJEtnvkg\"`** as shown below. Here the user has already rated.."
   ]
  },
  {
   "cell_type": "code",
   "execution_count": 47,
   "id": "77be4a3c",
   "metadata": {
    "ExecuteTime": {
     "end_time": "2023-05-15T13:14:09.982168Z",
     "start_time": "2023-05-15T13:14:09.979812Z"
    },
    "colab": {
     "base_uri": "https://localhost:8080/"
    },
    "id": "yWIhfdxXsjqm",
    "outputId": "01cbd7ef-445c-4b3c-b796-c0943ac8c5e4"
   },
   "outputs": [
    {
     "name": "stdout",
     "output_type": "stream",
     "text": [
      "user: rLtl8ZkDX5vH5nAx9C3q5Q item: 9yKzy9PApeiPPOUJEtnvkg r_ui = 5.00   est = 4.16   {'was_impossible': False}\n"
     ]
    },
    {
     "data": {
      "text/plain": [
       "Prediction(uid='rLtl8ZkDX5vH5nAx9C3q5Q', iid='9yKzy9PApeiPPOUJEtnvkg', r_ui=5, est=4.155179595069889, details={'was_impossible': False})"
      ]
     },
     "execution_count": 47,
     "metadata": {},
     "output_type": "execute_result"
    }
   ],
   "source": [
    "# Making the prediction\n",
    "svd.predict(\"rLtl8ZkDX5vH5nAx9C3q5Q\", \"9yKzy9PApeiPPOUJEtnvkg\", r_ui = 5, verbose = True)"
   ]
  },
  {
   "cell_type": "markdown",
   "id": "350e26a5",
   "metadata": {
    "id": "oIjzqDY5nVNM"
   },
   "source": [
    "As we can see - **the actual rating** for this user-item pair is 5 and the predicted rating is also close to that. It seems like we have under-estimated the rating. We will try to fix this later by **tuning the hyperparameters** of the model using GridSearchCV."
   ]
  },
  {
   "cell_type": "markdown",
   "id": "5f5e837e",
   "metadata": {
    "id": "I1aYxVeMnVNM"
   },
   "source": [
    "Below we are predicting rating for the same `userId = rLtl8ZkDX5vH5nAx9C3q5Q` but for a restaurant which this user has not seen before, i.e., `business_id = zp713qNhx8d9KCJJnrw1xA`, as shown below - "
   ]
  },
  {
   "cell_type": "code",
   "execution_count": 48,
   "id": "ea18180e",
   "metadata": {
    "ExecuteTime": {
     "end_time": "2023-05-15T13:14:09.985520Z",
     "start_time": "2023-05-15T13:14:09.983064Z"
    },
    "colab": {
     "base_uri": "https://localhost:8080/"
    },
    "id": "APm-uMSvcAMf",
    "outputId": "f15e6b9d-ac67-4d9f-81d3-ecb6a27293a6"
   },
   "outputs": [
    {
     "name": "stdout",
     "output_type": "stream",
     "text": [
      "user: rLtl8ZkDX5vH5nAx9C3q5Q item: zp713qNhx8d9KCJJnrw1xA r_ui = None   est = 4.09   {'was_impossible': False}\n"
     ]
    },
    {
     "data": {
      "text/plain": [
       "Prediction(uid='rLtl8ZkDX5vH5nAx9C3q5Q', iid='zp713qNhx8d9KCJJnrw1xA', r_ui=None, est=4.09204353877637, details={'was_impossible': False})"
      ]
     },
     "execution_count": 48,
     "metadata": {},
     "output_type": "execute_result"
    }
   ],
   "source": [
    "# Making prediction using the svd model\n",
    "svd.predict(\"rLtl8ZkDX5vH5nAx9C3q5Q\", \"zp713qNhx8d9KCJJnrw1xA\", verbose = True)"
   ]
  },
  {
   "cell_type": "markdown",
   "id": "f44a8922",
   "metadata": {
    "id": "NEL6dy3wnVNM"
   },
   "source": [
    "We can see that the **estimated rating** for this **user-item pair** is ~4.10 based on this **matrix factorization based baseline model**."
   ]
  },
  {
   "cell_type": "markdown",
   "id": "642117f2",
   "metadata": {
    "id": "x13Eb9Owvpcw"
   },
   "source": [
    "### **Improving matrix factorization-based recommendation system by tuning its hyper-parameters.**"
   ]
  },
  {
   "cell_type": "markdown",
   "id": "ec72d706",
   "metadata": {
    "id": "qbd3L1d2nVNM"
   },
   "source": [
    "In SVD, rating is predicted as - "
   ]
  },
  {
   "cell_type": "markdown",
   "id": "9b8cfe23",
   "metadata": {
    "id": "Wp38lmEqnVNM"
   },
   "source": [
    "$$\\hat{r}_{u i}=\\mu+b_{u}+b_{i}+q_{i}^{T} p_{u}$$"
   ]
  },
  {
   "cell_type": "markdown",
   "id": "39b45d63",
   "metadata": {
    "id": "bHVAYuFznVNN"
   },
   "source": [
    "If user $u$ is unknown, then the bias $b_{u}$ and the factors $p_{u}$ are assumed to be zero. The same applies for item $i$ with $b_{i}$ and $q_{i}$."
   ]
  },
  {
   "cell_type": "markdown",
   "id": "549303fc",
   "metadata": {
    "id": "jCfY5mr7nVNN"
   },
   "source": [
    "To estimate all the unknown, we minimize the following regularized squared error:"
   ]
  },
  {
   "cell_type": "markdown",
   "id": "5af2e067",
   "metadata": {
    "id": "1WyyjmK7nVNN"
   },
   "source": [
    "$$\\sum_{r_{u i} \\in R_{\\text {train }}}\\left(r_{u i}-\\hat{r}_{u i}\\right)^{2}+\\lambda\\left(b_{i}^{2}+b_{u}^{2}+\\left\\|q_{i}\\right\\|^{2}+\\left\\|p_{u}\\right\\|^{2}\\right)$$"
   ]
  },
  {
   "cell_type": "markdown",
   "id": "b4c01891",
   "metadata": {
    "id": "-GBMNL9qnVNN"
   },
   "source": [
    "The minimization is performed by a very straightforward **stochastic gradient descent**:"
   ]
  },
  {
   "cell_type": "markdown",
   "id": "aa2c6bf5",
   "metadata": {
    "id": "CwJJRsJGnVNN"
   },
   "source": [
    "$$\\begin{aligned} b_{u} & \\leftarrow b_{u}+\\gamma\\left(e_{u i}-\\lambda b_{u}\\right) \\\\ b_{i} & \\leftarrow b_{i}+\\gamma\\left(e_{u i}-\\lambda b_{i}\\right) \\\\ p_{u} & \\leftarrow p_{u}+\\gamma\\left(e_{u i} \\cdot q_{i}-\\lambda p_{u}\\right) \\\\ q_{i} & \\leftarrow q_{i}+\\gamma\\left(e_{u i} \\cdot p_{u}-\\lambda q_{i}\\right) \\end{aligned}$$"
   ]
  },
  {
   "cell_type": "markdown",
   "id": "f046c28f",
   "metadata": {
    "id": "nuRjcsUknVNN"
   },
   "source": [
    "There are many hyperparameters to tune in this algorithm, you can find a full list of hyperparameters [here](https://surprise.readthedocs.io/en/stable/matrix_factorization.html#surprise.prediction_algorithms.matrix_factorization.SVD)"
   ]
  },
  {
   "cell_type": "markdown",
   "id": "6f78a4ed",
   "metadata": {
    "id": "iQcDPhhcnVNN"
   },
   "source": [
    "Below we will be tuning only three hyperparameters -\n",
    "- **n_epochs**: The number of iterations of the SVD algorithm.\n",
    "- **lr_all**: The learning rate for all parameters.\n",
    "- **reg_all**: The regularization term for all parameters."
   ]
  },
  {
   "cell_type": "code",
   "execution_count": 49,
   "id": "138bed93",
   "metadata": {
    "ExecuteTime": {
     "end_time": "2023-05-15T13:14:12.299576Z",
     "start_time": "2023-05-15T13:14:09.986466Z"
    },
    "colab": {
     "base_uri": "https://localhost:8080/"
    },
    "id": "4bM81V_hvtwv",
    "outputId": "eb519d8b-9f10-43b7-e8ec-61cc9abc7eae"
   },
   "outputs": [
    {
     "name": "stdout",
     "output_type": "stream",
     "text": [
      "0.9574911427526215\n",
      "{'n_epochs': 30, 'lr_all': 0.01, 'reg_all': 0.2}\n"
     ]
    }
   ],
   "source": [
    "# Set the parameter space to tune\n",
    "param_grid = {'n_epochs': [10, 20, 30], 'lr_all': [0.001, 0.005, 0.01],\n",
    "              'reg_all': [0.2, 0.4, 0.6]}\n",
    "\n",
    "# Performing 3-fold gridsearch cross validation\n",
    "gs = GridSearchCV(SVD, param_grid, measures = ['rmse'], cv = 3, n_jobs = -1)\n",
    "\n",
    "# Fitting the model on the data\n",
    "gs.fit(data)\n",
    "\n",
    "# Print the best RMSE score\n",
    "print(gs.best_score['rmse'])\n",
    "\n",
    "# Print the combination of parameters that gave the best RMSE score\n",
    "print(gs.best_params['rmse'])"
   ]
  },
  {
   "cell_type": "markdown",
   "id": "d38d3eb1",
   "metadata": {
    "id": "cjIaWSIAnVNN"
   },
   "source": [
    "Once the **grid search** is complete, we can get the **optimal values** for each of those hyperparameters as shown above."
   ]
  },
  {
   "cell_type": "markdown",
   "id": "b52be8f9",
   "metadata": {
    "id": "KzY78HsrnVNO"
   },
   "source": [
    "Now we will **build the final model** by using **tuned values** of the hyperparameters which we received by using grid search cross-validation."
   ]
  },
  {
   "cell_type": "code",
   "execution_count": 50,
   "id": "62c74f83",
   "metadata": {
    "ExecuteTime": {
     "end_time": "2023-05-15T13:14:12.476621Z",
     "start_time": "2023-05-15T13:14:12.300626Z"
    },
    "colab": {
     "base_uri": "https://localhost:8080/"
    },
    "id": "TA_7xe-nnhuu",
    "outputId": "fcfe9524-93ab-4d96-cdd5-f8d10ef4f3ca"
   },
   "outputs": [
    {
     "name": "stdout",
     "output_type": "stream",
     "text": [
      "RMSE: 0.9507\n",
      "Precision:  0.79\n",
      "Recall:  0.402\n",
      "F_1 score:  0.533\n"
     ]
    }
   ],
   "source": [
    "# Building the optimized SVD model using optimal hyperparameter search\n",
    "svd_optimized = SVD(n_epochs = 20, lr_all = 0.01, reg_all = 0.2, random_state = 1)\n",
    "\n",
    "# Training the algorithm on the train set\n",
    "svd_optimized = svd_optimized.fit(trainset)\n",
    "\n",
    "# Let us compute precision@k and recall@k also with k = 10\n",
    "precision_recall_at_k(svd_optimized)"
   ]
  },
  {
   "cell_type": "markdown",
   "id": "8d67e663",
   "metadata": {
    "id": "9HJvPsjITsny"
   },
   "source": [
    "- We can see from above that the **tuned model** is showing a slightly better F_1 score than the baseline model, also the RMSE has gone down. Hence the tuned model is doing better than the earlier model."
   ]
  },
  {
   "cell_type": "markdown",
   "id": "3c00d117",
   "metadata": {
    "id": "md0-dL56nVNO"
   },
   "source": [
    "Let's now predict a rating for a user with `userId = rLtl8ZkDX5vH5nAx9C3q5Q` and `BusinessId = 9yKzy9PApeiPPOUJEtnvkg` with the optimized model as shown below."
   ]
  },
  {
   "cell_type": "code",
   "execution_count": 51,
   "id": "6b977fa8",
   "metadata": {
    "ExecuteTime": {
     "end_time": "2023-05-15T13:14:12.480489Z",
     "start_time": "2023-05-15T13:14:12.477636Z"
    },
    "colab": {
     "base_uri": "https://localhost:8080/"
    },
    "id": "s6C1PAfboM8_",
    "outputId": "b5d38bf6-bafc-4e35-ff4c-956e66ee1cb4"
   },
   "outputs": [
    {
     "name": "stdout",
     "output_type": "stream",
     "text": [
      "user: rLtl8ZkDX5vH5nAx9C3q5Q item: 9yKzy9PApeiPPOUJEtnvkg r_ui = 5.00   est = 3.91   {'was_impossible': False}\n"
     ]
    },
    {
     "data": {
      "text/plain": [
       "Prediction(uid='rLtl8ZkDX5vH5nAx9C3q5Q', iid='9yKzy9PApeiPPOUJEtnvkg', r_ui=5, est=3.9075441937737696, details={'was_impossible': False})"
      ]
     },
     "execution_count": 51,
     "metadata": {},
     "output_type": "execute_result"
    }
   ],
   "source": [
    "# Using svd_algo_optimized model to recommend for userId \"rLtl8ZkDX5vH5nAx9C3q5Q\" and business_Id 9yKzy9PApeiPPOUJEtnvkg\n",
    "svd_optimized.predict(\"rLtl8ZkDX5vH5nAx9C3q5Q\", \"9yKzy9PApeiPPOUJEtnvkg\", r_ui = 5, verbose = True)"
   ]
  },
  {
   "cell_type": "markdown",
   "id": "f2b77036",
   "metadata": {
    "id": "VdiEtzEznVNO"
   },
   "source": [
    "- The predicted rating is good here for a restaurant whose actual rating is **5**. The optimized model is giving a fairly good prediction."
   ]
  },
  {
   "cell_type": "code",
   "execution_count": 52,
   "id": "2a2e093e",
   "metadata": {
    "ExecuteTime": {
     "end_time": "2023-05-15T13:14:12.483974Z",
     "start_time": "2023-05-15T13:14:12.481598Z"
    },
    "colab": {
     "base_uri": "https://localhost:8080/"
    },
    "id": "k1xjn3kOoQyg",
    "outputId": "e235e7a2-64fb-4280-d39c-e4f1b4b1b3a4"
   },
   "outputs": [
    {
     "name": "stdout",
     "output_type": "stream",
     "text": [
      "user: rLtl8ZkDX5vH5nAx9C3q5Q item: zp713qNhx8d9KCJJnrw1xA r_ui = None   est = 3.96   {'was_impossible': False}\n"
     ]
    },
    {
     "data": {
      "text/plain": [
       "Prediction(uid='rLtl8ZkDX5vH5nAx9C3q5Q', iid='zp713qNhx8d9KCJJnrw1xA', r_ui=None, est=3.963060797712287, details={'was_impossible': False})"
      ]
     },
     "execution_count": 52,
     "metadata": {},
     "output_type": "execute_result"
    }
   ],
   "source": [
    "# Using svd_optimized model to recommend for userId \"rLtl8ZkDX5vH5nAx9C3q5Q\" and businessId \"zp713qNhx8d9KCJJnrw1xA\" which the user has not visited\n",
    "svd_optimized.predict(\"rLtl8ZkDX5vH5nAx9C3q5Q\", \"zp713qNhx8d9KCJJnrw1xA\", verbose = True)"
   ]
  },
  {
   "cell_type": "markdown",
   "id": "8cb3d9ba",
   "metadata": {
    "id": "7BVcXmPOTsny"
   },
   "source": [
    "- For an unseen restaurant the rating given by the optimized model seems to be good. "
   ]
  },
  {
   "cell_type": "code",
   "execution_count": 53,
   "id": "aac08e94",
   "metadata": {
    "ExecuteTime": {
     "end_time": "2023-05-15T13:14:12.536273Z",
     "start_time": "2023-05-15T13:14:12.485213Z"
    },
    "id": "1LGeE2EB_n90"
   },
   "outputs": [],
   "source": [
    "# Getting top 5 recommendations for user_id rLtl8ZkDX5vH5nAx9C3q5Q using \"svd_optimized\" algorithm\n",
    "svd_recommendations = get_recommendations(df_final, \"rLtl8ZkDX5vH5nAx9C3q5Q\", 5, svd_optimized)"
   ]
  },
  {
   "cell_type": "code",
   "execution_count": 54,
   "id": "eacbf198",
   "metadata": {
    "ExecuteTime": {
     "end_time": "2023-05-15T13:14:12.543945Z",
     "start_time": "2023-05-15T13:14:12.537406Z"
    },
    "colab": {
     "base_uri": "https://localhost:8080/"
    },
    "id": "6ngiGSJU818M",
    "outputId": "ba6d595b-d810-4cc5-d2bd-378101b742db"
   },
   "outputs": [
    {
     "data": {
      "text/html": [
       "<div><div id=16a7e4a8-88fb-4569-b889-8f9d8d551741 style=\"display:none; background-color:#9D6CFF; color:white; width:200px; height:30px; padding-left:5px; border-radius:4px; flex-direction:row; justify-content:space-around; align-items:center;\" onmouseover=\"this.style.backgroundColor='#BA9BF8'\" onmouseout=\"this.style.backgroundColor='#9D6CFF'\" onclick=\"window.commands?.execute('create-mitosheet-from-dataframe-output');\">See Full Dataframe in Mito</div> <script> if (window.commands?.hasCommand('create-mitosheet-from-dataframe-output')) document.getElementById('16a7e4a8-88fb-4569-b889-8f9d8d551741').style.display = 'flex' </script> <table border=\"1\" class=\"dataframe\">\n",
       "  <thead>\n",
       "    <tr style=\"text-align: right;\">\n",
       "      <th></th>\n",
       "      <th>business_id</th>\n",
       "      <th>rating_count</th>\n",
       "      <th>predicted_ratings</th>\n",
       "      <th>corrected_ratings</th>\n",
       "    </tr>\n",
       "  </thead>\n",
       "  <tbody>\n",
       "    <tr>\n",
       "      <th>1</th>\n",
       "      <td>X3icXUyW9vS4UXY6V_MR4w</td>\n",
       "      <td>79</td>\n",
       "      <td>4.764319</td>\n",
       "      <td>4.651811</td>\n",
       "    </tr>\n",
       "    <tr>\n",
       "      <th>0</th>\n",
       "      <td>GwSdGrvaXi4BdXNSWKn-EA</td>\n",
       "      <td>153</td>\n",
       "      <td>4.645138</td>\n",
       "      <td>4.564293</td>\n",
       "    </tr>\n",
       "    <tr>\n",
       "      <th>2</th>\n",
       "      <td>97Z7j4vH0kfzL10AONi4uA</td>\n",
       "      <td>78</td>\n",
       "      <td>4.637496</td>\n",
       "      <td>4.524268</td>\n",
       "    </tr>\n",
       "    <tr>\n",
       "      <th>3</th>\n",
       "      <td>XRBTHOXaJK_AJ2wy5mX_1A</td>\n",
       "      <td>26</td>\n",
       "      <td>4.622570</td>\n",
       "      <td>4.426454</td>\n",
       "    </tr>\n",
       "    <tr>\n",
       "      <th>4</th>\n",
       "      <td>4SviSw8uRF0ddj_HxUVnuA</td>\n",
       "      <td>10</td>\n",
       "      <td>4.623874</td>\n",
       "      <td>4.307647</td>\n",
       "    </tr>\n",
       "  </tbody>\n",
       "</table></div>"
      ],
      "text/plain": [
       "              business_id  rating_count  predicted_ratings  corrected_ratings\n",
       "1  X3icXUyW9vS4UXY6V_MR4w            79           4.764319           4.651811\n",
       "0  GwSdGrvaXi4BdXNSWKn-EA           153           4.645138           4.564293\n",
       "2  97Z7j4vH0kfzL10AONi4uA            78           4.637496           4.524268\n",
       "3  XRBTHOXaJK_AJ2wy5mX_1A            26           4.622570           4.426454\n",
       "4  4SviSw8uRF0ddj_HxUVnuA            10           4.623874           4.307647"
      ]
     },
     "execution_count": 54,
     "metadata": {},
     "output_type": "execute_result"
    }
   ],
   "source": [
    "# Ranking products based on above recommendations\n",
    "ranking_products(svd_recommendations, final_rating)"
   ]
  },
  {
   "cell_type": "markdown",
   "id": "c076614c",
   "metadata": {
    "id": "nnwPwgjB8DwS"
   },
   "source": [
    "### **Conclusion**"
   ]
  },
  {
   "cell_type": "markdown",
   "id": "af48774a",
   "metadata": {
    "id": "WJ4L2PwQvOOM"
   },
   "source": [
    "In this case study, we built recommendation systems using five different algorithms. They are as follows:\n",
    "- rank-based using averages\n",
    "- User-user-similarity-based collaborative filtering\n",
    "- Item-item-similarity-based collaborative filtering\n",
    "- model-based (matrix factorization) collaborative filtering  \n",
    "\n",
    "- We have seen how they are different from each other and what kind of data is needed to build each of these recommendation systems. We can further combine all the recommendation techniques we have seen.  \n",
    "- To demonstrate **\"user-user-similarity-based collaborative filtering\",\"item-item-similarity-based collaborative filtering\", and \"model-based (matrix factorization) collaborative filtering\"**, **surprise** library has been introduced. For these algorithms **grid search cross-validation is applied to find the best working model**, and using that the **corresponding predictions are done**.\n",
    "\n",
    "- **For performance evaluation** of these models **precision@k and recall@k** are introduced in this case study. Using these two metrics **F_1 score** is calculated for each working model."
   ]
  },
  {
   "cell_type": "code",
   "execution_count": null,
   "id": "f417f2f3",
   "metadata": {},
   "outputs": [],
   "source": []
  }
 ],
 "metadata": {
  "colab": {
   "collapsed_sections": [],
   "name": "Recommendation_System_Yelp_Part1 (2) (1).ipynb",
   "provenance": []
  },
  "kernelspec": {
   "display_name": "Python 3 (ipykernel)",
   "language": "python",
   "name": "python3"
  },
  "language_info": {
   "codemirror_mode": {
    "name": "ipython",
    "version": 3
   },
   "file_extension": ".py",
   "mimetype": "text/x-python",
   "name": "python",
   "nbconvert_exporter": "python",
   "pygments_lexer": "ipython3",
   "version": "3.10.9"
  },
  "varInspector": {
   "cols": {
    "lenName": 16,
    "lenType": 16,
    "lenVar": 40
   },
   "kernels_config": {
    "python": {
     "delete_cmd_postfix": "",
     "delete_cmd_prefix": "del ",
     "library": "var_list.py",
     "varRefreshCmd": "print(var_dic_list())"
    },
    "r": {
     "delete_cmd_postfix": ") ",
     "delete_cmd_prefix": "rm(",
     "library": "var_list.r",
     "varRefreshCmd": "cat(var_dic_list()) "
    }
   },
   "types_to_exclude": [
    "module",
    "function",
    "builtin_function_or_method",
    "instance",
    "_Feature"
   ],
   "window_display": false
  }
 },
 "nbformat": 4,
 "nbformat_minor": 5
}
